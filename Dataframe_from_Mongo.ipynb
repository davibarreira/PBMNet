{
 "cells": [
  {
   "cell_type": "code",
   "execution_count": 39,
   "metadata": {},
   "outputs": [],
   "source": [
    "from pymongo import MongoClient\n",
    "import pandas as pd\n",
    "import json"
   ]
  },
  {
   "cell_type": "code",
   "execution_count": 2,
   "metadata": {},
   "outputs": [],
   "source": [
    "client = MongoClient()\n",
    "client = MongoClient('localhost', 27017)\n",
    "db = client['pbmnet']\n",
    "curriculos = db.curriculos"
   ]
  },
  {
   "cell_type": "code",
   "execution_count": 151,
   "metadata": {},
   "outputs": [],
   "source": [
    "# curriculos.find_one({\"PRODUCAO-BIBLIOGRAFICA.ARTIGOS-PUBLICADOS.ARTIGO-PUBLICADO.AUTORES.@NOME-PARA-CITACAO\":\"BONOTTO, E.M.\"})\n",
    "d = curriculos.find_one({},{'_id':0,'@NUMERO-IDENTIFICADOR':1,'DADOS-GERAIS.@NOME-COMPLETO': 1,\n",
    "                            'PRODUCAO-BIBLIOGRAFICA.ARTIGOS-PUBLICADOS.ARTIGO-PUBLICADO.DADOS-BASICOS-DO-ARTIGO.@TITULO-DO-ARTIGO': 1,\n",
    "                           'PRODUCAO-BIBLIOGRAFICA.ARTIGOS-PUBLICADOS.ARTIGO-PUBLICADO.DADOS-BASICOS-DO-ARTIGO.@ANO-DO-ARTIGO':1})"
   ]
  },
  {
   "cell_type": "code",
   "execution_count": 57,
   "metadata": {},
   "outputs": [
    {
     "data": {
      "text/plain": [
       "'Manuel Francisco Zuloeta Jimenez'"
      ]
     },
     "execution_count": 57,
     "metadata": {},
     "output_type": "execute_result"
    }
   ],
   "source": [
    "d['DADOS-GERAIS']['@NOME-COMPLETO']"
   ]
  },
  {
   "cell_type": "code",
   "execution_count": 162,
   "metadata": {},
   "outputs": [],
   "source": [
    "unwind = list(curriculos.aggregate([{'$match':{'@NUMERO-IDENTIFICADOR':'6115398975075240'}},\n",
    "                           {'$project':{\n",
    "        '_id':1,\n",
    "        '@NUMERO-IDENTIFICADOR':1,\n",
    "        'DADOS-GERAIS.@NOME-COMPLETO': 1,\n",
    "        'PRODUCAO-BIBLIOGRAFICA.ARTIGOS-PUBLICADOS.ARTIGO-PUBLICADO.DADOS-BASICOS-DO-ARTIGO.@TITULO-DO-ARTIGO': 1,\n",
    "        'PRODUCAO-BIBLIOGRAFICA.ARTIGOS-PUBLICADOS.ARTIGO-PUBLICADO.DADOS-BASICOS-DO-ARTIGO.@ANO-DO-ARTIGO':1\n",
    "                                       }},\n",
    "                            {'$unwind': '$PRODUCAO-BIBLIOGRAFICA.ARTIGOS-PUBLICADOS.ARTIGO-PUBLICADO'},\n",
    "                          ]))"
   ]
  },
  {
   "cell_type": "code",
   "execution_count": 163,
   "metadata": {},
   "outputs": [],
   "source": [
    "def Unest_Titulo_Artigo(cell):\n",
    "    return cell['ARTIGOS-PUBLICADOS']['ARTIGO-PUBLICADO']['DADOS-BASICOS-DO-ARTIGO']['@TITULO-DO-ARTIGO'].strip()\n",
    "\n",
    "\n",
    "def Unest_Ano_Artigo(cell):\n",
    "    return cell['ARTIGOS-PUBLICADOS']['ARTIGO-PUBLICADO']['DADOS-BASICOS-DO-ARTIGO']['@ANO-DO-ARTIGO'].strip()"
   ]
  },
  {
   "cell_type": "code",
   "execution_count": 187,
   "metadata": {},
   "outputs": [],
   "source": [
    "df = pd.DataFrame(unwind)\n",
    "\n",
    "df['DADOS-GERAIS']     = df[\"DADOS-GERAIS\"].apply(lambda cell: cell['@NOME-COMPLETO'].strip())\n",
    "df['TITULO-DO-ARTIGO'] = df[\"PRODUCAO-BIBLIOGRAFICA\"].apply(Unest_Titulo_Artigo)\n",
    "df['ANO-DO-ARTIGO']    = df[\"PRODUCAO-BIBLIOGRAFICA\"].apply(Unest_Ano_Artigo)\n",
    "df.drop(labels='PRODUCAO-BIBLIOGRAFICA',axis=1,inplace=True)"
   ]
  },
  {
   "cell_type": "code",
   "execution_count": 188,
   "metadata": {},
   "outputs": [
    {
     "data": {
      "text/html": [
       "<div>\n",
       "<style scoped>\n",
       "    .dataframe tbody tr th:only-of-type {\n",
       "        vertical-align: middle;\n",
       "    }\n",
       "\n",
       "    .dataframe tbody tr th {\n",
       "        vertical-align: top;\n",
       "    }\n",
       "\n",
       "    .dataframe thead th {\n",
       "        text-align: right;\n",
       "    }\n",
       "</style>\n",
       "<table border=\"1\" class=\"dataframe\">\n",
       "  <thead>\n",
       "    <tr style=\"text-align: right;\">\n",
       "      <th></th>\n",
       "      <th>@NUMERO-IDENTIFICADOR</th>\n",
       "      <th>DADOS-GERAIS</th>\n",
       "      <th>_id</th>\n",
       "      <th>TITULO-DO-ARTIGO</th>\n",
       "      <th>ANO-DO-ARTIGO</th>\n",
       "    </tr>\n",
       "  </thead>\n",
       "  <tbody>\n",
       "    <tr>\n",
       "      <th>0</th>\n",
       "      <td>6115398975075240</td>\n",
       "      <td>Manuel Francisco Zuloeta Jimenez</td>\n",
       "      <td>5d31b5b9a4ef2aef4f14294d</td>\n",
       "      <td>Weak almost periodic motions, minimality and s...</td>\n",
       "      <td>2014</td>\n",
       "    </tr>\n",
       "    <tr>\n",
       "      <th>1</th>\n",
       "      <td>6115398975075240</td>\n",
       "      <td>Manuel Francisco Zuloeta Jimenez</td>\n",
       "      <td>5d31b5b9a4ef2aef4f14294d</td>\n",
       "      <td>On impulsive semidynamical systems: minimal, r...</td>\n",
       "      <td>2014</td>\n",
       "    </tr>\n",
       "    <tr>\n",
       "      <th>2</th>\n",
       "      <td>6115398975075240</td>\n",
       "      <td>Manuel Francisco Zuloeta Jimenez</td>\n",
       "      <td>5d31b5b9a4ef2aef4f14294d</td>\n",
       "      <td>Negative trajectories in impulsive semidynamic...</td>\n",
       "      <td>2015</td>\n",
       "    </tr>\n",
       "    <tr>\n",
       "      <th>3</th>\n",
       "      <td>6115398975075240</td>\n",
       "      <td>Manuel Francisco Zuloeta Jimenez</td>\n",
       "      <td>5d31b5b9a4ef2aef4f14294d</td>\n",
       "      <td>Convergence for non-autonomous semidynamical s...</td>\n",
       "      <td>2019</td>\n",
       "    </tr>\n",
       "  </tbody>\n",
       "</table>\n",
       "</div>"
      ],
      "text/plain": [
       "  @NUMERO-IDENTIFICADOR                      DADOS-GERAIS  \\\n",
       "0      6115398975075240  Manuel Francisco Zuloeta Jimenez   \n",
       "1      6115398975075240  Manuel Francisco Zuloeta Jimenez   \n",
       "2      6115398975075240  Manuel Francisco Zuloeta Jimenez   \n",
       "3      6115398975075240  Manuel Francisco Zuloeta Jimenez   \n",
       "\n",
       "                        _id  \\\n",
       "0  5d31b5b9a4ef2aef4f14294d   \n",
       "1  5d31b5b9a4ef2aef4f14294d   \n",
       "2  5d31b5b9a4ef2aef4f14294d   \n",
       "3  5d31b5b9a4ef2aef4f14294d   \n",
       "\n",
       "                                    TITULO-DO-ARTIGO ANO-DO-ARTIGO  \n",
       "0  Weak almost periodic motions, minimality and s...          2014  \n",
       "1  On impulsive semidynamical systems: minimal, r...          2014  \n",
       "2  Negative trajectories in impulsive semidynamic...          2015  \n",
       "3  Convergence for non-autonomous semidynamical s...          2019  "
      ]
     },
     "execution_count": 188,
     "metadata": {},
     "output_type": "execute_result"
    }
   ],
   "source": [
    "df"
   ]
  },
  {
   "cell_type": "code",
   "execution_count": 175,
   "metadata": {},
   "outputs": [
    {
     "data": {
      "text/plain": [
       "{'ARTIGOS-PUBLICADOS': {'ARTIGO-PUBLICADO': {'DADOS-BASICOS-DO-ARTIGO': {'@TITULO-DO-ARTIGO': 'Weak almost periodic motions, minimality and stability in impulsive semidynamical systems',\n",
       "    '@ANO-DO-ARTIGO': '2014'}}}}"
      ]
     },
     "execution_count": 175,
     "metadata": {},
     "output_type": "execute_result"
    }
   ],
   "source": [
    "df = pd.DataFrame(unwind)\n",
    "df['PRODUCAO-BIBLIOGRAFICA'].iloc[0][]"
   ]
  },
  {
   "cell_type": "code",
   "execution_count": 128,
   "metadata": {},
   "outputs": [
    {
     "data": {
      "text/plain": [
       "'Weak almost periodic motions, minimality and stability in impulsive semidynamical systems'"
      ]
     },
     "execution_count": 128,
     "metadata": {},
     "output_type": "execute_result"
    }
   ],
   "source": [
    "df['PRODUCAO-BIBLIOGRAFICA'].iloc[0]['ARTIGOS-PUBLICADOS']['ARTIGO-PUBLICADO']['DADOS-BASICOS-DO-ARTIGO']['@TITULO-DO-ARTIGO']"
   ]
  }
 ],
 "metadata": {
  "kernelspec": {
   "display_name": "Python3(datascience)",
   "language": "python",
   "name": "datascience"
  },
  "language_info": {
   "codemirror_mode": {
    "name": "ipython",
    "version": 3
   },
   "file_extension": ".py",
   "mimetype": "text/x-python",
   "name": "python",
   "nbconvert_exporter": "python",
   "pygments_lexer": "ipython3",
   "version": "3.6.8"
  }
 },
 "nbformat": 4,
 "nbformat_minor": 2
}
