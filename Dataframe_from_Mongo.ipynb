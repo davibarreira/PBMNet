{
 "cells": [
  {
   "cell_type": "markdown",
   "metadata": {},
   "source": [
    "# Querying from Mongo DataBase\n",
    "\n",
    "In this notebook, we'll make querys to our Mongo database and create a pandas dataframe. \n",
    "\n",
    "-----\n",
    "\n",
    "**First things first, let's import some things...**"
   ]
  },
  {
   "cell_type": "code",
   "execution_count": 5,
   "metadata": {},
   "outputs": [],
   "source": [
    "import json\n",
    "import pandas as pd\n",
    "from pymongo import MongoClient"
   ]
  },
  {
   "cell_type": "markdown",
   "metadata": {},
   "source": [
    "<br>\n",
    "\n",
    "**Creating a Mongo Client**"
   ]
  },
  {
   "cell_type": "code",
   "execution_count": 6,
   "metadata": {},
   "outputs": [],
   "source": [
    "client = MongoClient()\n",
    "client = MongoClient('localhost', 27017)\n",
    "db = client['pbmnet']\n",
    "curriculos = db.curriculos"
   ]
  },
  {
   "cell_type": "markdown",
   "metadata": {},
   "source": [
    "<br>\n",
    "\n",
    "**Querying...**"
   ]
  },
  {
   "cell_type": "code",
   "execution_count": 7,
   "metadata": {},
   "outputs": [],
   "source": [
    "# curriculos.find_one({\"PRODUCAO-BIBLIOGRAFICA.ARTIGOS-PUBLICADOS.ARTIGO-PUBLICADO.AUTORES.@NOME-PARA-CITACAO\":\"BONOTTO, E.M.\"})\n",
    "d = curriculos.find_one({},{'_id':0,'@NUMERO-IDENTIFICADOR':1,'DADOS-GERAIS.@NOME-COMPLETO': 1,\n",
    "                            'PRODUCAO-BIBLIOGRAFICA.ARTIGOS-PUBLICADOS.ARTIGO-PUBLICADO.DADOS-BASICOS-DO-ARTIGO.@TITULO-DO-ARTIGO': 1,\n",
    "                           'PRODUCAO-BIBLIOGRAFICA.ARTIGOS-PUBLICADOS.ARTIGO-PUBLICADO.DADOS-BASICOS-DO-ARTIGO.@ANO-DO-ARTIGO':1})"
   ]
  },
  {
   "cell_type": "code",
   "execution_count": 8,
   "metadata": {},
   "outputs": [
    {
     "data": {
      "text/plain": [
       "{'@NUMERO-IDENTIFICADOR': '6115398975075240',\n",
       " 'DADOS-GERAIS': {'@NOME-COMPLETO': 'Manuel Francisco Zuloeta Jimenez'},\n",
       " 'PRODUCAO-BIBLIOGRAFICA': {'ARTIGOS-PUBLICADOS': {'ARTIGO-PUBLICADO': [{'DADOS-BASICOS-DO-ARTIGO': {'@TITULO-DO-ARTIGO': 'Weak almost periodic motions, minimality and stability in impulsive semidynamical systems',\n",
       "      '@ANO-DO-ARTIGO': '2014'}},\n",
       "    {'DADOS-BASICOS-DO-ARTIGO': {'@TITULO-DO-ARTIGO': 'On impulsive semidynamical systems: minimal, recurrent and almost periodic motions',\n",
       "      '@ANO-DO-ARTIGO': '2014'}},\n",
       "    {'DADOS-BASICOS-DO-ARTIGO': {'@TITULO-DO-ARTIGO': 'Negative trajectories in impulsive semidynamical systems',\n",
       "      '@ANO-DO-ARTIGO': '2015'}},\n",
       "    {'DADOS-BASICOS-DO-ARTIGO': {'@TITULO-DO-ARTIGO': 'Convergence for non-autonomous semidynamical systems with impulses',\n",
       "      '@ANO-DO-ARTIGO': '2019'}}]}}}"
      ]
     },
     "execution_count": 8,
     "metadata": {},
     "output_type": "execute_result"
    }
   ],
   "source": [
    "d"
   ]
  },
  {
   "cell_type": "code",
   "execution_count": 9,
   "metadata": {},
   "outputs": [
    {
     "data": {
      "text/plain": [
       "'Manuel Francisco Zuloeta Jimenez'"
      ]
     },
     "execution_count": 9,
     "metadata": {},
     "output_type": "execute_result"
    }
   ],
   "source": [
    "d['DADOS-GERAIS']['@NOME-COMPLETO']"
   ]
  },
  {
   "cell_type": "code",
   "execution_count": 107,
   "metadata": {},
   "outputs": [],
   "source": [
    "unwind = list(curriculos.aggregate([\n",
    "                           {'$project':{\n",
    "        '_id':1,\n",
    "        '@NUMERO-IDENTIFICADOR':1,\n",
    "        'DADOS-GERAIS.@NOME-COMPLETO': 1,\n",
    "        'DADOS-GERAIS.ENDERECO.ENDERECO-PROFISSIONAL.@NOME-INSTITUICAO-EMPRESA':1,\n",
    "        'DADOS-GERAIS.ENDERECO.ENDERECO-PROFISSIONAL.@CODIGO-INSTITUICAO-EMPRESA':1,\n",
    "        'DADOS-GERAIS.ENDERECO.ENDERECO-PROFISSIONAL.@PAIS':1,\n",
    "        'DADOS-GERAIS.ENDERECO.ENDERECO-PROFISSIONAL.@UF':1,\n",
    "        'DADOS-GERAIS.@PAIS-DE-NACIONALIDADE': 1,\n",
    "        'DADOS-GERAIS.@NOME-EM-CITACOES-BIBLIOGRAFICAS': 1,\n",
    "        'PRODUCAO-BIBLIOGRAFICA.ARTIGOS-PUBLICADOS.ARTIGO-PUBLICADO.DADOS-BASICOS-DO-ARTIGO.@TITULO-DO-ARTIGO': 1,\n",
    "        'PRODUCAO-BIBLIOGRAFICA.ARTIGOS-PUBLICADOS.ARTIGO-PUBLICADO.DADOS-BASICOS-DO-ARTIGO.@ANO-DO-ARTIGO':1,\n",
    "        'PRODUCAO-BIBLIOGRAFICA.ARTIGOS-PUBLICADOS.ARTIGO-PUBLICADO.DETALHAMENTO-DO-ARTIGO.@TITULO-DO-PERIODICO-OU-REVISTA':1,\n",
    "        'PRODUCAO-BIBLIOGRAFICA.ARTIGOS-PUBLICADOS.ARTIGO-PUBLICADO.PALAVRAS-CHAVE':1\n",
    "                                       }},\n",
    "                            {'$unwind': '$PRODUCAO-BIBLIOGRAFICA.ARTIGOS-PUBLICADOS.ARTIGO-PUBLICADO'},\n",
    "                          ]))"
   ]
  },
  {
   "cell_type": "code",
   "execution_count": 115,
   "metadata": {},
   "outputs": [],
   "source": [
    "def Unest_Titulo_Artigo(cell):\n",
    "    return cell['ARTIGOS-PUBLICADOS']['ARTIGO-PUBLICADO']['DADOS-BASICOS-DO-ARTIGO']['@TITULO-DO-ARTIGO'].strip()\n",
    "\n",
    "def Unest_Endereco_Nome(cell):\n",
    "    try:\n",
    "        value = cell['ENDERECO']['ENDERECO-PROFISSIONAL']['@NOME-INSTITUICAO-EMPRESA']\n",
    "    except:\n",
    "        value = None\n",
    "    return value\n",
    "def Unest_Endereco_UF_Insituicao(cell):\n",
    "    try:\n",
    "        value = cell['ENDERECO']['ENDERECO-PROFISSIONAL']['@UF']\n",
    "    except:\n",
    "        value = None\n",
    "    return value\n",
    "def Unest_Endereco_Pais_Insituicao(cell):\n",
    "    try:\n",
    "        value = cell['ENDERECO']['ENDERECO-PROFISSIONAL']['@PAIS']\n",
    "    except:\n",
    "        value = None\n",
    "    return value\n",
    "\n",
    "def Unest_Endereco_Codigo(cell):\n",
    "    try:\n",
    "        value = cell['ENDERECO']['ENDERECO-PROFISSIONAL']['@CODIGO-INSTITUICAO-EMPRESA']\n",
    "    except:\n",
    "        value = None\n",
    "    return value\n",
    "\n",
    "def Unest_Nacionalidade(cell):\n",
    "    try:\n",
    "        value = cell['@PAIS-DE-NACIONALIDADE']\n",
    "    except:\n",
    "        value = None\n",
    "    return value\n",
    "\n",
    "def Unest_Ano_Artigo(cell):\n",
    "    return cell['ARTIGOS-PUBLICADOS']['ARTIGO-PUBLICADO']['DADOS-BASICOS-DO-ARTIGO']['@ANO-DO-ARTIGO'].strip()\n",
    "\n",
    "def Unest_Palavras_Chave(cell):\n",
    "    try:\n",
    "        value = cell['ARTIGOS-PUBLICADOS']['ARTIGO-PUBLICADO']['PALAVRAS-CHAVE']\n",
    "    except:\n",
    "        value = None\n",
    "    return value\n",
    "\n",
    "def Unest_Journal(cell):\n",
    "    try:\n",
    "        value = cell['ARTIGOS-PUBLICADOS']['ARTIGO-PUBLICADO']['DETALHAMENTO-DO-ARTIGO']['@TITULO-DO-PERIODICO-OU-REVISTA'].strip()\n",
    "    except:\n",
    "        value = None\n",
    "    return value"
   ]
  },
  {
   "cell_type": "code",
   "execution_count": 111,
   "metadata": {},
   "outputs": [
    {
     "data": {
      "text/plain": [
       "{'_id': ObjectId('5d31b5b9a4ef2aef4f14294d'),\n",
       " '@NUMERO-IDENTIFICADOR': '6115398975075240',\n",
       " 'DADOS-GERAIS': {'@NOME-COMPLETO': 'Manuel Francisco Zuloeta Jimenez',\n",
       "  '@NOME-EM-CITACOES-BIBLIOGRAFICAS': 'M. Z. Jimenez;M. Z. JIMENEZ;JIMENEZ, M. Z.;JIMENEZ, M.Z.',\n",
       "  '@PAIS-DE-NACIONALIDADE': 'Peru',\n",
       "  'ENDERECO': {'ENDERECO-PROFISSIONAL': {'@CODIGO-INSTITUICAO-EMPRESA': '198100000000',\n",
       "    '@NOME-INSTITUICAO-EMPRESA': 'Universidade Tecnológica Federal do Paraná',\n",
       "    '@PAIS': 'Brasil',\n",
       "    '@UF': 'PR'}}},\n",
       " 'PRODUCAO-BIBLIOGRAFICA': {'ARTIGOS-PUBLICADOS': {'ARTIGO-PUBLICADO': {'DADOS-BASICOS-DO-ARTIGO': {'@TITULO-DO-ARTIGO': 'Weak almost periodic motions, minimality and stability in impulsive semidynamical systems',\n",
       "     '@ANO-DO-ARTIGO': '2014'},\n",
       "    'DETALHAMENTO-DO-ARTIGO': {'@TITULO-DO-PERIODICO-OU-REVISTA': 'Journal of Differential Equations (Print)'},\n",
       "    'PALAVRAS-CHAVE': {'@PALAVRA-CHAVE-1': 'Sistemas semidinâmicos Impulsivos',\n",
       "     '@PALAVRA-CHAVE-2': 'Weak almost periodic motions',\n",
       "     '@PALAVRA-CHAVE-3': 'Minimality',\n",
       "     '@PALAVRA-CHAVE-4': 'Stability',\n",
       "     '@PALAVRA-CHAVE-5': '',\n",
       "     '@PALAVRA-CHAVE-6': ''}}}}}"
      ]
     },
     "execution_count": 111,
     "metadata": {},
     "output_type": "execute_result"
    }
   ],
   "source": [
    "unwind[0]"
   ]
  },
  {
   "cell_type": "code",
   "execution_count": 112,
   "metadata": {},
   "outputs": [],
   "source": [
    "def Separar_Palavras_Chave(cell):\n",
    "    if cell == None:\n",
    "        return None\n",
    "    return '|'.join([i for i in cell.values()])\n"
   ]
  },
  {
   "cell_type": "code",
   "execution_count": 116,
   "metadata": {},
   "outputs": [],
   "source": [
    "df = pd.DataFrame(unwind)\n",
    "\n",
    "df['NOME-COMPLETO']     = df[\"DADOS-GERAIS\"].apply(lambda cell: cell['@NOME-COMPLETO'].strip())\n",
    "df['NOME-INSTITUICAO']  = df[\"DADOS-GERAIS\"].apply(Unest_Endereco_Nome)\n",
    "df['UF-INSTITUICAO']    = df[\"DADOS-GERAIS\"].apply(Unest_Endereco_UF_Insituicao)\n",
    "df['PAIS-INSTITUICAO']  = df[\"DADOS-GERAIS\"].apply(Unest_Endereco_Pais_Insituicao)\n",
    "df['PAIS']              = df[\"DADOS-GERAIS\"].apply(Unest_Nacionalidade)\n",
    "df['NOME-CITACOES']     = df[\"DADOS-GERAIS\"].apply(lambda cell: cell['@NOME-EM-CITACOES-BIBLIOGRAFICAS'].strip())\n",
    "df['CODIGO-INSTITUICAO']= df[\"DADOS-GERAIS\"].apply(Unest_Endereco_Codigo)\n",
    "df['TITULO-DO-ARTIGO']  = df[\"PRODUCAO-BIBLIOGRAFICA\"].apply(Unest_Titulo_Artigo)\n",
    "df['ANO-DO-ARTIGO']     = df[\"PRODUCAO-BIBLIOGRAFICA\"].apply(Unest_Ano_Artigo)\n",
    "df['JOURNAL']           = df['PRODUCAO-BIBLIOGRAFICA'].apply(Unest_Journal)\n",
    "df['PALAVRAS-CHAVE-ARTIGO'] = df[\"PRODUCAO-BIBLIOGRAFICA\"].apply(Unest_Palavras_Chave)\n",
    "df['PALAVRAS-CHAVE-ARTIGO'] = df['PALAVRAS-CHAVE-ARTIGO'].apply(Separar_Palavras_Chave)\n",
    "\n",
    "df.drop(labels=['PRODUCAO-BIBLIOGRAFICA','DADOS-GERAIS'],axis=1,inplace=True)"
   ]
  },
  {
   "cell_type": "code",
   "execution_count": 118,
   "metadata": {
    "scrolled": false
   },
   "outputs": [],
   "source": [
    "df.to_csv(\"./views/Autor_Artigo_Dataframe.csv\",sep=';',encoding='latin-1')"
   ]
  },
  {
   "cell_type": "code",
   "execution_count": null,
   "metadata": {},
   "outputs": [],
   "source": []
  }
 ],
 "metadata": {
  "kernelspec": {
   "display_name": "Python3(datascience)",
   "language": "python",
   "name": "datascience"
  },
  "language_info": {
   "codemirror_mode": {
    "name": "ipython",
    "version": 3
   },
   "file_extension": ".py",
   "mimetype": "text/x-python",
   "name": "python",
   "nbconvert_exporter": "python",
   "pygments_lexer": "ipython3",
   "version": "3.6.8"
  }
 },
 "nbformat": 4,
 "nbformat_minor": 2
}
