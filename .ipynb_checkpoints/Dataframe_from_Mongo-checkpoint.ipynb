{
 "cells": [
  {
   "cell_type": "markdown",
   "metadata": {},
   "source": [
    "# Querying from Mongo DataBase\n",
    "\n",
    "In this notebook, we'll make querys to our Mongo database and create a pandas dataframe. \n",
    "\n",
    "-----\n",
    "\n",
    "**First things first, let's import some things...**"
   ]
  },
  {
   "cell_type": "code",
   "execution_count": 72,
   "metadata": {},
   "outputs": [],
   "source": [
    "import json\n",
    "import pandas as pd\n",
    "from pymongo import MongoClient"
   ]
  },
  {
   "cell_type": "markdown",
   "metadata": {},
   "source": [
    "<br>\n",
    "\n",
    "**Creating a Mongo Client**"
   ]
  },
  {
   "cell_type": "code",
   "execution_count": 73,
   "metadata": {},
   "outputs": [],
   "source": [
    "client = MongoClient()\n",
    "client = MongoClient('localhost', 27017)\n",
    "db = client['pbmnet']\n",
    "curriculos = db.curriculos"
   ]
  },
  {
   "cell_type": "markdown",
   "metadata": {},
   "source": [
    "<br>\n",
    "\n",
    "**Querying...**\n",
    "\n",
    "## Collecting 'Author-Paper'\n",
    "\n",
    "Dataframe to create a Network"
   ]
  },
  {
   "cell_type": "code",
   "execution_count": 74,
   "metadata": {},
   "outputs": [],
   "source": [
    "# curriculos.find_one({\"PRODUCAO-BIBLIOGRAFICA.ARTIGOS-PUBLICADOS.ARTIGO-PUBLICADO.AUTORES.@NOME-PARA-CITACAO\":\"BONOTTO, E.M.\"})\n",
    "d = curriculos.find_one({},{'_id':0,'@NUMERO-IDENTIFICADOR':1,'DADOS-GERAIS.@NOME-COMPLETO': 1,\n",
    "                            'PRODUCAO-BIBLIOGRAFICA.ARTIGOS-PUBLICADOS.ARTIGO-PUBLICADO.DADOS-BASICOS-DO-ARTIGO.@TITULO-DO-ARTIGO': 1,\n",
    "                           'PRODUCAO-BIBLIOGRAFICA.ARTIGOS-PUBLICADOS.ARTIGO-PUBLICADO.DADOS-BASICOS-DO-ARTIGO.@ANO-DO-ARTIGO':1})"
   ]
  },
  {
   "cell_type": "code",
   "execution_count": 75,
   "metadata": {},
   "outputs": [
    {
     "data": {
      "text/plain": [
       "'Manuel Francisco Zuloeta Jimenez'"
      ]
     },
     "execution_count": 75,
     "metadata": {},
     "output_type": "execute_result"
    }
   ],
   "source": [
    "d['DADOS-GERAIS']['@NOME-COMPLETO']"
   ]
  },
  {
   "cell_type": "code",
   "execution_count": 76,
   "metadata": {},
   "outputs": [],
   "source": [
    "unwind = list(curriculos.aggregate([\n",
    "                           {'$project':{\n",
    "        '_id':1,\n",
    "        '@NUMERO-IDENTIFICADOR':1,\n",
    "        'DADOS-GERAIS.@NOME-COMPLETO': 1,\n",
    "        'DADOS-GERAIS.ENDERECO.ENDERECO-PROFISSIONAL.@NOME-INSTITUICAO-EMPRESA':1,\n",
    "        'DADOS-GERAIS.ENDERECO.ENDERECO-PROFISSIONAL.@CODIGO-INSTITUICAO-EMPRESA':1,\n",
    "        'DADOS-GERAIS.ENDERECO.ENDERECO-PROFISSIONAL.@PAIS':1,\n",
    "        'DADOS-GERAIS.ENDERECO.ENDERECO-PROFISSIONAL.@UF':1,\n",
    "        'DADOS-GERAIS.@PAIS-DE-NACIONALIDADE': 1,\n",
    "        'DADOS-GERAIS.@NOME-EM-CITACOES-BIBLIOGRAFICAS': 1,\n",
    "        'PRODUCAO-BIBLIOGRAFICA.ARTIGOS-PUBLICADOS.ARTIGO-PUBLICADO.DADOS-BASICOS-DO-ARTIGO.@TITULO-DO-ARTIGO': 1,\n",
    "        'PRODUCAO-BIBLIOGRAFICA.ARTIGOS-PUBLICADOS.ARTIGO-PUBLICADO.DADOS-BASICOS-DO-ARTIGO.@ANO-DO-ARTIGO':1,\n",
    "        'PRODUCAO-BIBLIOGRAFICA.ARTIGOS-PUBLICADOS.ARTIGO-PUBLICADO.DETALHAMENTO-DO-ARTIGO.@TITULO-DO-PERIODICO-OU-REVISTA':1,\n",
    "        'PRODUCAO-BIBLIOGRAFICA.ARTIGOS-PUBLICADOS.ARTIGO-PUBLICADO.PALAVRAS-CHAVE':1\n",
    "                                       }},\n",
    "                            {'$unwind': '$PRODUCAO-BIBLIOGRAFICA.ARTIGOS-PUBLICADOS.ARTIGO-PUBLICADO'},\n",
    "                          ]))"
   ]
  },
  {
   "cell_type": "code",
   "execution_count": 77,
   "metadata": {},
   "outputs": [],
   "source": [
    "def Unest_Titulo_Artigo(cell):\n",
    "    return cell['ARTIGOS-PUBLICADOS']['ARTIGO-PUBLICADO']['DADOS-BASICOS-DO-ARTIGO']['@TITULO-DO-ARTIGO'].strip()\n",
    "\n",
    "def Unest_Endereco_Nome(cell):\n",
    "    try:\n",
    "        value = cell['ENDERECO']['ENDERECO-PROFISSIONAL']['@NOME-INSTITUICAO-EMPRESA']\n",
    "    except:\n",
    "        value = None\n",
    "    return value\n",
    "def Unest_Endereco_UF_Insituicao(cell):\n",
    "    try:\n",
    "        value = cell['ENDERECO']['ENDERECO-PROFISSIONAL']['@UF']\n",
    "    except:\n",
    "        value = None\n",
    "    return value\n",
    "def Unest_Endereco_Pais_Insituicao(cell):\n",
    "    try:\n",
    "        value = cell['ENDERECO']['ENDERECO-PROFISSIONAL']['@PAIS']\n",
    "    except:\n",
    "        value = None\n",
    "    return value\n",
    "\n",
    "def Unest_Endereco_Codigo(cell):\n",
    "    try:\n",
    "        value = cell['ENDERECO']['ENDERECO-PROFISSIONAL']['@CODIGO-INSTITUICAO-EMPRESA']\n",
    "    except:\n",
    "        value = None\n",
    "    return value\n",
    "\n",
    "def Unest_Nacionalidade(cell):\n",
    "    try:\n",
    "        value = cell['@PAIS-DE-NACIONALIDADE']\n",
    "    except:\n",
    "        value = None\n",
    "    return value\n",
    "\n",
    "def Unest_Ano_Artigo(cell):\n",
    "    return cell['ARTIGOS-PUBLICADOS']['ARTIGO-PUBLICADO']['DADOS-BASICOS-DO-ARTIGO']['@ANO-DO-ARTIGO'].strip()\n",
    "\n",
    "def Unest_Palavras_Chave(cell):\n",
    "    try:\n",
    "        value = cell['ARTIGOS-PUBLICADOS']['ARTIGO-PUBLICADO']['PALAVRAS-CHAVE']\n",
    "    except:\n",
    "        value = None\n",
    "    return value\n",
    "\n",
    "def Unest_Journal(cell):\n",
    "    try:\n",
    "        value = cell['ARTIGOS-PUBLICADOS']['ARTIGO-PUBLICADO']['DETALHAMENTO-DO-ARTIGO']['@TITULO-DO-PERIODICO-OU-REVISTA'].strip()\n",
    "    except:\n",
    "        value = None\n",
    "    return value"
   ]
  },
  {
   "cell_type": "code",
   "execution_count": 78,
   "metadata": {},
   "outputs": [
    {
     "data": {
      "text/plain": [
       "{'_id': ObjectId('5d31b5b9a4ef2aef4f14294d'),\n",
       " '@NUMERO-IDENTIFICADOR': '6115398975075240',\n",
       " 'DADOS-GERAIS': {'@NOME-COMPLETO': 'Manuel Francisco Zuloeta Jimenez',\n",
       "  '@NOME-EM-CITACOES-BIBLIOGRAFICAS': 'M. Z. Jimenez;M. Z. JIMENEZ;JIMENEZ, M. Z.;JIMENEZ, M.Z.',\n",
       "  '@PAIS-DE-NACIONALIDADE': 'Peru',\n",
       "  'ENDERECO': {'ENDERECO-PROFISSIONAL': {'@CODIGO-INSTITUICAO-EMPRESA': '198100000000',\n",
       "    '@NOME-INSTITUICAO-EMPRESA': 'Universidade Tecnológica Federal do Paraná',\n",
       "    '@PAIS': 'Brasil',\n",
       "    '@UF': 'PR'}}},\n",
       " 'PRODUCAO-BIBLIOGRAFICA': {'ARTIGOS-PUBLICADOS': {'ARTIGO-PUBLICADO': {'DADOS-BASICOS-DO-ARTIGO': {'@TITULO-DO-ARTIGO': 'Weak almost periodic motions, minimality and stability in impulsive semidynamical systems',\n",
       "     '@ANO-DO-ARTIGO': '2014'},\n",
       "    'DETALHAMENTO-DO-ARTIGO': {'@TITULO-DO-PERIODICO-OU-REVISTA': 'Journal of Differential Equations (Print)'},\n",
       "    'PALAVRAS-CHAVE': {'@PALAVRA-CHAVE-1': 'Sistemas semidinâmicos Impulsivos',\n",
       "     '@PALAVRA-CHAVE-2': 'Weak almost periodic motions',\n",
       "     '@PALAVRA-CHAVE-3': 'Minimality',\n",
       "     '@PALAVRA-CHAVE-4': 'Stability',\n",
       "     '@PALAVRA-CHAVE-5': '',\n",
       "     '@PALAVRA-CHAVE-6': ''}}}}}"
      ]
     },
     "execution_count": 78,
     "metadata": {},
     "output_type": "execute_result"
    }
   ],
   "source": [
    "unwind[0]"
   ]
  },
  {
   "cell_type": "code",
   "execution_count": 79,
   "metadata": {},
   "outputs": [],
   "source": [
    "def Separar_Palavras_Chave(cell):\n",
    "    if cell == None:\n",
    "        return None\n",
    "    return '|'.join([i for i in cell.values()])"
   ]
  },
  {
   "cell_type": "code",
   "execution_count": 80,
   "metadata": {},
   "outputs": [],
   "source": [
    "df = pd.DataFrame(unwind)\n",
    "\n",
    "df['NOME-COMPLETO']     = df[\"DADOS-GERAIS\"].apply(lambda cell: cell['@NOME-COMPLETO'].strip())\n",
    "df['NOME-INSTITUICAO']  = df[\"DADOS-GERAIS\"].apply(Unest_Endereco_Nome)\n",
    "df['UF-INSTITUICAO']    = df[\"DADOS-GERAIS\"].apply(Unest_Endereco_UF_Insituicao)\n",
    "df['PAIS-INSTITUICAO']  = df[\"DADOS-GERAIS\"].apply(Unest_Endereco_Pais_Insituicao)\n",
    "df['PAIS']              = df[\"DADOS-GERAIS\"].apply(Unest_Nacionalidade)\n",
    "df['NOME-CITACOES']     = df[\"DADOS-GERAIS\"].apply(lambda cell: cell['@NOME-EM-CITACOES-BIBLIOGRAFICAS'].strip())\n",
    "df['CODIGO-INSTITUICAO']= df[\"DADOS-GERAIS\"].apply(Unest_Endereco_Codigo)\n",
    "df['TITULO-DO-ARTIGO']  = df[\"PRODUCAO-BIBLIOGRAFICA\"].apply(Unest_Titulo_Artigo)\n",
    "df['ANO-DO-ARTIGO']     = df[\"PRODUCAO-BIBLIOGRAFICA\"].apply(Unest_Ano_Artigo)\n",
    "df['JOURNAL']           = df['PRODUCAO-BIBLIOGRAFICA'].apply(Unest_Journal)\n",
    "df['PALAVRAS-CHAVE-ARTIGO'] = df[\"PRODUCAO-BIBLIOGRAFICA\"].apply(Unest_Palavras_Chave)\n",
    "df['PALAVRAS-CHAVE-ARTIGO'] = df['PALAVRAS-CHAVE-ARTIGO'].apply(Separar_Palavras_Chave)\n",
    "\n",
    "df.drop(labels=['PRODUCAO-BIBLIOGRAFICA','DADOS-GERAIS'],axis=1,inplace=True)"
   ]
  },
  {
   "cell_type": "code",
   "execution_count": 81,
   "metadata": {
    "scrolled": false
   },
   "outputs": [],
   "source": [
    "df.to_csv(\"./views/Author_Paper.csv\",sep=';',encoding='latin-1')"
   ]
  },
  {
   "cell_type": "markdown",
   "metadata": {},
   "source": [
    "<br>\n",
    "\n",
    "## Collecting 'Dados Gerais'"
   ]
  },
  {
   "cell_type": "code",
   "execution_count": 82,
   "metadata": {},
   "outputs": [],
   "source": [
    "unwind2 = list(curriculos.aggregate([\n",
    "                           {'$project':{\n",
    "        '_id':1,\n",
    "        '@NUMERO-IDENTIFICADOR':1,\n",
    "        'DADOS-GERAIS.@NOME-COMPLETO': 1,\n",
    "        'DADOS-GERAIS.ENDERECO.ENDERECO-PROFISSIONAL.@NOME-INSTITUICAO-EMPRESA':1,\n",
    "        'DADOS-GERAIS.ENDERECO.ENDERECO-PROFISSIONAL.@CODIGO-INSTITUICAO-EMPRESA':1,\n",
    "        'DADOS-GERAIS.ENDERECO.ENDERECO-PROFISSIONAL.@PAIS':1,\n",
    "        'DADOS-GERAIS.ENDERECO.ENDERECO-PROFISSIONAL.@UF':1,\n",
    "        'DADOS-GERAIS.@PAIS-DE-NACIONALIDADE': 1,\n",
    "        'DADOS-GERAIS.@NOME-EM-CITACOES-BIBLIOGRAFICAS': 1\n",
    "                            }}      ]))"
   ]
  },
  {
   "cell_type": "code",
   "execution_count": 83,
   "metadata": {},
   "outputs": [
    {
     "data": {
      "text/plain": [
       "{'_id': ObjectId('5d31b5b9a4ef2aef4f14294d'),\n",
       " '@NUMERO-IDENTIFICADOR': '6115398975075240',\n",
       " 'DADOS-GERAIS': {'@NOME-COMPLETO': 'Manuel Francisco Zuloeta Jimenez',\n",
       "  '@NOME-EM-CITACOES-BIBLIOGRAFICAS': 'M. Z. Jimenez;M. Z. JIMENEZ;JIMENEZ, M. Z.;JIMENEZ, M.Z.',\n",
       "  '@PAIS-DE-NACIONALIDADE': 'Peru',\n",
       "  'ENDERECO': {'ENDERECO-PROFISSIONAL': {'@CODIGO-INSTITUICAO-EMPRESA': '198100000000',\n",
       "    '@NOME-INSTITUICAO-EMPRESA': 'Universidade Tecnológica Federal do Paraná',\n",
       "    '@PAIS': 'Brasil',\n",
       "    '@UF': 'PR'}}}}"
      ]
     },
     "execution_count": 83,
     "metadata": {},
     "output_type": "execute_result"
    }
   ],
   "source": [
    "unwind2[0]"
   ]
  },
  {
   "cell_type": "code",
   "execution_count": 84,
   "metadata": {},
   "outputs": [],
   "source": [
    "df2 = pd.DataFrame(unwind2)\n",
    "\n",
    "df2['NOME-COMPLETO']     = df2[\"DADOS-GERAIS\"].apply(lambda cell: cell['@NOME-COMPLETO'].strip())\n",
    "df2['NOME-INSTITUICAO']  = df2[\"DADOS-GERAIS\"].apply(Unest_Endereco_Nome)\n",
    "df2['UF-INSTITUICAO']    = df2[\"DADOS-GERAIS\"].apply(Unest_Endereco_UF_Insituicao)\n",
    "df2['PAIS-INSTITUICAO']  = df2[\"DADOS-GERAIS\"].apply(Unest_Endereco_Pais_Insituicao)\n",
    "df2['PAIS']              = df2[\"DADOS-GERAIS\"].apply(Unest_Nacionalidade)\n",
    "df2['NOME-CITACOES']     = df2[\"DADOS-GERAIS\"].apply(lambda cell: cell['@NOME-EM-CITACOES-BIBLIOGRAFICAS'].strip())\n",
    "df2['CODIGO-INSTITUICAO']= df2[\"DADOS-GERAIS\"].apply(Unest_Endereco_Codigo)\n",
    "\n",
    "df2.drop(labels='DADOS-GERAIS',axis=1,inplace=True)"
   ]
  },
  {
   "cell_type": "code",
   "execution_count": 85,
   "metadata": {},
   "outputs": [
    {
     "data": {
      "text/plain": [
       "11423"
      ]
     },
     "execution_count": 85,
     "metadata": {},
     "output_type": "execute_result"
    }
   ],
   "source": [
    "df2.shape[0]"
   ]
  },
  {
   "cell_type": "code",
   "execution_count": 86,
   "metadata": {},
   "outputs": [],
   "source": [
    "df2.to_csv('views/Dados_gerais.csv', sep=';', encoding='latin-1')"
   ]
  },
  {
   "cell_type": "markdown",
   "metadata": {},
   "source": [
    "<br>\n",
    "\n",
    "## Collecting 'Papers'"
   ]
  },
  {
   "cell_type": "code",
   "execution_count": 87,
   "metadata": {},
   "outputs": [],
   "source": [
    "unwind3 = list(curriculos.aggregate([\n",
    "                           {'$project':{\n",
    "        '_id':1,\n",
    "        '@NUMERO-IDENTIFICADOR':1,\n",
    "        'DADOS-GERAIS.@NOME-COMPLETO': 1,\n",
    "        'PRODUCAO-BIBLIOGRAFICA.ARTIGOS-PUBLICADOS.ARTIGO-PUBLICADO.DADOS-BASICOS-DO-ARTIGO.@TITULO-DO-ARTIGO': 1,\n",
    "        'PRODUCAO-BIBLIOGRAFICA.ARTIGOS-PUBLICADOS.ARTIGO-PUBLICADO.DADOS-BASICOS-DO-ARTIGO.@ANO-DO-ARTIGO':1,\n",
    "        'PRODUCAO-BIBLIOGRAFICA.ARTIGOS-PUBLICADOS.ARTIGO-PUBLICADO.DETALHAMENTO-DO-ARTIGO.@TITULO-DO-PERIODICO-OU-REVISTA':1,\n",
    "        'PRODUCAO-BIBLIOGRAFICA.ARTIGOS-PUBLICADOS.ARTIGO-PUBLICADO.PALAVRAS-CHAVE':1,\n",
    "        'PRODUCAO-BIBLIOGRAFICA.ARTIGOS-PUBLICADOS.ARTIGO-PUBLICADO.AUTORES': 1\n",
    "                                       }},\n",
    "                            {'$unwind': '$PRODUCAO-BIBLIOGRAFICA.ARTIGOS-PUBLICADOS.ARTIGO-PUBLICADO'},\n",
    "                          ]))"
   ]
  },
  {
   "cell_type": "code",
   "execution_count": 88,
   "metadata": {},
   "outputs": [
    {
     "data": {
      "text/plain": [
       "{'_id': ObjectId('5d31b5b9a4ef2aef4f14294d'),\n",
       " '@NUMERO-IDENTIFICADOR': '6115398975075240',\n",
       " 'DADOS-GERAIS': {'@NOME-COMPLETO': 'Manuel Francisco Zuloeta Jimenez'},\n",
       " 'PRODUCAO-BIBLIOGRAFICA': {'ARTIGOS-PUBLICADOS': {'ARTIGO-PUBLICADO': {'DADOS-BASICOS-DO-ARTIGO': {'@TITULO-DO-ARTIGO': 'Weak almost periodic motions, minimality and stability in impulsive semidynamical systems',\n",
       "     '@ANO-DO-ARTIGO': '2014'},\n",
       "    'DETALHAMENTO-DO-ARTIGO': {'@TITULO-DO-PERIODICO-OU-REVISTA': 'Journal of Differential Equations (Print)'},\n",
       "    'AUTORES': [{'@NOME-COMPLETO-DO-AUTOR': 'BONOTTO, E.M.',\n",
       "      '@NOME-PARA-CITACAO': 'BONOTTO, E.M.',\n",
       "      '@ORDEM-DE-AUTORIA': '1',\n",
       "      '@NRO-ID-CNPQ': ''},\n",
       "     {'@NOME-COMPLETO-DO-AUTOR': 'Manuel Francisco Zuloeta Jimenez',\n",
       "      '@NOME-PARA-CITACAO': 'JIMENEZ, M.Z.',\n",
       "      '@ORDEM-DE-AUTORIA': '2',\n",
       "      '@NRO-ID-CNPQ': ''}],\n",
       "    'PALAVRAS-CHAVE': {'@PALAVRA-CHAVE-1': 'Sistemas semidinâmicos Impulsivos',\n",
       "     '@PALAVRA-CHAVE-2': 'Weak almost periodic motions',\n",
       "     '@PALAVRA-CHAVE-3': 'Minimality',\n",
       "     '@PALAVRA-CHAVE-4': 'Stability',\n",
       "     '@PALAVRA-CHAVE-5': '',\n",
       "     '@PALAVRA-CHAVE-6': ''}}}}}"
      ]
     },
     "execution_count": 88,
     "metadata": {},
     "output_type": "execute_result"
    }
   ],
   "source": [
    "unwind3[0]"
   ]
  },
  {
   "cell_type": "code",
   "execution_count": 89,
   "metadata": {},
   "outputs": [],
   "source": [
    "df3 = pd.DataFrame(unwind3)"
   ]
  },
  {
   "cell_type": "code",
   "execution_count": 90,
   "metadata": {},
   "outputs": [],
   "source": [
    "def Unest_Coautores(cell):\n",
    "    return cell['ARTIGOS-PUBLICADOS']['ARTIGO-PUBLICADO']['AUTORES']"
   ]
  },
  {
   "cell_type": "code",
   "execution_count": 91,
   "metadata": {},
   "outputs": [],
   "source": [
    "df3['NOME-COMPLETO']     = df3[\"DADOS-GERAIS\"].apply(lambda cell: cell['@NOME-COMPLETO'].strip())\n",
    "df3['TITULO-DO-ARTIGO']  = df3[\"PRODUCAO-BIBLIOGRAFICA\"].apply(Unest_Titulo_Artigo)\n",
    "df3['ANO-DO-ARTIGO']     = df3[\"PRODUCAO-BIBLIOGRAFICA\"].apply(Unest_Ano_Artigo)\n",
    "df3['JOURNAL']           = df3['PRODUCAO-BIBLIOGRAFICA'].apply(Unest_Journal)\n",
    "df3['PALAVRAS-CHAVE-ARTIGO'] = df3[\"PRODUCAO-BIBLIOGRAFICA\"].apply(Unest_Palavras_Chave)\n",
    "df3['PALAVRAS-CHAVE-ARTIGO'] = df3['PALAVRAS-CHAVE-ARTIGO'].apply(Separar_Palavras_Chave)\n",
    "df3['COAUTORES'] = df3['PRODUCAO-BIBLIOGRAFICA'].apply(Unest_Coautores)\n",
    "\n",
    "\n",
    "df3.drop(labels=['PRODUCAO-BIBLIOGRAFICA','DADOS-GERAIS'],axis=1,inplace=True)"
   ]
  },
  {
   "cell_type": "code",
   "execution_count": 92,
   "metadata": {},
   "outputs": [],
   "source": [
    "df3.to_csv('views/papers.csv', sep=';', encoding='latin-1')"
   ]
  },
  {
   "cell_type": "markdown",
   "metadata": {},
   "source": [
    "<br>\n",
    "\n",
    "## Collecting 'Research Projects Description'"
   ]
  },
  {
   "cell_type": "code",
   "execution_count": 102,
   "metadata": {},
   "outputs": [],
   "source": [
    "unwind4 = list(curriculos.aggregate([\n",
    "                           {'$project':{\n",
    "        '_id':1,\n",
    "        '@NUMERO-IDENTIFICADOR':1,\n",
    "        'DADOS-GERAIS.@NOME-COMPLETO': 1,\n",
    "        'DADOS-GERAIS.ATUACOES-PROFISSIONAIS.ATUACAO-PROFISSIONAL.ATIVIDADES-DE-PARTICIPACAO-EM-PROJETO.PARTICIPACAO-EM-PROJETO.PROJETO-DE-PESQUISA.@NOME-DO-PROJETO': 1,\n",
    "        'DADOS-GERAIS.ATUACOES-PROFISSIONAIS.ATUACAO-PROFISSIONAL.ATIVIDADES-DE-PARTICIPACAO-EM-PROJETO.PARTICIPACAO-EM-PROJETO.PROJETO-DE-PESQUISA.@SITUACAO': 1,\n",
    "        'DADOS-GERAIS.ATUACOES-PROFISSIONAIS.ATUACAO-PROFISSIONAL.ATIVIDADES-DE-PARTICIPACAO-EM-PROJETO.PARTICIPACAO-EM-PROJETO.PROJETO-DE-PESQUISA.@NATUREZA': 1,\n",
    "        'DADOS-GERAIS.ATUACOES-PROFISSIONAIS.ATUACAO-PROFISSIONAL.ATIVIDADES-DE-PARTICIPACAO-EM-PROJETO.PARTICIPACAO-EM-PROJETO.PROJETO-DE-PESQUISA.@DESCRICAO-DO-PROJETO': 1,\n",
    "        'DADOS-GERAIS.ATUACOES-PROFISSIONAIS.ATUACAO-PROFISSIONAL.ATIVIDADES-DE-PARTICIPACAO-EM-PROJETO.PARTICIPACAO-EM-PROJETO.PROJETO-DE-PESQUISA.@ANO-INICIO': 1,\n",
    "        'DADOS-GERAIS.ATUACOES-PROFISSIONAIS.ATUACAO-PROFISSIONAL.ATIVIDADES-DE-PARTICIPACAO-EM-PROJETO.PARTICIPACAO-EM-PROJETO.PROJETO-DE-PESQUISA.@ANO-FIM': 1\n",
    "                                       }},\n",
    "                            {'$unwind': '$DADOS-GERAIS.ATUACOES-PROFISSIONAIS.ATUACAO-PROFISSIONAL.ATIVIDADES-DE-PARTICIPACAO-EM-PROJETO.PARTICIPACAO-EM-PROJETO'},\n",
    "                          ]))"
   ]
  },
  {
   "cell_type": "code",
   "execution_count": 103,
   "metadata": {},
   "outputs": [],
   "source": [
    "def Unest_Proj_Nome(cell):\n",
    "    try:\n",
    "        return cell['ATUACOES-PROFISSIONAIS']['ATUACAO-PROFISSIONAL']['ATIVIDADES-DE-PARTICIPACAO-EM-PROJETO']['PARTICIPACAO-EM-PROJETO']['PROJETO-DE-PESQUISA'][\"@NOME-DO-PROJETO\"]\n",
    "    except:\n",
    "        return None\n",
    "    \n",
    "def Unest_Proj_Ano_I(cell):\n",
    "    try:\n",
    "        return cell['ATUACOES-PROFISSIONAIS']['ATUACAO-PROFISSIONAL']['ATIVIDADES-DE-PARTICIPACAO-EM-PROJETO']['PARTICIPACAO-EM-PROJETO']['PROJETO-DE-PESQUISA'][\"@ANO-INICIO\"]\n",
    "    except:\n",
    "        return None\n",
    "def Unest_Proj_Ano_F(cell):\n",
    "    try:\n",
    "        return cell['ATUACOES-PROFISSIONAIS']['ATUACAO-PROFISSIONAL']['ATIVIDADES-DE-PARTICIPACAO-EM-PROJETO']['PARTICIPACAO-EM-PROJETO']['PROJETO-DE-PESQUISA'][\"@ANO-FIM\"]\n",
    "    except:\n",
    "        return None\n",
    "    \n",
    "def Unest_Proj_Situacao(cell):\n",
    "    try:\n",
    "        return cell['ATUACOES-PROFISSIONAIS']['ATUACAO-PROFISSIONAL']['ATIVIDADES-DE-PARTICIPACAO-EM-PROJETO']['PARTICIPACAO-EM-PROJETO']['PROJETO-DE-PESQUISA'][\"@SITUACAO\"]\n",
    "    except:\n",
    "        return None\n",
    "    \n",
    "def Unest_Proj_Natureza(cell):\n",
    "    try:\n",
    "        return cell['ATUACOES-PROFISSIONAIS']['ATUACAO-PROFISSIONAL']['ATIVIDADES-DE-PARTICIPACAO-EM-PROJETO']['PARTICIPACAO-EM-PROJETO']['PROJETO-DE-PESQUISA'][\"@NATUREZA\"]\n",
    "    except:\n",
    "        return None\n",
    "    \n",
    "def Unest_Proj_Desc(cell):\n",
    "    try:\n",
    "        return cell['ATUACOES-PROFISSIONAIS']['ATUACAO-PROFISSIONAL']['ATIVIDADES-DE-PARTICIPACAO-EM-PROJETO']['PARTICIPACAO-EM-PROJETO']['PROJETO-DE-PESQUISA'][\"@DESCRICAO-DO-PROJETO\"]\n",
    "    except:\n",
    "        return None"
   ]
  },
  {
   "cell_type": "code",
   "execution_count": 105,
   "metadata": {},
   "outputs": [],
   "source": [
    "df4 = pd.DataFrame(unwind4)"
   ]
  },
  {
   "cell_type": "code",
   "execution_count": 106,
   "metadata": {},
   "outputs": [],
   "source": [
    "df4['NOME-COMPLETO']    = df4[\"DADOS-GERAIS\"].apply(lambda cell: cell['@NOME-COMPLETO'].strip())\n",
    "df4['NOME-PROJETO']     = df4[\"DADOS-GERAIS\"].apply(Unest_Proj_Nome)\n",
    "df4['DESC-PROJETO']     = df4[\"DADOS-GERAIS\"].apply(Unest_Proj_Desc)\n",
    "df4['NATUREZA-PROJETO'] = df4[\"DADOS-GERAIS\"].apply(Unest_Proj_Natureza)\n",
    "df4['ANO-INICIO-PROJETO']     = df4[\"DADOS-GERAIS\"].apply(Unest_Proj_Ano_I)\n",
    "df4['ANO-FIM-PROJETO']     = df4[\"DADOS-GERAIS\"].apply(Unest_Proj_Ano_F)\n",
    "df4['SITUACAO-PROJETO']     = df4[\"DADOS-GERAIS\"].apply(Unest_Proj_Situacao)\n",
    "\n",
    "df4.drop(labels=['DADOS-GERAIS'],axis=1,inplace=True)"
   ]
  },
  {
   "cell_type": "code",
   "execution_count": 109,
   "metadata": {},
   "outputs": [],
   "source": [
    "df4.to_csv('views/Research_projects.csv', sep=';', encoding='latin-1')"
   ]
  },
  {
   "cell_type": "markdown",
   "metadata": {},
   "source": [
    "# Dataframes gerados."
   ]
  }
 ],
 "metadata": {
  "kernelspec": {
   "display_name": "Python3(datascience)",
   "language": "python",
   "name": "datascience"
  },
  "language_info": {
   "codemirror_mode": {
    "name": "ipython",
    "version": 3
   },
   "file_extension": ".py",
   "mimetype": "text/x-python",
   "name": "python",
   "nbconvert_exporter": "python",
   "pygments_lexer": "ipython3",
   "version": "3.6.8"
  }
 },
 "nbformat": 4,
 "nbformat_minor": 2
}
