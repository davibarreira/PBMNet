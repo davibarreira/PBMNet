{
 "cells": [
  {
   "cell_type": "markdown",
   "metadata": {},
   "source": [
    "# Exploring Database\n",
    "\n",
    "In this notebook, we'll get acquainted with our Curriculum Lattes database by answering some exploratory questions about it, as \n",
    "\n",
    "\n",
    "- How many papers are published every year?\n",
    "- How many papers, on average, every author publishes?\n",
    "- What are the trending topics in latest years?\n",
    "- Are there foreign researchrs in Lattes database? Where do they come from?\n",
    "\n",
    "And some more...\n",
    "\n",
    "With this analysis, we expect to attend some curiosities about the profile of mathematical researchers in Brazil. \n",
    "\n",
    "-----\n",
    "\n",
    "## Overview\n",
    "\n",
    "1) Importing dataframe with information on published papers and start exploration (answer some initial questions and create visualizations along the way) <br>\n",
    "2) Exploring some temporal trends per field of research <br>\n",
    "3) Analysing the number of publications per author/field and creating a ranking <br>\n",
    "4) Trending topics: what are the most researched topics in latest years?  <br>\n",
    "5) Mapping researchers nationalities and their work country\n",
    "\n",
    "-----\n",
    "\n",
    "\n",
    "\n",
    "### 0) First of all, let's import a few things..."
   ]
  },
  {
   "cell_type": "code",
   "execution_count": 24,
   "metadata": {},
   "outputs": [],
   "source": [
    "import numpy as np\n",
    "import pandas as pd\n",
    "import seaborn as sns\n",
    "import matplotlib.pyplot as plt\n",
    "\n",
    "plt.style.use('ggplot')"
   ]
  },
  {
   "cell_type": "markdown",
   "metadata": {},
   "source": [
    "### 1) Importing papers dataframe"
   ]
  },
  {
   "cell_type": "code",
   "execution_count": 25,
   "metadata": {},
   "outputs": [
    {
     "name": "stdout",
     "output_type": "stream",
     "text": [
      "<class 'pandas.core.frame.DataFrame'>\n",
      "Int64Index: 138465 entries, 0 to 138465\n",
      "Data columns (total 9 columns):\n",
      "@NUMERO-IDENTIFICADOR    135027 non-null float64\n",
      "_id                      138465 non-null object\n",
      "NOME-COMPLETO            138465 non-null object\n",
      "TITULO-DO-ARTIGO         138465 non-null object\n",
      "ANO-DO-ARTIGO            138465 non-null object\n",
      "JOURNAL                  138101 non-null object\n",
      "PALAVRAS-CHAVE-ARTIGO    68947 non-null object\n",
      "COAUTORES                138465 non-null object\n",
      "CHAVE_ARTIGO             138465 non-null object\n",
      "dtypes: float64(1), object(8)\n",
      "memory usage: 10.6+ MB\n"
     ]
    }
   ],
   "source": [
    "df = pd.read_csv('views/Papers.csv', sep=';', encoding='latin-1', index_col=0)\n",
    "df.info()"
   ]
  },
  {
   "cell_type": "markdown",
   "metadata": {},
   "source": [
    "<br>\n",
    "\n",
    "Now that we already have our dataset ready, let's begin exploring some preliminaries information about the profile of mathematical research in Brazil.\n",
    "\n",
    "We'll begin answering some simple questions, like..\n",
    "\n",
    "----\n",
    "\n",
    "\n",
    "**How many brazilian researchers are there in the mathematical field?**"
   ]
  },
  {
   "cell_type": "code",
   "execution_count": 26,
   "metadata": {},
   "outputs": [
    {
     "name": "stdout",
     "output_type": "stream",
     "text": [
      "# of researchers in \"great\" mathematics field:  9984\n"
     ]
    }
   ],
   "source": [
    "print('# of researchers in \"great\" mathematics field: ', df['_id'].unique().shape[0])"
   ]
  },
  {
   "cell_type": "markdown",
   "metadata": {},
   "source": [
    "**How many published papers we have in our database?**"
   ]
  },
  {
   "cell_type": "code",
   "execution_count": 27,
   "metadata": {},
   "outputs": [],
   "source": [
    "# removing duplicate publications\n",
    "df.sort_values(by='ANO-DO-ARTIGO', inplace=True, ascending=False)"
   ]
  },
  {
   "cell_type": "code",
   "execution_count": 28,
   "metadata": {},
   "outputs": [],
   "source": [
    "df_pub_unique = df.drop_duplicates(\"CHAVE_ARTIGO\", keep='first')"
   ]
  },
  {
   "cell_type": "code",
   "execution_count": 29,
   "metadata": {},
   "outputs": [
    {
     "name": "stdout",
     "output_type": "stream",
     "text": [
      "# removed publications:  27561\n"
     ]
    }
   ],
   "source": [
    "print('# removed publications: ', df.shape[0] - df_pub_unique.shape[0])"
   ]
  },
  {
   "cell_type": "code",
   "execution_count": 30,
   "metadata": {},
   "outputs": [
    {
     "name": "stdout",
     "output_type": "stream",
     "text": [
      "# of publications: 110904\n"
     ]
    }
   ],
   "source": [
    "print('# of publications:', df_pub_unique['CHAVE_ARTIGO'].unique().shape[0])"
   ]
  },
  {
   "cell_type": "markdown",
   "metadata": {},
   "source": [
    "<br>\n",
    "\n",
    "**Now, let's take a closer look at the number of published papers and try to separate in years.**"
   ]
  },
  {
   "cell_type": "code",
   "execution_count": 31,
   "metadata": {},
   "outputs": [],
   "source": [
    "# preparing dataframe to plot (from 1980 to 2019 - that's why [:39])\n",
    "df_plot = pd.DataFrame(df_pub_unique['ANO-DO-ARTIGO'].value_counts(ascending=False)[:39]).copy()\n",
    "df_plot.sort_index(inplace=True)"
   ]
  },
  {
   "cell_type": "code",
   "execution_count": 32,
   "metadata": {},
   "outputs": [
    {
     "data": {
      "image/png": "[encoded data removed]",
      "text/plain": [
       "<Figure size 1296x432 with 1 Axes>"
      ]
     },
     "metadata": {},
     "output_type": "display_data"
    }
   ],
   "source": [
    "# preparing plot\n",
    "ax = df_plot.plot(kind='bar', legend=False, title='Number of Publications per Year', figsize=(18,6),\n",
    "                 color='darkseagreen',  alpha=0.9)\n",
    "\n",
    "# removing frames\n",
    "ax.spines['top'].set_visible(False)\n",
    "ax.spines['right'].set_visible(False)\n",
    "ax.spines['bottom'].set_visible(False)\n",
    "ax.spines['left'].set_visible(False)\n",
    "\n",
    "# horizontal grid lines\n",
    "#ax.yaxis.grid(zorder=0,which=\"major\", color='gray', linestyle=':', linewidth=0.6)\n",
    "\n",
    "# x-ticks\n",
    "#plt.xlabel('Year')\n",
    "plt.xticks(rotation=45)\n",
    "\n",
    "#saving fig\n",
    "plt.savefig('viz/Publicacoes_por_ano.png', bbox_inches='tight')"
   ]
  },
  {
   "cell_type": "code",
   "execution_count": 33,
   "metadata": {},
   "outputs": [
    {
     "data": {
      "image/png": "[encoded data removed]",
      "text/plain": [
       "<Figure size 1296x432 with 1 Axes>"
      ]
     },
     "metadata": {},
     "output_type": "display_data"
    }
   ],
   "source": [
    "# cumulative publications\n",
    "df_plot['cumulative'] = df_plot.cumsum()\n",
    "\n",
    "# plotting\n",
    "ax = df_plot['cumulative'].plot(color='firebrick', figsize=(18,6), title='Cumulative Number of Publications')\n",
    "\n",
    "# removing frames\n",
    "ax.spines['top'].set_visible(False)\n",
    "ax.spines['right'].set_visible(False)\n",
    "ax.spines['bottom'].set_visible(False)\n",
    "ax.spines['left'].set_visible(False)\n",
    "\n",
    "# horizontal grid lines\n",
    "#ax.yaxis.grid(zorder=0,which=\"major\", color='gray', linestyle=':', linewidth=0.6)\n",
    "\n",
    "# preparing x-ticks\n",
    "labels = sorted(list(df_plot.index))\n",
    "plt.xticks(np.arange(len(labels)), labels)\n",
    "\n",
    "#plt.xlabel('Year')\n",
    "plt.xticks(rotation=45)\n",
    "\n",
    "# saving fig\n",
    "plt.savefig('viz/Publicacoes_acumulado.png', bbox_inches='tight')"
   ]
  },
  {
   "cell_type": "markdown",
   "metadata": {},
   "source": [
    "<br>\n",
    "\n",
    "**What about the Journals with most publications?**"
   ]
  },
  {
   "cell_type": "code",
   "execution_count": 61,
   "metadata": {},
   "outputs": [
    {
     "data": {
      "image/png": "[encoded data removed]",
      "text/plain": [
       "<Figure size 720x432 with 1 Axes>"
      ]
     },
     "metadata": {},
     "output_type": "display_data"
    }
   ],
   "source": [
    "ax = df_pub_unique['JOURNAL'].value_counts()[:20].sort_values(ascending=True).plot(kind='barh', \n",
    "                                                color='darkseagreen', figsize=(10,6),\n",
    "                                                alpha=0.9, title='Number of Publications per Journal')\n",
    "\n",
    "# removing frames\n",
    "ax.spines['top'].set_visible(False)\n",
    "ax.spines['right'].set_visible(False)\n",
    "ax.spines['bottom'].set_visible(False)\n",
    "ax.spines['left'].set_visible(False)\n",
    "\n",
    "# horizontal grid lines\n",
    "#ax.yaxis.grid(zorder=0,which=\"major\", color='gray', linestyle=':', linewidth=0.6)\n",
    "#plt.ylim(0,1200)\n",
    "\n",
    "# x-ticks\n",
    "plt.xticks(rotation=0)\n",
    "\n",
    "plt.savefig('viz/Journals.png', bbox_inches='tight')"
   ]
  },
  {
   "cell_type": "markdown",
   "metadata": {},
   "source": [
    "<br>\n",
    "\n",
    "### 2) Moving on, let's segmentate these numbers per field of research\n",
    "\n",
    "To do this, we'll import one more dataframe."
   ]
  },
  {
   "cell_type": "code",
   "execution_count": 35,
   "metadata": {},
   "outputs": [
    {
     "name": "stdout",
     "output_type": "stream",
     "text": [
      "<class 'pandas.core.frame.DataFrame'>\n",
      "Int64Index: 11418 entries, 0 to 11417\n",
      "Data columns (total 15 columns):\n",
      "@DATA-ATUALIZACAO        11418 non-null object\n",
      "@NUMERO-IDENTIFICADOR    10960 non-null float64\n",
      "_id                      11418 non-null object\n",
      "NOME-COMPLETO            11418 non-null object\n",
      "AREA-ATUACAO             11405 non-null object\n",
      "GRANDE-AREA              11418 non-null object\n",
      "AREA                     11413 non-null object\n",
      "SUB-AREA                 9042 non-null object\n",
      "ESPECIALIDADE            5921 non-null object\n",
      "NOME-INSTITUICAO         9947 non-null object\n",
      "UF-INSTITUICAO           9268 non-null object\n",
      "PAIS-INSTITUICAO         10000 non-null object\n",
      "PAIS                     10416 non-null object\n",
      "NOME-CITACOES            11418 non-null object\n",
      "CODIGO-INSTITUICAO       9948 non-null object\n",
      "dtypes: float64(1), object(14)\n",
      "memory usage: 1.4+ MB\n"
     ]
    }
   ],
   "source": [
    "authors = pd.read_csv('views/Authors.csv', sep=';', encoding='latin-1', index_col=0)\n",
    "authors.info()"
   ]
  },
  {
   "cell_type": "code",
   "execution_count": 36,
   "metadata": {},
   "outputs": [
    {
     "name": "stdout",
     "output_type": "stream",
     "text": [
      "# of Authors: 11418\n"
     ]
    }
   ],
   "source": [
    "print('# of Authors:', authors['NOME-COMPLETO'].unique().shape[0])"
   ]
  },
  {
   "cell_type": "markdown",
   "metadata": {},
   "source": [
    "Note that, the number above if higher then what we had before. That's because some authors didn't publish any paper or, at least, haven't updated their Lattes curriculum with their publications. So..."
   ]
  },
  {
   "cell_type": "code",
   "execution_count": 37,
   "metadata": {},
   "outputs": [
    {
     "name": "stdout",
     "output_type": "stream",
     "text": [
      "# of authors that didn't report any published paper on Lattes: 1434\n"
     ]
    }
   ],
   "source": [
    "print(\"# of authors that didn't report any published paper on Lattes:\", \n",
    "      authors['NOME-COMPLETO'].unique().shape[0] - df['_id'].unique().shape[0])"
   ]
  },
  {
   "cell_type": "markdown",
   "metadata": {},
   "source": [
    "Note that, surprisingly, we have more research areas than the three we were focusing on. The logical explanation behind this is that CNPQ reports these curricula as belonging to the field of *Mathematics*, for example, but the authors of some curricula may autoreport in a different field.\n",
    "\n",
    "So, as our main focus is in *Mathematics, Statistics and Computer Sciences*, we'll aggregate the counting of the other fields into *Mathematics*."
   ]
  },
  {
   "cell_type": "code",
   "execution_count": 38,
   "metadata": {},
   "outputs": [],
   "source": [
    "# counting authors in every field\n",
    "df_plot = pd.DataFrame(authors['AREA'].value_counts()).transpose()\n",
    "\n",
    "# aggregating other fields in \"Outras\"\n",
    "df_plot['Matemática'] = df_plot['Matemática'] + df_plot.iloc[:,3:].sum(axis=1)\n",
    "\n",
    "# dropping other fields\n",
    "#df_plot = pd.concat([df_plot.iloc[:,:3], df_plot.iloc[:,-1]], axis=1).transpose()"
   ]
  },
  {
   "cell_type": "code",
   "execution_count": 39,
   "metadata": {},
   "outputs": [
    {
     "data": {
      "image/png": "[encoded data removed]",
      "text/plain": [
       "<Figure size 720x360 with 1 Axes>"
      ]
     },
     "metadata": {},
     "output_type": "display_data"
    }
   ],
   "source": [
    "# plotting\n",
    "ax = df_plot.transpose().iloc[:3,:].plot(kind='bar', color='darkseagreen', figsize=(10,5), legend=False,\n",
    "                 title='Number of Researchers per Field',  alpha=0.9)\n",
    "\n",
    "# removing frames\n",
    "ax.spines['top'].set_visible(False)\n",
    "ax.spines['right'].set_visible(False)\n",
    "ax.spines['bottom'].set_visible(False)\n",
    "ax.spines['left'].set_visible(False)\n",
    "\n",
    "# horizontal grid lines\n",
    "#ax.yaxis.grid(zorder=0,which=\"major\", color='gray', linestyle=':', linewidth=0.6)\n",
    "plt.ylim(0,6000)\n",
    "\n",
    "# x-ticks\n",
    "labels = ['Computer Science', 'Mathematics', 'Statistics and Probability']\n",
    "plt.xticks(np.arange(len(labels)), labels, rotation=90)\n",
    "\n",
    "plt.savefig('viz/Pesquisadores_area.png', bbox_inches='tight')"
   ]
  },
  {
   "cell_type": "markdown",
   "metadata": {},
   "source": [
    "<br>\n",
    "\n",
    "### 3) Now, let's sort all authors according to the number of publications"
   ]
  },
  {
   "cell_type": "code",
   "execution_count": 40,
   "metadata": {},
   "outputs": [],
   "source": [
    "# ranking of publications\n",
    "authors_ranking = df_pub_unique['NOME-COMPLETO'].value_counts().copy()\n",
    "\n",
    "# organizing the ranking dataframe\n",
    "authors_ranking = pd.DataFrame(authors_ranking).reset_index()\n",
    "\n",
    "# renaming columns\n",
    "authors_ranking.rename(columns={'index':'NOME-COMPLETO', 'NOME-COMPLETO':'N_PUBLICACOES'}, inplace=True)\n",
    "\n",
    "# saving to csv\n",
    "authors_ranking.to_csv('viz/ranking_autores.csv', sep=';', encoding='latin-1',\n",
    "                                                    header=False)"
   ]
  },
  {
   "cell_type": "code",
   "execution_count": 43,
   "metadata": {},
   "outputs": [
    {
     "data": {
      "text/html": [
       "<div>\n",
       "<style scoped>\n",
       "    .dataframe tbody tr th:only-of-type {\n",
       "        vertical-align: middle;\n",
       "    }\n",
       "\n",
       "    .dataframe tbody tr th {\n",
       "        vertical-align: top;\n",
       "    }\n",
       "\n",
       "    .dataframe thead th {\n",
       "        text-align: right;\n",
       "    }\n",
       "</style>\n",
       "<table border=\"1\" class=\"dataframe\">\n",
       "  <thead>\n",
       "    <tr style=\"text-align: right;\">\n",
       "      <th></th>\n",
       "      <th>NOME-COMPLETO</th>\n",
       "      <th>N_PUBLICACOES</th>\n",
       "    </tr>\n",
       "  </thead>\n",
       "  <tbody>\n",
       "    <tr>\n",
       "      <th>0</th>\n",
       "      <td>Paulo Roberto Cecon</td>\n",
       "      <td>619</td>\n",
       "    </tr>\n",
       "    <tr>\n",
       "      <th>1</th>\n",
       "      <td>Gláucia Maria Bovi Ambrosano</td>\n",
       "      <td>591</td>\n",
       "    </tr>\n",
       "    <tr>\n",
       "      <th>2</th>\n",
       "      <td>Maria do Rosario Dias de Oliveira Latorre</td>\n",
       "      <td>353</td>\n",
       "    </tr>\n",
       "    <tr>\n",
       "      <th>3</th>\n",
       "      <td>Jose Carlos Barbosa</td>\n",
       "      <td>328</td>\n",
       "    </tr>\n",
       "    <tr>\n",
       "      <th>4</th>\n",
       "      <td>José Roberto Pereira Lauris</td>\n",
       "      <td>297</td>\n",
       "    </tr>\n",
       "  </tbody>\n",
       "</table>\n",
       "</div>"
      ],
      "text/plain": [
       "                               NOME-COMPLETO  N_PUBLICACOES\n",
       "0                        Paulo Roberto Cecon            619\n",
       "1               Gláucia Maria Bovi Ambrosano            591\n",
       "2  Maria do Rosario Dias de Oliveira Latorre            353\n",
       "3                        Jose Carlos Barbosa            328\n",
       "4                José Roberto Pereira Lauris            297"
      ]
     },
     "execution_count": 43,
     "metadata": {},
     "output_type": "execute_result"
    }
   ],
   "source": [
    "authors_ranking.head()"
   ]
  },
  {
   "cell_type": "code",
   "execution_count": 66,
   "metadata": {
    "scrolled": false
   },
   "outputs": [
    {
     "data": {
      "image/png": "[encoded data removed]",
      "text/plain": [
       "<Figure size 864x720 with 1 Axes>"
      ]
     },
     "metadata": {},
     "output_type": "display_data"
    }
   ],
   "source": [
    "ax = authors_ranking[:30].sort_values('N_PUBLICACOES',ascending=True).plot(kind='barh', \n",
    "                                   color='darkseagreen', legend=False, figsize=(12,10),\n",
    "                                   title='Number of published papers per author',  alpha=0.8)\n",
    "\n",
    "# removing frames\n",
    "ax.spines['top'].set_visible(False)\n",
    "ax.spines['right'].set_visible(False)\n",
    "ax.spines['bottom'].set_visible(False)\n",
    "ax.spines['left'].set_visible(False)\n",
    "\n",
    "# horizontal grid lines\n",
    "#ax.yaxis.grid(zorder=0,which=\"major\", color='gray', linestyle=':', linewidth=0.6)\n",
    "#plt.ylim(0,6000)\n",
    "\n",
    "# x-ticks\n",
    "labels = list(authors_ranking['NOME-COMPLETO'][:30][::-1])\n",
    "plt.yticks(np.arange(len(labels)), labels, rotation=0)\n",
    "\n",
    "plt.savefig('viz/Ranking_autores.png', bbox_inches='tight')"
   ]
  },
  {
   "cell_type": "code",
   "execution_count": 67,
   "metadata": {},
   "outputs": [
    {
     "data": {
      "image/png": "[encoded data removed]",
      "text/plain": [
       "<Figure size 1296x432 with 2 Axes>"
      ]
     },
     "metadata": {},
     "output_type": "display_data"
    }
   ],
   "source": [
    "fig, ax = plt.subplots(nrows=1, ncols=2, sharex=True, figsize=(18,6))\n",
    "\n",
    "ax[0].hist(authors_ranking['N_PUBLICACOES'], bins=30,  alpha=0.8)\n",
    "ax[1].hist(authors_ranking['N_PUBLICACOES'], bins=30, log=True,  alpha=0.8)\n",
    "\n",
    "# aesthetics\n",
    "plt.suptitle('Histogram of the Number of Publications')\n",
    "ax[0].set_title('Absolute Frequency')\n",
    "ax[1].set_title('Logarithmic Scale')\n",
    "\n",
    "# removing frames\n",
    "ax[0].spines['top'].set_visible(False)\n",
    "ax[0].spines['right'].set_visible(False)\n",
    "ax[0].spines['bottom'].set_visible(False)\n",
    "ax[0].spines['left'].set_visible(False)\n",
    "\n",
    "# removing frames\n",
    "ax[1].spines['top'].set_visible(False)\n",
    "ax[1].spines['right'].set_visible(False)\n",
    "ax[1].spines['bottom'].set_visible(False)\n",
    "ax[1].spines['left'].set_visible(False)\n",
    "\n",
    "plt.savefig('viz/Histograma_publicacoes_por_autor.png', bbox_inches='tight')"
   ]
  },
  {
   "cell_type": "markdown",
   "metadata": {},
   "source": [
    "<br>\n",
    "\n",
    "**Now, let's do a ranking with the number of publications per field of research**"
   ]
  },
  {
   "cell_type": "code",
   "execution_count": 68,
   "metadata": {},
   "outputs": [],
   "source": [
    "# merging dataframes to get number of publications per author\n",
    "authors_merged = pd.merge(authors, authors_ranking, on='NOME-COMPLETO', how='left')"
   ]
  },
  {
   "cell_type": "code",
   "execution_count": 69,
   "metadata": {},
   "outputs": [],
   "source": [
    "# grouping per field of research\n",
    "area_pub = pd.DataFrame(authors_merged.groupby('AREA').sum()['N_PUBLICACOES'])"
   ]
  },
  {
   "cell_type": "code",
   "execution_count": 70,
   "metadata": {},
   "outputs": [],
   "source": [
    "# sorting and transposing\n",
    "area_pub = area_pub.sort_values('N_PUBLICACOES', ascending=False).transpose()"
   ]
  },
  {
   "cell_type": "code",
   "execution_count": 71,
   "metadata": {},
   "outputs": [],
   "source": [
    "# agregating other areas into mathematics (as CNPQ claimed)\n",
    "area_pub['Matemática'] = area_pub['Matemática'] + area_pub.iloc[:,3:].sum(axis=1)\n",
    "\n",
    "# selecting the three fields (Mathematics, Statistics and Computer Science)\n",
    "area_pub = area_pub.iloc[:,:3].transpose()"
   ]
  },
  {
   "cell_type": "code",
   "execution_count": 72,
   "metadata": {},
   "outputs": [
    {
     "data": {
      "image/png": "[encoded data removed]",
      "text/plain": [
       "<Figure size 720x360 with 1 Axes>"
      ]
     },
     "metadata": {},
     "output_type": "display_data"
    }
   ],
   "source": [
    "# Plotting\n",
    "ax = area_pub.plot(kind='bar', legend=False, color='darkseagreen', figsize=(10,5), alpha=0.8)\n",
    "\n",
    "# aesthetics\n",
    "ax.set_xlabel('')\n",
    "ax.set_ylim((0,50000))\n",
    "\n",
    "labels = ['Mathematics', 'Computer Science', 'Statistics and Probability']\n",
    "\n",
    "ax.set_title('Number of publications per field')\n",
    "\n",
    "plt.xticks(np.arange(len(labels)), labels)\n",
    "\n",
    "plt.savefig('viz/Publicacoes_por_area.png', bbox_inches='tight')"
   ]
  },
  {
   "cell_type": "markdown",
   "metadata": {},
   "source": [
    "### 4) Trending Topics"
   ]
  },
  {
   "cell_type": "code",
   "execution_count": 73,
   "metadata": {},
   "outputs": [],
   "source": [
    "papers = pd.read_csv('views/Papers.csv', sep=';', encoding='latin-1')"
   ]
  },
  {
   "cell_type": "code",
   "execution_count": 74,
   "metadata": {},
   "outputs": [],
   "source": [
    "papers_years = papers.sort_values(by='ANO-DO-ARTIGO',\n",
    "                   ascending=True).drop_duplicates(subset='NOME-COMPLETO')[['NOME-COMPLETO',\n",
    "                                                                           'ANO-DO-ARTIGO']]\n",
    "papers_years.columns = ['NOME-COMPLETO','YEAR']\n",
    "authors = pd.merge(authors,papers_years,on='NOME-COMPLETO',how='left')\n",
    "\n",
    "authors['YEAR'] = pd.to_numeric(authors['YEAR'],errors='coerce')"
   ]
  },
  {
   "cell_type": "code",
   "execution_count": 75,
   "metadata": {},
   "outputs": [],
   "source": [
    "# creating cumulative dataframe per subfield of research\n",
    "trend = authors[['_id','NOME-COMPLETO', 'GRANDE-AREA', 'AREA', 'SUB-AREA', 'YEAR']].copy()\n",
    "\n",
    "# grouping and calculating cumulative sums inside every subfield\n",
    "trend = trend.groupby(['SUB-AREA','YEAR']).count().groupby(\"SUB-AREA\").cumsum().reset_index()\n",
    "\n",
    "# renaming column\n",
    "trend.rename(columns={'SUB-AREA':'TOPICS'}, inplace=True)"
   ]
  },
  {
   "cell_type": "code",
   "execution_count": 76,
   "metadata": {},
   "outputs": [],
   "source": [
    "# list of all subfields\n",
    "sub_areas = list(authors['SUB-AREA'].value_counts().index)"
   ]
  },
  {
   "cell_type": "code",
   "execution_count": 77,
   "metadata": {
    "scrolled": false
   },
   "outputs": [
    {
     "data": {
      "image/png": "[encoded data removed]",
      "text/plain": [
       "<Figure size 1296x432 with 1 Axes>"
      ]
     },
     "metadata": {},
     "output_type": "display_data"
    }
   ],
   "source": [
    "plt.figure(figsize=(18,6))\n",
    "#plt.xticks(rotation=45)\n",
    "\n",
    "sns.lineplot(x='YEAR', y='_id', hue='TOPICS', \n",
    "             data= trend[(trend['TOPICS'].isin(sub_areas[:15])) & (trend['YEAR']>=1970)],\n",
    "            palette='Paired')\n",
    "plt.ylabel('')\n",
    "plt.xlabel('')\n",
    "\n",
    "plt.title('Trending Topics')\n",
    "plt.savefig('viz/trending_topics.png')"
   ]
  },
  {
   "cell_type": "markdown",
   "metadata": {},
   "source": [
    "### 5) Mapping Nationalities and Work Country\n",
    "\n",
    "In this topic, we'll try to answer the following questions:\n",
    "\n",
    "- Where do mathematical researches registered on Lattes database come from?\n",
    "- In which country do they work?\n",
    "\n",
    "#### Choropleth map of Lattes researchers nationalities"
   ]
  },
  {
   "cell_type": "code",
   "execution_count": 78,
   "metadata": {},
   "outputs": [
    {
     "data": {
      "text/html": [
       "        <script type=\"text/javascript\">\n",
       "        window.PlotlyConfig = {MathJaxConfig: 'local'};\n",
       "        if (window.MathJax) {MathJax.Hub.Config({SVG: {font: \"STIX-Web\"}});}\n",
       "        if (typeof require !== 'undefined') {\n",
       "        require.undef(\"plotly\");\n",
       "        requirejs.config({\n",
       "            paths: {\n",
       "                'plotly': ['https://cdn.plot.ly/plotly-latest.min']\n",
       "            }\n",
       "        });\n",
       "        require(['plotly'], function(Plotly) {\n",
       "            window._Plotly = Plotly;\n",
       "        });\n",
       "        }\n",
       "        </script>\n",
       "        "
      ]
     },
     "metadata": {},
     "output_type": "display_data"
    }
   ],
   "source": [
    "import plotly.graph_objs as go \n",
    "from plotly.offline import init_notebook_mode,iplot\n",
    "init_notebook_mode(connected=True) "
   ]
  },
  {
   "cell_type": "code",
   "execution_count": 79,
   "metadata": {},
   "outputs": [],
   "source": [
    "temp = pd.DataFrame(authors['PAIS'].value_counts())\n",
    "temp.reset_index(inplace=True)\n",
    "\n",
    "temp = pd.melt(temp, id_vars='index', value_vars='PAIS')"
   ]
  },
  {
   "cell_type": "code",
   "execution_count": 80,
   "metadata": {},
   "outputs": [],
   "source": [
    "translate_country_names = {'Bélgica':'Belgium', 'Luxemburgo':'Luxembourg', 'Albânia':'Albania',\n",
    "                           'Guatemala':'Guatemala', 'Austria':'Austria', 'Alemanha':'Germany',\n",
    "                           'República Tcheca':'Czech republic', 'Sérvia':'Serbia',\n",
    "                           'Austrália':'Australia', \n",
    "                           'Gana':'Ghana', 'Lituânia':'Lithuania', 'Nepal':'Nepal', 'Suécia':'Sweden',\n",
    "                           'Irã':'Iran', 'Belarus':'Belarus', 'Macedônia':'Macedonia',\n",
    "                           'Ucrânia':'Ukraine','Cuba':'Cuba', 'Argélia':'Algeria', 'Equador':'Ecuador',\n",
    "                           'Noruega':'Norway', 'Islândia':'Iceland', 'Peru':'Peru', \n",
    "                           'Portugal':'Portugal',\n",
    "                           'Marrocos':'Morocco', 'Uruguai':'Uruguay', 'Namíbia':'Namibia',\n",
    "                           'Estados Unidos':'United States', 'Índia':'India', 'Finlândia':'Finland',\n",
    "                           'México':'Mexico', 'Hong Kong':'Hong Kong', 'Panamá':'Panama',\n",
    "                           'Vietnã':'Vietnam', 'Cabo Verde':'Cape Verde', 'Grécia':'Greece', \n",
    "                           'Colômbia':'Colombia', 'Rússia':'Russia', 'Israel':'Israel', \n",
    "                           'Tunísia':'Tunisia', 'Itália':'Italy', 'Angola':'Angola', 'Brasil':'Brazil',\n",
    "                           'Coréia do Sul':'South Korea', 'Japão':'Japan', 'Líbano':'Lebanon', \n",
    "                           'Suriname':'Suriname', 'China':'China', 'Polônia':'Poland', 'Espanha':'Spain',\n",
    "                           'Paquistão':'Paquistan', 'Chipre':'Cyprus', 'Honduras':'Honduras',\n",
    "                           'Líbia':'Libya', 'Nigéria':'Nigeria', 'Turquia':'Turkey', 'Hungria':'Hungary',\n",
    "                           'Chile':'Chile', 'Venezuela':'Venezuela', 'Tailândia':'Thailand', \n",
    "                           'Letônia':'Latvia', 'Grã-Bretanha':'Great-Britain', 'Geórgia':'Georgia', \n",
    "                           'Paraguai':'Paraguay', 'Bolívia':'Bolivia', 'Holanda':'Netherlands',\n",
    "                           'Argentina':'Argentina', 'Inglaterra':'England', \n",
    "                           'Burkina Fasso':'Burkina Fasso',\n",
    "                           'Romênia':'Romania', 'Bulgária':'Bulgaria', 'Moçambique':'Mozambique',\n",
    "                           'Dinamarca':'Denmark', 'França':'France', 'Eslováquia':'Slovakia', \n",
    "                           'Suiça':'Switzerland', 'Nova Zelândia':'New Zealand', 'Canadá':'Canada',\n",
    "                           'Camarões':'Cameroon', 'Irlanda':'Ireland', 'Escócia':'Scotland',\n",
    "                           'África do Sul':'South Africa', 'Malásia':'Malaysia', \n",
    "                           'Rep.Centro-Africana':'Central African Republic', 'Sudão':'Sudan',\n",
    "                           'Irlanda do Norte':'Northern Ireland', 'Cingapura':'Singapore', \n",
    "                           'Gales':'Wales', 'Eslovênia':'Slovenia'}"
   ]
  },
  {
   "cell_type": "code",
   "execution_count": 81,
   "metadata": {},
   "outputs": [],
   "source": [
    "temp['index'] = temp['index'].apply(lambda x:translate_country_names[x])"
   ]
  },
  {
   "cell_type": "code",
   "execution_count": 88,
   "metadata": {},
   "outputs": [],
   "source": [
    "temp['log_value'] = temp['value'].apply(np.log)"
   ]
  },
  {
   "cell_type": "code",
   "execution_count": 91,
   "metadata": {},
   "outputs": [],
   "source": [
    "temp['log_value'] = temp['log_value'].apply(lambda x:round(x,2))"
   ]
  },
  {
   "cell_type": "code",
   "execution_count": 128,
   "metadata": {},
   "outputs": [],
   "source": [
    "temp['text'] = 'Number of Researchers:  ' + temp['value'].astype(str)"
   ]
  },
  {
   "cell_type": "code",
   "execution_count": 130,
   "metadata": {},
   "outputs": [
    {
     "data": {
      "application/vnd.plotly.v1+json": {
       "config": {
        "linkText": "Export to plot.ly",
        "plotlyServerURL": "https://plot.ly",
        "showLink": false
       },
       "data": [
        {
         "colorbar": {
          "title": {
           "text": "Log-scale"
          }
         },
         "colorscale": [
          [
           0,
           "rgb(36, 86, 104)"
          ],
          [
           0.16666666666666666,
           "rgb(15, 114, 121)"
          ],
          [
           0.3333333333333333,
           "rgb(13, 143, 129)"
          ],
          [
           0.5,
           "rgb(57, 171, 126)"
          ],
          [
           0.6666666666666666,
           "rgb(110, 197, 116)"
          ],
          [
           0.8333333333333334,
           "rgb(169, 220, 103)"
          ],
          [
           1,
           "rgb(237, 239, 93)"
          ]
         ],
         "locationmode": "country names",
         "locations": [
          "Brazil",
          "United States",
          "France",
          "Portugal",
          "Spain",
          "Canada",
          "Chile",
          "Great-Britain",
          "Colombia",
          "Germany",
          "Italy",
          "England",
          "Cuba",
          "Mexico",
          "Peru",
          "China",
          "Australia",
          "Switzerland",
          "Argentina",
          "Netherlands",
          "Sweden",
          "Russia",
          "Belgium",
          "Venezuela",
          "Paquistan",
          "Japan",
          "Norway",
          "India",
          "Austria",
          "Uruguay",
          "Ireland",
          "Scotland",
          "Turkey",
          "Iran",
          "South Korea",
          "Czech republic",
          "Mozambique",
          "Israel",
          "Nigeria",
          "Finland",
          "Belarus",
          "Poland",
          "New Zealand",
          "South Africa",
          "Hungary",
          "Greece",
          "Bolivia",
          "Albania",
          "Iceland",
          "Luxembourg",
          "Northern Ireland",
          "Central African Republic",
          "Denmark",
          "Ukraine",
          "Singapore",
          "Wales",
          "Slovakia",
          "Sudan",
          "Paraguay",
          "Slovenia",
          "Cape Verde",
          "Malaysia",
          "Tunisia",
          "Bulgaria"
         ],
         "reversescale": true,
         "text": [
          "Number of Researchers:  9272",
          "Number of Researchers:  129",
          "Number of Researchers:  84",
          "Number of Researchers:  73",
          "Number of Researchers:  34",
          "Number of Researchers:  34",
          "Number of Researchers:  33",
          "Number of Researchers:  28",
          "Number of Researchers:  27",
          "Number of Researchers:  23",
          "Number of Researchers:  22",
          "Number of Researchers:  19",
          "Number of Researchers:  18",
          "Number of Researchers:  16",
          "Number of Researchers:  12",
          "Number of Researchers:  12",
          "Number of Researchers:  12",
          "Number of Researchers:  12",
          "Number of Researchers:  11",
          "Number of Researchers:  10",
          "Number of Researchers:  9",
          "Number of Researchers:  9",
          "Number of Researchers:  7",
          "Number of Researchers:  6",
          "Number of Researchers:  6",
          "Number of Researchers:  6",
          "Number of Researchers:  5",
          "Number of Researchers:  5",
          "Number of Researchers:  5",
          "Number of Researchers:  4",
          "Number of Researchers:  4",
          "Number of Researchers:  4",
          "Number of Researchers:  3",
          "Number of Researchers:  3",
          "Number of Researchers:  3",
          "Number of Researchers:  3",
          "Number of Researchers:  3",
          "Number of Researchers:  2",
          "Number of Researchers:  2",
          "Number of Researchers:  2",
          "Number of Researchers:  2",
          "Number of Researchers:  2",
          "Number of Researchers:  2",
          "Number of Researchers:  2",
          "Number of Researchers:  1",
          "Number of Researchers:  1",
          "Number of Researchers:  1",
          "Number of Researchers:  1",
          "Number of Researchers:  1",
          "Number of Researchers:  1",
          "Number of Researchers:  1",
          "Number of Researchers:  1",
          "Number of Researchers:  1",
          "Number of Researchers:  1",
          "Number of Researchers:  1",
          "Number of Researchers:  1",
          "Number of Researchers:  1",
          "Number of Researchers:  1",
          "Number of Researchers:  1",
          "Number of Researchers:  1",
          "Number of Researchers:  1",
          "Number of Researchers:  1",
          "Number of Researchers:  1",
          "Number of Researchers:  1"
         ],
         "type": "choropleth",
         "z": [
          9.13,
          4.86,
          4.43,
          4.29,
          3.53,
          3.53,
          3.5,
          3.33,
          3.3,
          3.14,
          3.09,
          2.94,
          2.89,
          2.77,
          2.48,
          2.48,
          2.48,
          2.48,
          2.4,
          2.3,
          2.2,
          2.2,
          1.95,
          1.79,
          1.79,
          1.79,
          1.61,
          1.61,
          1.61,
          1.39,
          1.39,
          1.39,
          1.1,
          1.1,
          1.1,
          1.1,
          1.1,
          0.69,
          0.69,
          0.69,
          0.69,
          0.69,
          0.69,
          0.69,
          0,
          0,
          0,
          0,
          0,
          0,
          0,
          0,
          0,
          0,
          0,
          0,
          0,
          0,
          0,
          0,
          0,
          0,
          0,
          0
         ]
        }
       ],
       "layout": {
        "geo": {
         "projection": {
          "type": "equirectangular"
         },
         "showframe": false
        },
        "template": {
         "data": {
          "bar": [
           {
            "error_x": {
             "color": "#2a3f5f"
            },
            "error_y": {
             "color": "#2a3f5f"
            },
            "marker": {
             "line": {
              "color": "#E5ECF6",
              "width": 0.5
             }
            },
            "type": "bar"
           }
          ],
          "barpolar": [
           {
            "marker": {
             "line": {
              "color": "#E5ECF6",
              "width": 0.5
             }
            },
            "type": "barpolar"
           }
          ],
          "carpet": [
           {
            "aaxis": {
             "endlinecolor": "#2a3f5f",
             "gridcolor": "white",
             "linecolor": "white",
             "minorgridcolor": "white",
             "startlinecolor": "#2a3f5f"
            },
            "baxis": {
             "endlinecolor": "#2a3f5f",
             "gridcolor": "white",
             "linecolor": "white",
             "minorgridcolor": "white",
             "startlinecolor": "#2a3f5f"
            },
            "type": "carpet"
           }
          ],
          "choropleth": [
           {
            "colorbar": {
             "outlinewidth": 0,
             "ticks": ""
            },
            "type": "choropleth"
           }
          ],
          "contour": [
           {
            "colorbar": {
             "outlinewidth": 0,
             "ticks": ""
            },
            "colorscale": [
             [
              0,
              "#0d0887"
             ],
             [
              0.1111111111111111,
              "#46039f"
             ],
             [
              0.2222222222222222,
              "#7201a8"
             ],
             [
              0.3333333333333333,
              "#9c179e"
             ],
             [
              0.4444444444444444,
              "#bd3786"
             ],
             [
              0.5555555555555556,
              "#d8576b"
             ],
             [
              0.6666666666666666,
              "#ed7953"
             ],
             [
              0.7777777777777778,
              "#fb9f3a"
             ],
             [
              0.8888888888888888,
              "#fdca26"
             ],
             [
              1,
              "#f0f921"
             ]
            ],
            "type": "contour"
           }
          ],
          "contourcarpet": [
           {
            "colorbar": {
             "outlinewidth": 0,
             "ticks": ""
            },
            "type": "contourcarpet"
           }
          ],
          "heatmap": [
           {
            "colorbar": {
             "outlinewidth": 0,
             "ticks": ""
            },
            "colorscale": [
             [
              0,
              "#0d0887"
             ],
             [
              0.1111111111111111,
              "#46039f"
             ],
             [
              0.2222222222222222,
              "#7201a8"
             ],
             [
              0.3333333333333333,
              "#9c179e"
             ],
             [
              0.4444444444444444,
              "#bd3786"
             ],
             [
              0.5555555555555556,
              "#d8576b"
             ],
             [
              0.6666666666666666,
              "#ed7953"
             ],
             [
              0.7777777777777778,
              "#fb9f3a"
             ],
             [
              0.8888888888888888,
              "#fdca26"
             ],
             [
              1,
              "#f0f921"
             ]
            ],
            "type": "heatmap"
           }
          ],
          "heatmapgl": [
           {
            "colorbar": {
             "outlinewidth": 0,
             "ticks": ""
            },
            "colorscale": [
             [
              0,
              "#0d0887"
             ],
             [
              0.1111111111111111,
              "#46039f"
             ],
             [
              0.2222222222222222,
              "#7201a8"
             ],
             [
              0.3333333333333333,
              "#9c179e"
             ],
             [
              0.4444444444444444,
              "#bd3786"
             ],
             [
              0.5555555555555556,
              "#d8576b"
             ],
             [
              0.6666666666666666,
              "#ed7953"
             ],
             [
              0.7777777777777778,
              "#fb9f3a"
             ],
             [
              0.8888888888888888,
              "#fdca26"
             ],
             [
              1,
              "#f0f921"
             ]
            ],
            "type": "heatmapgl"
           }
          ],
          "histogram": [
           {
            "marker": {
             "colorbar": {
              "outlinewidth": 0,
              "ticks": ""
             }
            },
            "type": "histogram"
           }
          ],
          "histogram2d": [
           {
            "colorbar": {
             "outlinewidth": 0,
             "ticks": ""
            },
            "colorscale": [
             [
              0,
              "#0d0887"
             ],
             [
              0.1111111111111111,
              "#46039f"
             ],
             [
              0.2222222222222222,
              "#7201a8"
             ],
             [
              0.3333333333333333,
              "#9c179e"
             ],
             [
              0.4444444444444444,
              "#bd3786"
             ],
             [
              0.5555555555555556,
              "#d8576b"
             ],
             [
              0.6666666666666666,
              "#ed7953"
             ],
             [
              0.7777777777777778,
              "#fb9f3a"
             ],
             [
              0.8888888888888888,
              "#fdca26"
             ],
             [
              1,
              "#f0f921"
             ]
            ],
            "type": "histogram2d"
           }
          ],
          "histogram2dcontour": [
           {
            "colorbar": {
             "outlinewidth": 0,
             "ticks": ""
            },
            "colorscale": [
             [
              0,
              "#0d0887"
             ],
             [
              0.1111111111111111,
              "#46039f"
             ],
             [
              0.2222222222222222,
              "#7201a8"
             ],
             [
              0.3333333333333333,
              "#9c179e"
             ],
             [
              0.4444444444444444,
              "#bd3786"
             ],
             [
              0.5555555555555556,
              "#d8576b"
             ],
             [
              0.6666666666666666,
              "#ed7953"
             ],
             [
              0.7777777777777778,
              "#fb9f3a"
             ],
             [
              0.8888888888888888,
              "#fdca26"
             ],
             [
              1,
              "#f0f921"
             ]
            ],
            "type": "histogram2dcontour"
           }
          ],
          "mesh3d": [
           {
            "colorbar": {
             "outlinewidth": 0,
             "ticks": ""
            },
            "type": "mesh3d"
           }
          ],
          "parcoords": [
           {
            "line": {
             "colorbar": {
              "outlinewidth": 0,
              "ticks": ""
             }
            },
            "type": "parcoords"
           }
          ],
          "scatter": [
           {
            "marker": {
             "colorbar": {
              "outlinewidth": 0,
              "ticks": ""
             }
            },
            "type": "scatter"
           }
          ],
          "scatter3d": [
           {
            "line": {
             "colorbar": {
              "outlinewidth": 0,
              "ticks": ""
             }
            },
            "marker": {
             "colorbar": {
              "outlinewidth": 0,
              "ticks": ""
             }
            },
            "type": "scatter3d"
           }
          ],
          "scattercarpet": [
           {
            "marker": {
             "colorbar": {
              "outlinewidth": 0,
              "ticks": ""
             }
            },
            "type": "scattercarpet"
           }
          ],
          "scattergeo": [
           {
            "marker": {
             "colorbar": {
              "outlinewidth": 0,
              "ticks": ""
             }
            },
            "type": "scattergeo"
           }
          ],
          "scattergl": [
           {
            "marker": {
             "colorbar": {
              "outlinewidth": 0,
              "ticks": ""
             }
            },
            "type": "scattergl"
           }
          ],
          "scattermapbox": [
           {
            "marker": {
             "colorbar": {
              "outlinewidth": 0,
              "ticks": ""
             }
            },
            "type": "scattermapbox"
           }
          ],
          "scatterpolar": [
           {
            "marker": {
             "colorbar": {
              "outlinewidth": 0,
              "ticks": ""
             }
            },
            "type": "scatterpolar"
           }
          ],
          "scatterpolargl": [
           {
            "marker": {
             "colorbar": {
              "outlinewidth": 0,
              "ticks": ""
             }
            },
            "type": "scatterpolargl"
           }
          ],
          "scatterternary": [
           {
            "marker": {
             "colorbar": {
              "outlinewidth": 0,
              "ticks": ""
             }
            },
            "type": "scatterternary"
           }
          ],
          "surface": [
           {
            "colorbar": {
             "outlinewidth": 0,
             "ticks": ""
            },
            "colorscale": [
             [
              0,
              "#0d0887"
             ],
             [
              0.1111111111111111,
              "#46039f"
             ],
             [
              0.2222222222222222,
              "#7201a8"
             ],
             [
              0.3333333333333333,
              "#9c179e"
             ],
             [
              0.4444444444444444,
              "#bd3786"
             ],
             [
              0.5555555555555556,
              "#d8576b"
             ],
             [
              0.6666666666666666,
              "#ed7953"
             ],
             [
              0.7777777777777778,
              "#fb9f3a"
             ],
             [
              0.8888888888888888,
              "#fdca26"
             ],
             [
              1,
              "#f0f921"
             ]
            ],
            "type": "surface"
           }
          ],
          "table": [
           {
            "cells": {
             "fill": {
              "color": "#EBF0F8"
             },
             "line": {
              "color": "white"
             }
            },
            "header": {
             "fill": {
              "color": "#C8D4E3"
             },
             "line": {
              "color": "white"
             }
            },
            "type": "table"
           }
          ]
         },
         "layout": {
          "annotationdefaults": {
           "arrowcolor": "#2a3f5f",
           "arrowhead": 0,
           "arrowwidth": 1
          },
          "colorscale": {
           "diverging": [
            [
             0,
             "#8e0152"
            ],
            [
             0.1,
             "#c51b7d"
            ],
            [
             0.2,
             "#de77ae"
            ],
            [
             0.3,
             "#f1b6da"
            ],
            [
             0.4,
             "#fde0ef"
            ],
            [
             0.5,
             "#f7f7f7"
            ],
            [
             0.6,
             "#e6f5d0"
            ],
            [
             0.7,
             "#b8e186"
            ],
            [
             0.8,
             "#7fbc41"
            ],
            [
             0.9,
             "#4d9221"
            ],
            [
             1,
             "#276419"
            ]
           ],
           "sequential": [
            [
             0,
             "#0d0887"
            ],
            [
             0.1111111111111111,
             "#46039f"
            ],
            [
             0.2222222222222222,
             "#7201a8"
            ],
            [
             0.3333333333333333,
             "#9c179e"
            ],
            [
             0.4444444444444444,
             "#bd3786"
            ],
            [
             0.5555555555555556,
             "#d8576b"
            ],
            [
             0.6666666666666666,
             "#ed7953"
            ],
            [
             0.7777777777777778,
             "#fb9f3a"
            ],
            [
             0.8888888888888888,
             "#fdca26"
            ],
            [
             1,
             "#f0f921"
            ]
           ],
           "sequentialminus": [
            [
             0,
             "#0d0887"
            ],
            [
             0.1111111111111111,
             "#46039f"
            ],
            [
             0.2222222222222222,
             "#7201a8"
            ],
            [
             0.3333333333333333,
             "#9c179e"
            ],
            [
             0.4444444444444444,
             "#bd3786"
            ],
            [
             0.5555555555555556,
             "#d8576b"
            ],
            [
             0.6666666666666666,
             "#ed7953"
            ],
            [
             0.7777777777777778,
             "#fb9f3a"
            ],
            [
             0.8888888888888888,
             "#fdca26"
            ],
            [
             1,
             "#f0f921"
            ]
           ]
          },
          "colorway": [
           "#636efa",
           "#EF553B",
           "#00cc96",
           "#ab63fa",
           "#FFA15A",
           "#19d3f3",
           "#FF6692",
           "#B6E880",
           "#FF97FF",
           "#FECB52"
          ],
          "font": {
           "color": "#2a3f5f"
          },
          "geo": {
           "bgcolor": "white",
           "lakecolor": "white",
           "landcolor": "#E5ECF6",
           "showlakes": true,
           "showland": true,
           "subunitcolor": "white"
          },
          "hoverlabel": {
           "align": "left"
          },
          "hovermode": "closest",
          "mapbox": {
           "style": "light"
          },
          "paper_bgcolor": "white",
          "plot_bgcolor": "#E5ECF6",
          "polar": {
           "angularaxis": {
            "gridcolor": "white",
            "linecolor": "white",
            "ticks": ""
           },
           "bgcolor": "#E5ECF6",
           "radialaxis": {
            "gridcolor": "white",
            "linecolor": "white",
            "ticks": ""
           }
          },
          "scene": {
           "xaxis": {
            "backgroundcolor": "#E5ECF6",
            "gridcolor": "white",
            "gridwidth": 2,
            "linecolor": "white",
            "showbackground": true,
            "ticks": "",
            "zerolinecolor": "white"
           },
           "yaxis": {
            "backgroundcolor": "#E5ECF6",
            "gridcolor": "white",
            "gridwidth": 2,
            "linecolor": "white",
            "showbackground": true,
            "ticks": "",
            "zerolinecolor": "white"
           },
           "zaxis": {
            "backgroundcolor": "#E5ECF6",
            "gridcolor": "white",
            "gridwidth": 2,
            "linecolor": "white",
            "showbackground": true,
            "ticks": "",
            "zerolinecolor": "white"
           }
          },
          "shapedefaults": {
           "line": {
            "color": "#2a3f5f"
           }
          },
          "ternary": {
           "aaxis": {
            "gridcolor": "white",
            "linecolor": "white",
            "ticks": ""
           },
           "baxis": {
            "gridcolor": "white",
            "linecolor": "white",
            "ticks": ""
           },
           "bgcolor": "#E5ECF6",
           "caxis": {
            "gridcolor": "white",
            "linecolor": "white",
            "ticks": ""
           }
          },
          "title": {
           "x": 0.05
          },
          "xaxis": {
           "automargin": true,
           "gridcolor": "white",
           "linecolor": "white",
           "ticks": "",
           "zerolinecolor": "white",
           "zerolinewidth": 2
          },
          "yaxis": {
           "automargin": true,
           "gridcolor": "white",
           "linecolor": "white",
           "ticks": "",
           "zerolinecolor": "white",
           "zerolinewidth": 2
          }
         }
        },
        "title": {
         "text": "Researchers nationalities"
        }
       }
      },
      "text/html": [
       "<div>\n",
       "        \n",
       "        \n",
       "            <div id=\"fd3539c0-0e90-46ac-9030-90a08ddca370\" class=\"plotly-graph-div\" style=\"height:525px; width:100%;\"></div>\n",
       "            <script type=\"text/javascript\">\n",
       "                require([\"plotly\"], function(Plotly) {\n",
       "                    window.PLOTLYENV=window.PLOTLYENV || {};\n",
       "                    \n",
       "                if (document.getElementById(\"fd3539c0-0e90-46ac-9030-90a08ddca370\")) {\n",
       "                    Plotly.newPlot(\n",
       "                        'fd3539c0-0e90-46ac-9030-90a08ddca370',\n",
       "                        [{\"colorbar\": {\"title\": {\"text\": \"Log-scale\"}}, \"colorscale\": [[0.0, \"rgb(36, 86, 104)\"], [0.16666666666666666, \"rgb(15, 114, 121)\"], [0.3333333333333333, \"rgb(13, 143, 129)\"], [0.5, \"rgb(57, 171, 126)\"], [0.6666666666666666, \"rgb(110, 197, 116)\"], [0.8333333333333334, \"rgb(169, 220, 103)\"], [1.0, \"rgb(237, 239, 93)\"]], \"locationmode\": \"country names\", \"locations\": [\"Brazil\", \"United States\", \"France\", \"Portugal\", \"Spain\", \"Canada\", \"Chile\", \"Great-Britain\", \"Colombia\", \"Germany\", \"Italy\", \"England\", \"Cuba\", \"Mexico\", \"Peru\", \"China\", \"Australia\", \"Switzerland\", \"Argentina\", \"Netherlands\", \"Sweden\", \"Russia\", \"Belgium\", \"Venezuela\", \"Paquistan\", \"Japan\", \"Norway\", \"India\", \"Austria\", \"Uruguay\", \"Ireland\", \"Scotland\", \"Turkey\", \"Iran\", \"South Korea\", \"Czech republic\", \"Mozambique\", \"Israel\", \"Nigeria\", \"Finland\", \"Belarus\", \"Poland\", \"New Zealand\", \"South Africa\", \"Hungary\", \"Greece\", \"Bolivia\", \"Albania\", \"Iceland\", \"Luxembourg\", \"Northern Ireland\", \"Central African Republic\", \"Denmark\", \"Ukraine\", \"Singapore\", \"Wales\", \"Slovakia\", \"Sudan\", \"Paraguay\", \"Slovenia\", \"Cape Verde\", \"Malaysia\", \"Tunisia\", \"Bulgaria\"], \"reversescale\": true, \"text\": [\"Number of Researchers:  9272\", \"Number of Researchers:  129\", \"Number of Researchers:  84\", \"Number of Researchers:  73\", \"Number of Researchers:  34\", \"Number of Researchers:  34\", \"Number of Researchers:  33\", \"Number of Researchers:  28\", \"Number of Researchers:  27\", \"Number of Researchers:  23\", \"Number of Researchers:  22\", \"Number of Researchers:  19\", \"Number of Researchers:  18\", \"Number of Researchers:  16\", \"Number of Researchers:  12\", \"Number of Researchers:  12\", \"Number of Researchers:  12\", \"Number of Researchers:  12\", \"Number of Researchers:  11\", \"Number of Researchers:  10\", \"Number of Researchers:  9\", \"Number of Researchers:  9\", \"Number of Researchers:  7\", \"Number of Researchers:  6\", \"Number of Researchers:  6\", \"Number of Researchers:  6\", \"Number of Researchers:  5\", \"Number of Researchers:  5\", \"Number of Researchers:  5\", \"Number of Researchers:  4\", \"Number of Researchers:  4\", \"Number of Researchers:  4\", \"Number of Researchers:  3\", \"Number of Researchers:  3\", \"Number of Researchers:  3\", \"Number of Researchers:  3\", \"Number of Researchers:  3\", \"Number of Researchers:  2\", \"Number of Researchers:  2\", \"Number of Researchers:  2\", \"Number of Researchers:  2\", \"Number of Researchers:  2\", \"Number of Researchers:  2\", \"Number of Researchers:  2\", \"Number of Researchers:  1\", \"Number of Researchers:  1\", \"Number of Researchers:  1\", \"Number of Researchers:  1\", \"Number of Researchers:  1\", \"Number of Researchers:  1\", \"Number of Researchers:  1\", \"Number of Researchers:  1\", \"Number of Researchers:  1\", \"Number of Researchers:  1\", \"Number of Researchers:  1\", \"Number of Researchers:  1\", \"Number of Researchers:  1\", \"Number of Researchers:  1\", \"Number of Researchers:  1\", \"Number of Researchers:  1\", \"Number of Researchers:  1\", \"Number of Researchers:  1\", \"Number of Researchers:  1\", \"Number of Researchers:  1\"], \"type\": \"choropleth\", \"z\": [9.13, 4.86, 4.43, 4.29, 3.53, 3.53, 3.5, 3.33, 3.3, 3.14, 3.09, 2.94, 2.89, 2.77, 2.48, 2.48, 2.48, 2.48, 2.4, 2.3, 2.2, 2.2, 1.95, 1.79, 1.79, 1.79, 1.61, 1.61, 1.61, 1.39, 1.39, 1.39, 1.1, 1.1, 1.1, 1.1, 1.1, 0.69, 0.69, 0.69, 0.69, 0.69, 0.69, 0.69, 0.0, 0.0, 0.0, 0.0, 0.0, 0.0, 0.0, 0.0, 0.0, 0.0, 0.0, 0.0, 0.0, 0.0, 0.0, 0.0, 0.0, 0.0, 0.0, 0.0]}],\n",
       "                        {\"geo\": {\"projection\": {\"type\": \"equirectangular\"}, \"showframe\": false}, \"template\": {\"data\": {\"bar\": [{\"error_x\": {\"color\": \"#2a3f5f\"}, \"error_y\": {\"color\": \"#2a3f5f\"}, \"marker\": {\"line\": {\"color\": \"#E5ECF6\", \"width\": 0.5}}, \"type\": \"bar\"}], \"barpolar\": [{\"marker\": {\"line\": {\"color\": \"#E5ECF6\", \"width\": 0.5}}, \"type\": \"barpolar\"}], \"carpet\": [{\"aaxis\": {\"endlinecolor\": \"#2a3f5f\", \"gridcolor\": \"white\", \"linecolor\": \"white\", \"minorgridcolor\": \"white\", \"startlinecolor\": \"#2a3f5f\"}, \"baxis\": {\"endlinecolor\": \"#2a3f5f\", \"gridcolor\": \"white\", \"linecolor\": \"white\", \"minorgridcolor\": \"white\", \"startlinecolor\": \"#2a3f5f\"}, \"type\": \"carpet\"}], \"choropleth\": [{\"colorbar\": {\"outlinewidth\": 0, \"ticks\": \"\"}, \"type\": \"choropleth\"}], \"contour\": [{\"colorbar\": {\"outlinewidth\": 0, \"ticks\": \"\"}, \"colorscale\": [[0.0, \"#0d0887\"], [0.1111111111111111, \"#46039f\"], [0.2222222222222222, \"#7201a8\"], [0.3333333333333333, \"#9c179e\"], [0.4444444444444444, \"#bd3786\"], [0.5555555555555556, \"#d8576b\"], [0.6666666666666666, \"#ed7953\"], [0.7777777777777778, \"#fb9f3a\"], [0.8888888888888888, \"#fdca26\"], [1.0, \"#f0f921\"]], \"type\": \"contour\"}], \"contourcarpet\": [{\"colorbar\": {\"outlinewidth\": 0, \"ticks\": \"\"}, \"type\": \"contourcarpet\"}], \"heatmap\": [{\"colorbar\": {\"outlinewidth\": 0, \"ticks\": \"\"}, \"colorscale\": [[0.0, \"#0d0887\"], [0.1111111111111111, \"#46039f\"], [0.2222222222222222, \"#7201a8\"], [0.3333333333333333, \"#9c179e\"], [0.4444444444444444, \"#bd3786\"], [0.5555555555555556, \"#d8576b\"], [0.6666666666666666, \"#ed7953\"], [0.7777777777777778, \"#fb9f3a\"], [0.8888888888888888, \"#fdca26\"], [1.0, \"#f0f921\"]], \"type\": \"heatmap\"}], \"heatmapgl\": [{\"colorbar\": {\"outlinewidth\": 0, \"ticks\": \"\"}, \"colorscale\": [[0.0, \"#0d0887\"], [0.1111111111111111, \"#46039f\"], [0.2222222222222222, \"#7201a8\"], [0.3333333333333333, \"#9c179e\"], [0.4444444444444444, \"#bd3786\"], [0.5555555555555556, \"#d8576b\"], [0.6666666666666666, \"#ed7953\"], [0.7777777777777778, \"#fb9f3a\"], [0.8888888888888888, \"#fdca26\"], [1.0, \"#f0f921\"]], \"type\": \"heatmapgl\"}], \"histogram\": [{\"marker\": {\"colorbar\": {\"outlinewidth\": 0, \"ticks\": \"\"}}, \"type\": \"histogram\"}], \"histogram2d\": [{\"colorbar\": {\"outlinewidth\": 0, \"ticks\": \"\"}, \"colorscale\": [[0.0, \"#0d0887\"], [0.1111111111111111, \"#46039f\"], [0.2222222222222222, \"#7201a8\"], [0.3333333333333333, \"#9c179e\"], [0.4444444444444444, \"#bd3786\"], [0.5555555555555556, \"#d8576b\"], [0.6666666666666666, \"#ed7953\"], [0.7777777777777778, \"#fb9f3a\"], [0.8888888888888888, \"#fdca26\"], [1.0, \"#f0f921\"]], \"type\": \"histogram2d\"}], \"histogram2dcontour\": [{\"colorbar\": {\"outlinewidth\": 0, \"ticks\": \"\"}, \"colorscale\": [[0.0, \"#0d0887\"], [0.1111111111111111, \"#46039f\"], [0.2222222222222222, \"#7201a8\"], [0.3333333333333333, \"#9c179e\"], [0.4444444444444444, \"#bd3786\"], [0.5555555555555556, \"#d8576b\"], [0.6666666666666666, \"#ed7953\"], [0.7777777777777778, \"#fb9f3a\"], [0.8888888888888888, \"#fdca26\"], [1.0, \"#f0f921\"]], \"type\": \"histogram2dcontour\"}], \"mesh3d\": [{\"colorbar\": {\"outlinewidth\": 0, \"ticks\": \"\"}, \"type\": \"mesh3d\"}], \"parcoords\": [{\"line\": {\"colorbar\": {\"outlinewidth\": 0, \"ticks\": \"\"}}, \"type\": \"parcoords\"}], \"scatter\": [{\"marker\": {\"colorbar\": {\"outlinewidth\": 0, \"ticks\": \"\"}}, \"type\": \"scatter\"}], \"scatter3d\": [{\"line\": {\"colorbar\": {\"outlinewidth\": 0, \"ticks\": \"\"}}, \"marker\": {\"colorbar\": {\"outlinewidth\": 0, \"ticks\": \"\"}}, \"type\": \"scatter3d\"}], \"scattercarpet\": [{\"marker\": {\"colorbar\": {\"outlinewidth\": 0, \"ticks\": \"\"}}, \"type\": \"scattercarpet\"}], \"scattergeo\": [{\"marker\": {\"colorbar\": {\"outlinewidth\": 0, \"ticks\": \"\"}}, \"type\": \"scattergeo\"}], \"scattergl\": [{\"marker\": {\"colorbar\": {\"outlinewidth\": 0, \"ticks\": \"\"}}, \"type\": \"scattergl\"}], \"scattermapbox\": [{\"marker\": {\"colorbar\": {\"outlinewidth\": 0, \"ticks\": \"\"}}, \"type\": \"scattermapbox\"}], \"scatterpolar\": [{\"marker\": {\"colorbar\": {\"outlinewidth\": 0, \"ticks\": \"\"}}, \"type\": \"scatterpolar\"}], \"scatterpolargl\": [{\"marker\": {\"colorbar\": {\"outlinewidth\": 0, \"ticks\": \"\"}}, \"type\": \"scatterpolargl\"}], \"scatterternary\": [{\"marker\": {\"colorbar\": {\"outlinewidth\": 0, \"ticks\": \"\"}}, \"type\": \"scatterternary\"}], \"surface\": [{\"colorbar\": {\"outlinewidth\": 0, \"ticks\": \"\"}, \"colorscale\": [[0.0, \"#0d0887\"], [0.1111111111111111, \"#46039f\"], [0.2222222222222222, \"#7201a8\"], [0.3333333333333333, \"#9c179e\"], [0.4444444444444444, \"#bd3786\"], [0.5555555555555556, \"#d8576b\"], [0.6666666666666666, \"#ed7953\"], [0.7777777777777778, \"#fb9f3a\"], [0.8888888888888888, \"#fdca26\"], [1.0, \"#f0f921\"]], \"type\": \"surface\"}], \"table\": [{\"cells\": {\"fill\": {\"color\": \"#EBF0F8\"}, \"line\": {\"color\": \"white\"}}, \"header\": {\"fill\": {\"color\": \"#C8D4E3\"}, \"line\": {\"color\": \"white\"}}, \"type\": \"table\"}]}, \"layout\": {\"annotationdefaults\": {\"arrowcolor\": \"#2a3f5f\", \"arrowhead\": 0, \"arrowwidth\": 1}, \"colorscale\": {\"diverging\": [[0, \"#8e0152\"], [0.1, \"#c51b7d\"], [0.2, \"#de77ae\"], [0.3, \"#f1b6da\"], [0.4, \"#fde0ef\"], [0.5, \"#f7f7f7\"], [0.6, \"#e6f5d0\"], [0.7, \"#b8e186\"], [0.8, \"#7fbc41\"], [0.9, \"#4d9221\"], [1, \"#276419\"]], \"sequential\": [[0.0, \"#0d0887\"], [0.1111111111111111, \"#46039f\"], [0.2222222222222222, \"#7201a8\"], [0.3333333333333333, \"#9c179e\"], [0.4444444444444444, \"#bd3786\"], [0.5555555555555556, \"#d8576b\"], [0.6666666666666666, \"#ed7953\"], [0.7777777777777778, \"#fb9f3a\"], [0.8888888888888888, \"#fdca26\"], [1.0, \"#f0f921\"]], \"sequentialminus\": [[0.0, \"#0d0887\"], [0.1111111111111111, \"#46039f\"], [0.2222222222222222, \"#7201a8\"], [0.3333333333333333, \"#9c179e\"], [0.4444444444444444, \"#bd3786\"], [0.5555555555555556, \"#d8576b\"], [0.6666666666666666, \"#ed7953\"], [0.7777777777777778, \"#fb9f3a\"], [0.8888888888888888, \"#fdca26\"], [1.0, \"#f0f921\"]]}, \"colorway\": [\"#636efa\", \"#EF553B\", \"#00cc96\", \"#ab63fa\", \"#FFA15A\", \"#19d3f3\", \"#FF6692\", \"#B6E880\", \"#FF97FF\", \"#FECB52\"], \"font\": {\"color\": \"#2a3f5f\"}, \"geo\": {\"bgcolor\": \"white\", \"lakecolor\": \"white\", \"landcolor\": \"#E5ECF6\", \"showlakes\": true, \"showland\": true, \"subunitcolor\": \"white\"}, \"hoverlabel\": {\"align\": \"left\"}, \"hovermode\": \"closest\", \"mapbox\": {\"style\": \"light\"}, \"paper_bgcolor\": \"white\", \"plot_bgcolor\": \"#E5ECF6\", \"polar\": {\"angularaxis\": {\"gridcolor\": \"white\", \"linecolor\": \"white\", \"ticks\": \"\"}, \"bgcolor\": \"#E5ECF6\", \"radialaxis\": {\"gridcolor\": \"white\", \"linecolor\": \"white\", \"ticks\": \"\"}}, \"scene\": {\"xaxis\": {\"backgroundcolor\": \"#E5ECF6\", \"gridcolor\": \"white\", \"gridwidth\": 2, \"linecolor\": \"white\", \"showbackground\": true, \"ticks\": \"\", \"zerolinecolor\": \"white\"}, \"yaxis\": {\"backgroundcolor\": \"#E5ECF6\", \"gridcolor\": \"white\", \"gridwidth\": 2, \"linecolor\": \"white\", \"showbackground\": true, \"ticks\": \"\", \"zerolinecolor\": \"white\"}, \"zaxis\": {\"backgroundcolor\": \"#E5ECF6\", \"gridcolor\": \"white\", \"gridwidth\": 2, \"linecolor\": \"white\", \"showbackground\": true, \"ticks\": \"\", \"zerolinecolor\": \"white\"}}, \"shapedefaults\": {\"line\": {\"color\": \"#2a3f5f\"}}, \"ternary\": {\"aaxis\": {\"gridcolor\": \"white\", \"linecolor\": \"white\", \"ticks\": \"\"}, \"baxis\": {\"gridcolor\": \"white\", \"linecolor\": \"white\", \"ticks\": \"\"}, \"bgcolor\": \"#E5ECF6\", \"caxis\": {\"gridcolor\": \"white\", \"linecolor\": \"white\", \"ticks\": \"\"}}, \"title\": {\"x\": 0.05}, \"xaxis\": {\"automargin\": true, \"gridcolor\": \"white\", \"linecolor\": \"white\", \"ticks\": \"\", \"zerolinecolor\": \"white\", \"zerolinewidth\": 2}, \"yaxis\": {\"automargin\": true, \"gridcolor\": \"white\", \"linecolor\": \"white\", \"ticks\": \"\", \"zerolinecolor\": \"white\", \"zerolinewidth\": 2}}}, \"title\": {\"text\": \"Researchers nationalities\"}},\n",
       "                        {\"responsive\": true}\n",
       "                    ).then(function(){\n",
       "                            \n",
       "var gd = document.getElementById('fd3539c0-0e90-46ac-9030-90a08ddca370');\n",
       "var x = new MutationObserver(function (mutations, observer) {{\n",
       "        var display = window.getComputedStyle(gd).display;\n",
       "        if (!display || display === 'none') {{\n",
       "            console.log([gd, 'removed!']);\n",
       "            Plotly.purge(gd);\n",
       "            observer.disconnect();\n",
       "        }}\n",
       "}});\n",
       "\n",
       "// Listen for the removal of the full notebook cells\n",
       "var notebookContainer = gd.closest('#notebook-container');\n",
       "if (notebookContainer) {{\n",
       "    x.observe(notebookContainer, {childList: true});\n",
       "}}\n",
       "\n",
       "// Listen for the clearing of the current output cell\n",
       "var outputEl = gd.closest('.output');\n",
       "if (outputEl) {{\n",
       "    x.observe(outputEl, {childList: true});\n",
       "}}\n",
       "\n",
       "                        })\n",
       "                };\n",
       "                });\n",
       "            </script>\n",
       "        </div>"
      ]
     },
     "metadata": {},
     "output_type": "display_data"
    }
   ],
   "source": [
    "# preparing dict data\n",
    "data = dict(\n",
    "        type = 'choropleth',\n",
    "        colorscale = 'aggrnyl',\n",
    "        reversescale = True,\n",
    "        locations = temp['index'],\n",
    "        locationmode = \"country names\",\n",
    "        text = temp['text'],\n",
    "        z = temp['log_value'],\n",
    "        colorbar = {'title' : 'Log-scale'}\n",
    "      ) \n",
    "\n",
    "# defining layout\n",
    "layout = dict(title = 'Researchers nationalities',\n",
    "                geo = dict(showframe = False,projection = {'type':'equirectangular'})\n",
    "             )\n",
    "\n",
    "# creating and displaying figure\n",
    "choromap = go.Figure(data = [data],layout = layout)\n",
    "iplot(choromap,validate=False)\n",
    "\n",
    "# saving html\n",
    "choromap.write_html('viz/researchers_nationality.html')\n",
    "\n",
    "# saving png\n",
    "# choromap.write_image('viz/Researchers_Nationalities.png')"
   ]
  },
  {
   "cell_type": "markdown",
   "metadata": {},
   "source": [
    "#### Choropleth map of countries where researchers on Lattes are working"
   ]
  },
  {
   "cell_type": "code",
   "execution_count": 133,
   "metadata": {},
   "outputs": [],
   "source": [
    "temp = pd.DataFrame(authors['PAIS-INSTITUICAO'].value_counts())\n",
    "temp.reset_index(inplace=True)\n",
    "\n",
    "temp = pd.melt(temp, id_vars='index', value_vars='PAIS-INSTITUICAO')\n",
    "#temp.head()"
   ]
  },
  {
   "cell_type": "code",
   "execution_count": 134,
   "metadata": {},
   "outputs": [],
   "source": [
    "# translating countries names\n",
    "temp['index'] = temp['index'].apply(lambda x:translate_country_names[x])\n",
    "\n",
    "# applying log-scale\n",
    "temp['log_value'] = temp['value'].apply(np.log)\n",
    "temp['log_value'] = temp['log_value'].apply(lambda x:round(x,2))\n",
    "\n",
    "# text-label column\n",
    "temp['text'] = 'Number of Researchers:  ' + temp['value'].astype(str)"
   ]
  },
  {
   "cell_type": "code",
   "execution_count": 136,
   "metadata": {},
   "outputs": [
    {
     "data": {
      "application/vnd.plotly.v1+json": {
       "config": {
        "linkText": "Export to plot.ly",
        "plotlyServerURL": "https://plot.ly",
        "showLink": false
       },
       "data": [
        {
         "colorbar": {
          "title": {
           "text": "Log-scale"
          }
         },
         "colorscale": [
          [
           0,
           "rgb(36, 86, 104)"
          ],
          [
           0.16666666666666666,
           "rgb(15, 114, 121)"
          ],
          [
           0.3333333333333333,
           "rgb(13, 143, 129)"
          ],
          [
           0.5,
           "rgb(57, 171, 126)"
          ],
          [
           0.6666666666666666,
           "rgb(110, 197, 116)"
          ],
          [
           0.8333333333333334,
           "rgb(169, 220, 103)"
          ],
          [
           1,
           "rgb(237, 239, 93)"
          ]
         ],
         "locationmode": "country names",
         "locations": [
          "Brazil",
          "United States",
          "France",
          "Portugal",
          "Spain",
          "Canada",
          "Chile",
          "Great-Britain",
          "Colombia",
          "Germany",
          "Italy",
          "England",
          "Cuba",
          "Mexico",
          "Peru",
          "China",
          "Australia",
          "Switzerland",
          "Argentina",
          "Netherlands",
          "Sweden",
          "Russia",
          "Belgium",
          "Venezuela",
          "Paquistan",
          "Japan",
          "Norway",
          "India",
          "Austria",
          "Uruguay",
          "Ireland",
          "Scotland",
          "Turkey",
          "Iran",
          "South Korea",
          "Czech republic",
          "Mozambique",
          "Israel",
          "Nigeria",
          "Finland",
          "Belarus",
          "Poland",
          "New Zealand",
          "South Africa",
          "Hungary",
          "Greece",
          "Bolivia",
          "Albania",
          "Iceland",
          "Luxembourg",
          "Northern Ireland",
          "Central African Republic",
          "Denmark",
          "Ukraine",
          "Singapore",
          "Wales",
          "Slovakia",
          "Sudan",
          "Paraguay",
          "Slovenia",
          "Cape Verde",
          "Malaysia",
          "Tunisia",
          "Bulgaria"
         ],
         "reversescale": true,
         "text": [
          "Number of Researchers:  9272",
          "Number of Researchers:  129",
          "Number of Researchers:  84",
          "Number of Researchers:  73",
          "Number of Researchers:  34",
          "Number of Researchers:  34",
          "Number of Researchers:  33",
          "Number of Researchers:  28",
          "Number of Researchers:  27",
          "Number of Researchers:  23",
          "Number of Researchers:  22",
          "Number of Researchers:  19",
          "Number of Researchers:  18",
          "Number of Researchers:  16",
          "Number of Researchers:  12",
          "Number of Researchers:  12",
          "Number of Researchers:  12",
          "Number of Researchers:  12",
          "Number of Researchers:  11",
          "Number of Researchers:  10",
          "Number of Researchers:  9",
          "Number of Researchers:  9",
          "Number of Researchers:  7",
          "Number of Researchers:  6",
          "Number of Researchers:  6",
          "Number of Researchers:  6",
          "Number of Researchers:  5",
          "Number of Researchers:  5",
          "Number of Researchers:  5",
          "Number of Researchers:  4",
          "Number of Researchers:  4",
          "Number of Researchers:  4",
          "Number of Researchers:  3",
          "Number of Researchers:  3",
          "Number of Researchers:  3",
          "Number of Researchers:  3",
          "Number of Researchers:  3",
          "Number of Researchers:  2",
          "Number of Researchers:  2",
          "Number of Researchers:  2",
          "Number of Researchers:  2",
          "Number of Researchers:  2",
          "Number of Researchers:  2",
          "Number of Researchers:  2",
          "Number of Researchers:  1",
          "Number of Researchers:  1",
          "Number of Researchers:  1",
          "Number of Researchers:  1",
          "Number of Researchers:  1",
          "Number of Researchers:  1",
          "Number of Researchers:  1",
          "Number of Researchers:  1",
          "Number of Researchers:  1",
          "Number of Researchers:  1",
          "Number of Researchers:  1",
          "Number of Researchers:  1",
          "Number of Researchers:  1",
          "Number of Researchers:  1",
          "Number of Researchers:  1",
          "Number of Researchers:  1",
          "Number of Researchers:  1",
          "Number of Researchers:  1",
          "Number of Researchers:  1",
          "Number of Researchers:  1"
         ],
         "type": "choropleth",
         "z": [
          9.13,
          4.86,
          4.43,
          4.29,
          3.53,
          3.53,
          3.5,
          3.33,
          3.3,
          3.14,
          3.09,
          2.94,
          2.89,
          2.77,
          2.48,
          2.48,
          2.48,
          2.48,
          2.4,
          2.3,
          2.2,
          2.2,
          1.95,
          1.79,
          1.79,
          1.79,
          1.61,
          1.61,
          1.61,
          1.39,
          1.39,
          1.39,
          1.1,
          1.1,
          1.1,
          1.1,
          1.1,
          0.69,
          0.69,
          0.69,
          0.69,
          0.69,
          0.69,
          0.69,
          0,
          0,
          0,
          0,
          0,
          0,
          0,
          0,
          0,
          0,
          0,
          0,
          0,
          0,
          0,
          0,
          0,
          0,
          0,
          0
         ]
        }
       ],
       "layout": {
        "geo": {
         "projection": {
          "type": "equirectangular"
         },
         "showframe": false
        },
        "template": {
         "data": {
          "bar": [
           {
            "error_x": {
             "color": "#2a3f5f"
            },
            "error_y": {
             "color": "#2a3f5f"
            },
            "marker": {
             "line": {
              "color": "#E5ECF6",
              "width": 0.5
             }
            },
            "type": "bar"
           }
          ],
          "barpolar": [
           {
            "marker": {
             "line": {
              "color": "#E5ECF6",
              "width": 0.5
             }
            },
            "type": "barpolar"
           }
          ],
          "carpet": [
           {
            "aaxis": {
             "endlinecolor": "#2a3f5f",
             "gridcolor": "white",
             "linecolor": "white",
             "minorgridcolor": "white",
             "startlinecolor": "#2a3f5f"
            },
            "baxis": {
             "endlinecolor": "#2a3f5f",
             "gridcolor": "white",
             "linecolor": "white",
             "minorgridcolor": "white",
             "startlinecolor": "#2a3f5f"
            },
            "type": "carpet"
           }
          ],
          "choropleth": [
           {
            "colorbar": {
             "outlinewidth": 0,
             "ticks": ""
            },
            "type": "choropleth"
           }
          ],
          "contour": [
           {
            "colorbar": {
             "outlinewidth": 0,
             "ticks": ""
            },
            "colorscale": [
             [
              0,
              "#0d0887"
             ],
             [
              0.1111111111111111,
              "#46039f"
             ],
             [
              0.2222222222222222,
              "#7201a8"
             ],
             [
              0.3333333333333333,
              "#9c179e"
             ],
             [
              0.4444444444444444,
              "#bd3786"
             ],
             [
              0.5555555555555556,
              "#d8576b"
             ],
             [
              0.6666666666666666,
              "#ed7953"
             ],
             [
              0.7777777777777778,
              "#fb9f3a"
             ],
             [
              0.8888888888888888,
              "#fdca26"
             ],
             [
              1,
              "#f0f921"
             ]
            ],
            "type": "contour"
           }
          ],
          "contourcarpet": [
           {
            "colorbar": {
             "outlinewidth": 0,
             "ticks": ""
            },
            "type": "contourcarpet"
           }
          ],
          "heatmap": [
           {
            "colorbar": {
             "outlinewidth": 0,
             "ticks": ""
            },
            "colorscale": [
             [
              0,
              "#0d0887"
             ],
             [
              0.1111111111111111,
              "#46039f"
             ],
             [
              0.2222222222222222,
              "#7201a8"
             ],
             [
              0.3333333333333333,
              "#9c179e"
             ],
             [
              0.4444444444444444,
              "#bd3786"
             ],
             [
              0.5555555555555556,
              "#d8576b"
             ],
             [
              0.6666666666666666,
              "#ed7953"
             ],
             [
              0.7777777777777778,
              "#fb9f3a"
             ],
             [
              0.8888888888888888,
              "#fdca26"
             ],
             [
              1,
              "#f0f921"
             ]
            ],
            "type": "heatmap"
           }
          ],
          "heatmapgl": [
           {
            "colorbar": {
             "outlinewidth": 0,
             "ticks": ""
            },
            "colorscale": [
             [
              0,
              "#0d0887"
             ],
             [
              0.1111111111111111,
              "#46039f"
             ],
             [
              0.2222222222222222,
              "#7201a8"
             ],
             [
              0.3333333333333333,
              "#9c179e"
             ],
             [
              0.4444444444444444,
              "#bd3786"
             ],
             [
              0.5555555555555556,
              "#d8576b"
             ],
             [
              0.6666666666666666,
              "#ed7953"
             ],
             [
              0.7777777777777778,
              "#fb9f3a"
             ],
             [
              0.8888888888888888,
              "#fdca26"
             ],
             [
              1,
              "#f0f921"
             ]
            ],
            "type": "heatmapgl"
           }
          ],
          "histogram": [
           {
            "marker": {
             "colorbar": {
              "outlinewidth": 0,
              "ticks": ""
             }
            },
            "type": "histogram"
           }
          ],
          "histogram2d": [
           {
            "colorbar": {
             "outlinewidth": 0,
             "ticks": ""
            },
            "colorscale": [
             [
              0,
              "#0d0887"
             ],
             [
              0.1111111111111111,
              "#46039f"
             ],
             [
              0.2222222222222222,
              "#7201a8"
             ],
             [
              0.3333333333333333,
              "#9c179e"
             ],
             [
              0.4444444444444444,
              "#bd3786"
             ],
             [
              0.5555555555555556,
              "#d8576b"
             ],
             [
              0.6666666666666666,
              "#ed7953"
             ],
             [
              0.7777777777777778,
              "#fb9f3a"
             ],
             [
              0.8888888888888888,
              "#fdca26"
             ],
             [
              1,
              "#f0f921"
             ]
            ],
            "type": "histogram2d"
           }
          ],
          "histogram2dcontour": [
           {
            "colorbar": {
             "outlinewidth": 0,
             "ticks": ""
            },
            "colorscale": [
             [
              0,
              "#0d0887"
             ],
             [
              0.1111111111111111,
              "#46039f"
             ],
             [
              0.2222222222222222,
              "#7201a8"
             ],
             [
              0.3333333333333333,
              "#9c179e"
             ],
             [
              0.4444444444444444,
              "#bd3786"
             ],
             [
              0.5555555555555556,
              "#d8576b"
             ],
             [
              0.6666666666666666,
              "#ed7953"
             ],
             [
              0.7777777777777778,
              "#fb9f3a"
             ],
             [
              0.8888888888888888,
              "#fdca26"
             ],
             [
              1,
              "#f0f921"
             ]
            ],
            "type": "histogram2dcontour"
           }
          ],
          "mesh3d": [
           {
            "colorbar": {
             "outlinewidth": 0,
             "ticks": ""
            },
            "type": "mesh3d"
           }
          ],
          "parcoords": [
           {
            "line": {
             "colorbar": {
              "outlinewidth": 0,
              "ticks": ""
             }
            },
            "type": "parcoords"
           }
          ],
          "scatter": [
           {
            "marker": {
             "colorbar": {
              "outlinewidth": 0,
              "ticks": ""
             }
            },
            "type": "scatter"
           }
          ],
          "scatter3d": [
           {
            "line": {
             "colorbar": {
              "outlinewidth": 0,
              "ticks": ""
             }
            },
            "marker": {
             "colorbar": {
              "outlinewidth": 0,
              "ticks": ""
             }
            },
            "type": "scatter3d"
           }
          ],
          "scattercarpet": [
           {
            "marker": {
             "colorbar": {
              "outlinewidth": 0,
              "ticks": ""
             }
            },
            "type": "scattercarpet"
           }
          ],
          "scattergeo": [
           {
            "marker": {
             "colorbar": {
              "outlinewidth": 0,
              "ticks": ""
             }
            },
            "type": "scattergeo"
           }
          ],
          "scattergl": [
           {
            "marker": {
             "colorbar": {
              "outlinewidth": 0,
              "ticks": ""
             }
            },
            "type": "scattergl"
           }
          ],
          "scattermapbox": [
           {
            "marker": {
             "colorbar": {
              "outlinewidth": 0,
              "ticks": ""
             }
            },
            "type": "scattermapbox"
           }
          ],
          "scatterpolar": [
           {
            "marker": {
             "colorbar": {
              "outlinewidth": 0,
              "ticks": ""
             }
            },
            "type": "scatterpolar"
           }
          ],
          "scatterpolargl": [
           {
            "marker": {
             "colorbar": {
              "outlinewidth": 0,
              "ticks": ""
             }
            },
            "type": "scatterpolargl"
           }
          ],
          "scatterternary": [
           {
            "marker": {
             "colorbar": {
              "outlinewidth": 0,
              "ticks": ""
             }
            },
            "type": "scatterternary"
           }
          ],
          "surface": [
           {
            "colorbar": {
             "outlinewidth": 0,
             "ticks": ""
            },
            "colorscale": [
             [
              0,
              "#0d0887"
             ],
             [
              0.1111111111111111,
              "#46039f"
             ],
             [
              0.2222222222222222,
              "#7201a8"
             ],
             [
              0.3333333333333333,
              "#9c179e"
             ],
             [
              0.4444444444444444,
              "#bd3786"
             ],
             [
              0.5555555555555556,
              "#d8576b"
             ],
             [
              0.6666666666666666,
              "#ed7953"
             ],
             [
              0.7777777777777778,
              "#fb9f3a"
             ],
             [
              0.8888888888888888,
              "#fdca26"
             ],
             [
              1,
              "#f0f921"
             ]
            ],
            "type": "surface"
           }
          ],
          "table": [
           {
            "cells": {
             "fill": {
              "color": "#EBF0F8"
             },
             "line": {
              "color": "white"
             }
            },
            "header": {
             "fill": {
              "color": "#C8D4E3"
             },
             "line": {
              "color": "white"
             }
            },
            "type": "table"
           }
          ]
         },
         "layout": {
          "annotationdefaults": {
           "arrowcolor": "#2a3f5f",
           "arrowhead": 0,
           "arrowwidth": 1
          },
          "colorscale": {
           "diverging": [
            [
             0,
             "#8e0152"
            ],
            [
             0.1,
             "#c51b7d"
            ],
            [
             0.2,
             "#de77ae"
            ],
            [
             0.3,
             "#f1b6da"
            ],
            [
             0.4,
             "#fde0ef"
            ],
            [
             0.5,
             "#f7f7f7"
            ],
            [
             0.6,
             "#e6f5d0"
            ],
            [
             0.7,
             "#b8e186"
            ],
            [
             0.8,
             "#7fbc41"
            ],
            [
             0.9,
             "#4d9221"
            ],
            [
             1,
             "#276419"
            ]
           ],
           "sequential": [
            [
             0,
             "#0d0887"
            ],
            [
             0.1111111111111111,
             "#46039f"
            ],
            [
             0.2222222222222222,
             "#7201a8"
            ],
            [
             0.3333333333333333,
             "#9c179e"
            ],
            [
             0.4444444444444444,
             "#bd3786"
            ],
            [
             0.5555555555555556,
             "#d8576b"
            ],
            [
             0.6666666666666666,
             "#ed7953"
            ],
            [
             0.7777777777777778,
             "#fb9f3a"
            ],
            [
             0.8888888888888888,
             "#fdca26"
            ],
            [
             1,
             "#f0f921"
            ]
           ],
           "sequentialminus": [
            [
             0,
             "#0d0887"
            ],
            [
             0.1111111111111111,
             "#46039f"
            ],
            [
             0.2222222222222222,
             "#7201a8"
            ],
            [
             0.3333333333333333,
             "#9c179e"
            ],
            [
             0.4444444444444444,
             "#bd3786"
            ],
            [
             0.5555555555555556,
             "#d8576b"
            ],
            [
             0.6666666666666666,
             "#ed7953"
            ],
            [
             0.7777777777777778,
             "#fb9f3a"
            ],
            [
             0.8888888888888888,
             "#fdca26"
            ],
            [
             1,
             "#f0f921"
            ]
           ]
          },
          "colorway": [
           "#636efa",
           "#EF553B",
           "#00cc96",
           "#ab63fa",
           "#FFA15A",
           "#19d3f3",
           "#FF6692",
           "#B6E880",
           "#FF97FF",
           "#FECB52"
          ],
          "font": {
           "color": "#2a3f5f"
          },
          "geo": {
           "bgcolor": "white",
           "lakecolor": "white",
           "landcolor": "#E5ECF6",
           "showlakes": true,
           "showland": true,
           "subunitcolor": "white"
          },
          "hoverlabel": {
           "align": "left"
          },
          "hovermode": "closest",
          "mapbox": {
           "style": "light"
          },
          "paper_bgcolor": "white",
          "plot_bgcolor": "#E5ECF6",
          "polar": {
           "angularaxis": {
            "gridcolor": "white",
            "linecolor": "white",
            "ticks": ""
           },
           "bgcolor": "#E5ECF6",
           "radialaxis": {
            "gridcolor": "white",
            "linecolor": "white",
            "ticks": ""
           }
          },
          "scene": {
           "xaxis": {
            "backgroundcolor": "#E5ECF6",
            "gridcolor": "white",
            "gridwidth": 2,
            "linecolor": "white",
            "showbackground": true,
            "ticks": "",
            "zerolinecolor": "white"
           },
           "yaxis": {
            "backgroundcolor": "#E5ECF6",
            "gridcolor": "white",
            "gridwidth": 2,
            "linecolor": "white",
            "showbackground": true,
            "ticks": "",
            "zerolinecolor": "white"
           },
           "zaxis": {
            "backgroundcolor": "#E5ECF6",
            "gridcolor": "white",
            "gridwidth": 2,
            "linecolor": "white",
            "showbackground": true,
            "ticks": "",
            "zerolinecolor": "white"
           }
          },
          "shapedefaults": {
           "line": {
            "color": "#2a3f5f"
           }
          },
          "ternary": {
           "aaxis": {
            "gridcolor": "white",
            "linecolor": "white",
            "ticks": ""
           },
           "baxis": {
            "gridcolor": "white",
            "linecolor": "white",
            "ticks": ""
           },
           "bgcolor": "#E5ECF6",
           "caxis": {
            "gridcolor": "white",
            "linecolor": "white",
            "ticks": ""
           }
          },
          "title": {
           "x": 0.05
          },
          "xaxis": {
           "automargin": true,
           "gridcolor": "white",
           "linecolor": "white",
           "ticks": "",
           "zerolinecolor": "white",
           "zerolinewidth": 2
          },
          "yaxis": {
           "automargin": true,
           "gridcolor": "white",
           "linecolor": "white",
           "ticks": "",
           "zerolinecolor": "white",
           "zerolinewidth": 2
          }
         }
        },
        "title": {
         "text": "Researchers working worldwide"
        }
       }
      },
      "text/html": [
       "<div>\n",
       "        \n",
       "        \n",
       "            <div id=\"176f01f9-a291-45c8-b5e0-0c2d0c57675e\" class=\"plotly-graph-div\" style=\"height:525px; width:100%;\"></div>\n",
       "            <script type=\"text/javascript\">\n",
       "                require([\"plotly\"], function(Plotly) {\n",
       "                    window.PLOTLYENV=window.PLOTLYENV || {};\n",
       "                    \n",
       "                if (document.getElementById(\"176f01f9-a291-45c8-b5e0-0c2d0c57675e\")) {\n",
       "                    Plotly.newPlot(\n",
       "                        '176f01f9-a291-45c8-b5e0-0c2d0c57675e',\n",
       "                        [{\"colorbar\": {\"title\": {\"text\": \"Log-scale\"}}, \"colorscale\": [[0.0, \"rgb(36, 86, 104)\"], [0.16666666666666666, \"rgb(15, 114, 121)\"], [0.3333333333333333, \"rgb(13, 143, 129)\"], [0.5, \"rgb(57, 171, 126)\"], [0.6666666666666666, \"rgb(110, 197, 116)\"], [0.8333333333333334, \"rgb(169, 220, 103)\"], [1.0, \"rgb(237, 239, 93)\"]], \"locationmode\": \"country names\", \"locations\": [\"Brazil\", \"United States\", \"France\", \"Portugal\", \"Spain\", \"Canada\", \"Chile\", \"Great-Britain\", \"Colombia\", \"Germany\", \"Italy\", \"England\", \"Cuba\", \"Mexico\", \"Peru\", \"China\", \"Australia\", \"Switzerland\", \"Argentina\", \"Netherlands\", \"Sweden\", \"Russia\", \"Belgium\", \"Venezuela\", \"Paquistan\", \"Japan\", \"Norway\", \"India\", \"Austria\", \"Uruguay\", \"Ireland\", \"Scotland\", \"Turkey\", \"Iran\", \"South Korea\", \"Czech republic\", \"Mozambique\", \"Israel\", \"Nigeria\", \"Finland\", \"Belarus\", \"Poland\", \"New Zealand\", \"South Africa\", \"Hungary\", \"Greece\", \"Bolivia\", \"Albania\", \"Iceland\", \"Luxembourg\", \"Northern Ireland\", \"Central African Republic\", \"Denmark\", \"Ukraine\", \"Singapore\", \"Wales\", \"Slovakia\", \"Sudan\", \"Paraguay\", \"Slovenia\", \"Cape Verde\", \"Malaysia\", \"Tunisia\", \"Bulgaria\"], \"reversescale\": true, \"text\": [\"Number of Researchers:  9272\", \"Number of Researchers:  129\", \"Number of Researchers:  84\", \"Number of Researchers:  73\", \"Number of Researchers:  34\", \"Number of Researchers:  34\", \"Number of Researchers:  33\", \"Number of Researchers:  28\", \"Number of Researchers:  27\", \"Number of Researchers:  23\", \"Number of Researchers:  22\", \"Number of Researchers:  19\", \"Number of Researchers:  18\", \"Number of Researchers:  16\", \"Number of Researchers:  12\", \"Number of Researchers:  12\", \"Number of Researchers:  12\", \"Number of Researchers:  12\", \"Number of Researchers:  11\", \"Number of Researchers:  10\", \"Number of Researchers:  9\", \"Number of Researchers:  9\", \"Number of Researchers:  7\", \"Number of Researchers:  6\", \"Number of Researchers:  6\", \"Number of Researchers:  6\", \"Number of Researchers:  5\", \"Number of Researchers:  5\", \"Number of Researchers:  5\", \"Number of Researchers:  4\", \"Number of Researchers:  4\", \"Number of Researchers:  4\", \"Number of Researchers:  3\", \"Number of Researchers:  3\", \"Number of Researchers:  3\", \"Number of Researchers:  3\", \"Number of Researchers:  3\", \"Number of Researchers:  2\", \"Number of Researchers:  2\", \"Number of Researchers:  2\", \"Number of Researchers:  2\", \"Number of Researchers:  2\", \"Number of Researchers:  2\", \"Number of Researchers:  2\", \"Number of Researchers:  1\", \"Number of Researchers:  1\", \"Number of Researchers:  1\", \"Number of Researchers:  1\", \"Number of Researchers:  1\", \"Number of Researchers:  1\", \"Number of Researchers:  1\", \"Number of Researchers:  1\", \"Number of Researchers:  1\", \"Number of Researchers:  1\", \"Number of Researchers:  1\", \"Number of Researchers:  1\", \"Number of Researchers:  1\", \"Number of Researchers:  1\", \"Number of Researchers:  1\", \"Number of Researchers:  1\", \"Number of Researchers:  1\", \"Number of Researchers:  1\", \"Number of Researchers:  1\", \"Number of Researchers:  1\"], \"type\": \"choropleth\", \"z\": [9.13, 4.86, 4.43, 4.29, 3.53, 3.53, 3.5, 3.33, 3.3, 3.14, 3.09, 2.94, 2.89, 2.77, 2.48, 2.48, 2.48, 2.48, 2.4, 2.3, 2.2, 2.2, 1.95, 1.79, 1.79, 1.79, 1.61, 1.61, 1.61, 1.39, 1.39, 1.39, 1.1, 1.1, 1.1, 1.1, 1.1, 0.69, 0.69, 0.69, 0.69, 0.69, 0.69, 0.69, 0.0, 0.0, 0.0, 0.0, 0.0, 0.0, 0.0, 0.0, 0.0, 0.0, 0.0, 0.0, 0.0, 0.0, 0.0, 0.0, 0.0, 0.0, 0.0, 0.0]}],\n",
       "                        {\"geo\": {\"projection\": {\"type\": \"equirectangular\"}, \"showframe\": false}, \"template\": {\"data\": {\"bar\": [{\"error_x\": {\"color\": \"#2a3f5f\"}, \"error_y\": {\"color\": \"#2a3f5f\"}, \"marker\": {\"line\": {\"color\": \"#E5ECF6\", \"width\": 0.5}}, \"type\": \"bar\"}], \"barpolar\": [{\"marker\": {\"line\": {\"color\": \"#E5ECF6\", \"width\": 0.5}}, \"type\": \"barpolar\"}], \"carpet\": [{\"aaxis\": {\"endlinecolor\": \"#2a3f5f\", \"gridcolor\": \"white\", \"linecolor\": \"white\", \"minorgridcolor\": \"white\", \"startlinecolor\": \"#2a3f5f\"}, \"baxis\": {\"endlinecolor\": \"#2a3f5f\", \"gridcolor\": \"white\", \"linecolor\": \"white\", \"minorgridcolor\": \"white\", \"startlinecolor\": \"#2a3f5f\"}, \"type\": \"carpet\"}], \"choropleth\": [{\"colorbar\": {\"outlinewidth\": 0, \"ticks\": \"\"}, \"type\": \"choropleth\"}], \"contour\": [{\"colorbar\": {\"outlinewidth\": 0, \"ticks\": \"\"}, \"colorscale\": [[0.0, \"#0d0887\"], [0.1111111111111111, \"#46039f\"], [0.2222222222222222, \"#7201a8\"], [0.3333333333333333, \"#9c179e\"], [0.4444444444444444, \"#bd3786\"], [0.5555555555555556, \"#d8576b\"], [0.6666666666666666, \"#ed7953\"], [0.7777777777777778, \"#fb9f3a\"], [0.8888888888888888, \"#fdca26\"], [1.0, \"#f0f921\"]], \"type\": \"contour\"}], \"contourcarpet\": [{\"colorbar\": {\"outlinewidth\": 0, \"ticks\": \"\"}, \"type\": \"contourcarpet\"}], \"heatmap\": [{\"colorbar\": {\"outlinewidth\": 0, \"ticks\": \"\"}, \"colorscale\": [[0.0, \"#0d0887\"], [0.1111111111111111, \"#46039f\"], [0.2222222222222222, \"#7201a8\"], [0.3333333333333333, \"#9c179e\"], [0.4444444444444444, \"#bd3786\"], [0.5555555555555556, \"#d8576b\"], [0.6666666666666666, \"#ed7953\"], [0.7777777777777778, \"#fb9f3a\"], [0.8888888888888888, \"#fdca26\"], [1.0, \"#f0f921\"]], \"type\": \"heatmap\"}], \"heatmapgl\": [{\"colorbar\": {\"outlinewidth\": 0, \"ticks\": \"\"}, \"colorscale\": [[0.0, \"#0d0887\"], [0.1111111111111111, \"#46039f\"], [0.2222222222222222, \"#7201a8\"], [0.3333333333333333, \"#9c179e\"], [0.4444444444444444, \"#bd3786\"], [0.5555555555555556, \"#d8576b\"], [0.6666666666666666, \"#ed7953\"], [0.7777777777777778, \"#fb9f3a\"], [0.8888888888888888, \"#fdca26\"], [1.0, \"#f0f921\"]], \"type\": \"heatmapgl\"}], \"histogram\": [{\"marker\": {\"colorbar\": {\"outlinewidth\": 0, \"ticks\": \"\"}}, \"type\": \"histogram\"}], \"histogram2d\": [{\"colorbar\": {\"outlinewidth\": 0, \"ticks\": \"\"}, \"colorscale\": [[0.0, \"#0d0887\"], [0.1111111111111111, \"#46039f\"], [0.2222222222222222, \"#7201a8\"], [0.3333333333333333, \"#9c179e\"], [0.4444444444444444, \"#bd3786\"], [0.5555555555555556, \"#d8576b\"], [0.6666666666666666, \"#ed7953\"], [0.7777777777777778, \"#fb9f3a\"], [0.8888888888888888, \"#fdca26\"], [1.0, \"#f0f921\"]], \"type\": \"histogram2d\"}], \"histogram2dcontour\": [{\"colorbar\": {\"outlinewidth\": 0, \"ticks\": \"\"}, \"colorscale\": [[0.0, \"#0d0887\"], [0.1111111111111111, \"#46039f\"], [0.2222222222222222, \"#7201a8\"], [0.3333333333333333, \"#9c179e\"], [0.4444444444444444, \"#bd3786\"], [0.5555555555555556, \"#d8576b\"], [0.6666666666666666, \"#ed7953\"], [0.7777777777777778, \"#fb9f3a\"], [0.8888888888888888, \"#fdca26\"], [1.0, \"#f0f921\"]], \"type\": \"histogram2dcontour\"}], \"mesh3d\": [{\"colorbar\": {\"outlinewidth\": 0, \"ticks\": \"\"}, \"type\": \"mesh3d\"}], \"parcoords\": [{\"line\": {\"colorbar\": {\"outlinewidth\": 0, \"ticks\": \"\"}}, \"type\": \"parcoords\"}], \"scatter\": [{\"marker\": {\"colorbar\": {\"outlinewidth\": 0, \"ticks\": \"\"}}, \"type\": \"scatter\"}], \"scatter3d\": [{\"line\": {\"colorbar\": {\"outlinewidth\": 0, \"ticks\": \"\"}}, \"marker\": {\"colorbar\": {\"outlinewidth\": 0, \"ticks\": \"\"}}, \"type\": \"scatter3d\"}], \"scattercarpet\": [{\"marker\": {\"colorbar\": {\"outlinewidth\": 0, \"ticks\": \"\"}}, \"type\": \"scattercarpet\"}], \"scattergeo\": [{\"marker\": {\"colorbar\": {\"outlinewidth\": 0, \"ticks\": \"\"}}, \"type\": \"scattergeo\"}], \"scattergl\": [{\"marker\": {\"colorbar\": {\"outlinewidth\": 0, \"ticks\": \"\"}}, \"type\": \"scattergl\"}], \"scattermapbox\": [{\"marker\": {\"colorbar\": {\"outlinewidth\": 0, \"ticks\": \"\"}}, \"type\": \"scattermapbox\"}], \"scatterpolar\": [{\"marker\": {\"colorbar\": {\"outlinewidth\": 0, \"ticks\": \"\"}}, \"type\": \"scatterpolar\"}], \"scatterpolargl\": [{\"marker\": {\"colorbar\": {\"outlinewidth\": 0, \"ticks\": \"\"}}, \"type\": \"scatterpolargl\"}], \"scatterternary\": [{\"marker\": {\"colorbar\": {\"outlinewidth\": 0, \"ticks\": \"\"}}, \"type\": \"scatterternary\"}], \"surface\": [{\"colorbar\": {\"outlinewidth\": 0, \"ticks\": \"\"}, \"colorscale\": [[0.0, \"#0d0887\"], [0.1111111111111111, \"#46039f\"], [0.2222222222222222, \"#7201a8\"], [0.3333333333333333, \"#9c179e\"], [0.4444444444444444, \"#bd3786\"], [0.5555555555555556, \"#d8576b\"], [0.6666666666666666, \"#ed7953\"], [0.7777777777777778, \"#fb9f3a\"], [0.8888888888888888, \"#fdca26\"], [1.0, \"#f0f921\"]], \"type\": \"surface\"}], \"table\": [{\"cells\": {\"fill\": {\"color\": \"#EBF0F8\"}, \"line\": {\"color\": \"white\"}}, \"header\": {\"fill\": {\"color\": \"#C8D4E3\"}, \"line\": {\"color\": \"white\"}}, \"type\": \"table\"}]}, \"layout\": {\"annotationdefaults\": {\"arrowcolor\": \"#2a3f5f\", \"arrowhead\": 0, \"arrowwidth\": 1}, \"colorscale\": {\"diverging\": [[0, \"#8e0152\"], [0.1, \"#c51b7d\"], [0.2, \"#de77ae\"], [0.3, \"#f1b6da\"], [0.4, \"#fde0ef\"], [0.5, \"#f7f7f7\"], [0.6, \"#e6f5d0\"], [0.7, \"#b8e186\"], [0.8, \"#7fbc41\"], [0.9, \"#4d9221\"], [1, \"#276419\"]], \"sequential\": [[0.0, \"#0d0887\"], [0.1111111111111111, \"#46039f\"], [0.2222222222222222, \"#7201a8\"], [0.3333333333333333, \"#9c179e\"], [0.4444444444444444, \"#bd3786\"], [0.5555555555555556, \"#d8576b\"], [0.6666666666666666, \"#ed7953\"], [0.7777777777777778, \"#fb9f3a\"], [0.8888888888888888, \"#fdca26\"], [1.0, \"#f0f921\"]], \"sequentialminus\": [[0.0, \"#0d0887\"], [0.1111111111111111, \"#46039f\"], [0.2222222222222222, \"#7201a8\"], [0.3333333333333333, \"#9c179e\"], [0.4444444444444444, \"#bd3786\"], [0.5555555555555556, \"#d8576b\"], [0.6666666666666666, \"#ed7953\"], [0.7777777777777778, \"#fb9f3a\"], [0.8888888888888888, \"#fdca26\"], [1.0, \"#f0f921\"]]}, \"colorway\": [\"#636efa\", \"#EF553B\", \"#00cc96\", \"#ab63fa\", \"#FFA15A\", \"#19d3f3\", \"#FF6692\", \"#B6E880\", \"#FF97FF\", \"#FECB52\"], \"font\": {\"color\": \"#2a3f5f\"}, \"geo\": {\"bgcolor\": \"white\", \"lakecolor\": \"white\", \"landcolor\": \"#E5ECF6\", \"showlakes\": true, \"showland\": true, \"subunitcolor\": \"white\"}, \"hoverlabel\": {\"align\": \"left\"}, \"hovermode\": \"closest\", \"mapbox\": {\"style\": \"light\"}, \"paper_bgcolor\": \"white\", \"plot_bgcolor\": \"#E5ECF6\", \"polar\": {\"angularaxis\": {\"gridcolor\": \"white\", \"linecolor\": \"white\", \"ticks\": \"\"}, \"bgcolor\": \"#E5ECF6\", \"radialaxis\": {\"gridcolor\": \"white\", \"linecolor\": \"white\", \"ticks\": \"\"}}, \"scene\": {\"xaxis\": {\"backgroundcolor\": \"#E5ECF6\", \"gridcolor\": \"white\", \"gridwidth\": 2, \"linecolor\": \"white\", \"showbackground\": true, \"ticks\": \"\", \"zerolinecolor\": \"white\"}, \"yaxis\": {\"backgroundcolor\": \"#E5ECF6\", \"gridcolor\": \"white\", \"gridwidth\": 2, \"linecolor\": \"white\", \"showbackground\": true, \"ticks\": \"\", \"zerolinecolor\": \"white\"}, \"zaxis\": {\"backgroundcolor\": \"#E5ECF6\", \"gridcolor\": \"white\", \"gridwidth\": 2, \"linecolor\": \"white\", \"showbackground\": true, \"ticks\": \"\", \"zerolinecolor\": \"white\"}}, \"shapedefaults\": {\"line\": {\"color\": \"#2a3f5f\"}}, \"ternary\": {\"aaxis\": {\"gridcolor\": \"white\", \"linecolor\": \"white\", \"ticks\": \"\"}, \"baxis\": {\"gridcolor\": \"white\", \"linecolor\": \"white\", \"ticks\": \"\"}, \"bgcolor\": \"#E5ECF6\", \"caxis\": {\"gridcolor\": \"white\", \"linecolor\": \"white\", \"ticks\": \"\"}}, \"title\": {\"x\": 0.05}, \"xaxis\": {\"automargin\": true, \"gridcolor\": \"white\", \"linecolor\": \"white\", \"ticks\": \"\", \"zerolinecolor\": \"white\", \"zerolinewidth\": 2}, \"yaxis\": {\"automargin\": true, \"gridcolor\": \"white\", \"linecolor\": \"white\", \"ticks\": \"\", \"zerolinecolor\": \"white\", \"zerolinewidth\": 2}}}, \"title\": {\"text\": \"Researchers working worldwide\"}},\n",
       "                        {\"responsive\": true}\n",
       "                    ).then(function(){\n",
       "                            \n",
       "var gd = document.getElementById('176f01f9-a291-45c8-b5e0-0c2d0c57675e');\n",
       "var x = new MutationObserver(function (mutations, observer) {{\n",
       "        var display = window.getComputedStyle(gd).display;\n",
       "        if (!display || display === 'none') {{\n",
       "            console.log([gd, 'removed!']);\n",
       "            Plotly.purge(gd);\n",
       "            observer.disconnect();\n",
       "        }}\n",
       "}});\n",
       "\n",
       "// Listen for the removal of the full notebook cells\n",
       "var notebookContainer = gd.closest('#notebook-container');\n",
       "if (notebookContainer) {{\n",
       "    x.observe(notebookContainer, {childList: true});\n",
       "}}\n",
       "\n",
       "// Listen for the clearing of the current output cell\n",
       "var outputEl = gd.closest('.output');\n",
       "if (outputEl) {{\n",
       "    x.observe(outputEl, {childList: true});\n",
       "}}\n",
       "\n",
       "                        })\n",
       "                };\n",
       "                });\n",
       "            </script>\n",
       "        </div>"
      ]
     },
     "metadata": {},
     "output_type": "display_data"
    }
   ],
   "source": [
    "data = dict(\n",
    "        type = 'choropleth',\n",
    "        colorscale = 'aggrnyl',\n",
    "        reversescale = True,\n",
    "        locations = temp['index'],\n",
    "        locationmode = \"country names\",\n",
    "        text = temp['text'],\n",
    "        z = temp['log_value'],\n",
    "        colorbar = {'title' : 'Log-scale'}\n",
    "      ) \n",
    "\n",
    "layout = dict(title = 'Researchers working worldwide',\n",
    "                geo = dict(showframe = False,projection = {'type':'equirectangular'})\n",
    "             )\n",
    "\n",
    "choromap = go.Figure(data = [data],layout = layout)\n",
    "iplot(choromap,validate=False)\n",
    "\n",
    "choromap.write_html('viz/researchers_working_worldwide.html')"
   ]
  },
  {
   "cell_type": "markdown",
   "metadata": {},
   "source": [
    "### End of this notebook."
   ]
  }
 ],
 "metadata": {
  "kernelspec": {
   "display_name": "Python 3",
   "language": "python",
   "name": "python3"
  },
  "language_info": {
   "codemirror_mode": {
    "name": "ipython",
    "version": 3
   },
   "file_extension": ".py",
   "mimetype": "text/x-python",
   "name": "python",
   "nbconvert_exporter": "python",
   "pygments_lexer": "ipython3",
   "version": "3.7.3"
  }
 },
 "nbformat": 4,
 "nbformat_minor": 2
}
