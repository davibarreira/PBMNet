{
 "cells": [
  {
   "cell_type": "code",
   "execution_count": 1,
   "metadata": {},
   "outputs": [],
   "source": [
    "from pymongo import MongoClient\n",
    "import zipfile\n",
    "import json\n",
    "import xmltodict\n",
    "import os\n",
    "from collections import Counter\n",
    "import pandas as pd"
   ]
  },
  {
   "cell_type": "code",
   "execution_count": 31,
   "metadata": {},
   "outputs": [
    {
     "data": {
      "text/plain": [
       "'./dados/5104764113732271.zip'"
      ]
     },
     "execution_count": 31,
     "metadata": {},
     "output_type": "execute_result"
    }
   ],
   "source": [
    "zipfs = ['./dados/' + zipf for zipf in os.listdir('./dados/')]\n",
    "zips_corr = list(pd.read_csv('Lista_Zips_Corretos.csv', usecols=[1],dtype=int)['0'])\n",
    "zipfs = [zipfs[i] for i in zips_corr]\n",
    "zipfs.pop(7959) #Arquivo que estava com erro e nao tinha sido identificado"
   ]
  },
  {
   "cell_type": "code",
   "execution_count": 12,
   "metadata": {},
   "outputs": [],
   "source": [
    "client = MongoClient()\n",
    "client = MongoClient('localhost', 27017)\n",
    "db = client['pbmnet']\n",
    "curriculos = db.curriculos"
   ]
  },
  {
   "cell_type": "code",
   "execution_count": 36,
   "metadata": {},
   "outputs": [],
   "source": [
    "n = 100\n",
    "for i in range(0,len(zipfs),n):\n",
    "    cvs = []\n",
    "    for cv_zip in zipfs[i:i+n]:\n",
    "        cvs.append(xmltodict.parse((zipfile.ZipFile(cv_zip,'r').read('curriculo.xml')))['CURRICULO-VITAE'])\n",
    "    curriculos.insert_many(cvs)"
   ]
  }
 ],
 "metadata": {
  "kernelspec": {
   "display_name": "Python3(datascience)",
   "language": "python",
   "name": "datascience"
  },
  "language_info": {
   "codemirror_mode": {
    "name": "ipython",
    "version": 3
   },
   "file_extension": ".py",
   "mimetype": "text/x-python",
   "name": "python",
   "nbconvert_exporter": "python",
   "pygments_lexer": "ipython3",
   "version": "3.6.8"
  }
 },
 "nbformat": 4,
 "nbformat_minor": 2
}
