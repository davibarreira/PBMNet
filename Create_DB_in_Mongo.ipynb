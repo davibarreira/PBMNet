{
 "cells": [
  {
   "cell_type": "markdown",
   "metadata": {},
   "source": [
    "# Creating DataBase in MongoDB\n",
    "\n",
    "In this notebook, we'll extract all Curricula from .zip files and insert into a Mongo Database.\n",
    "\n",
    "-----\n",
    "\n",
    "**As usual, let's begin with some imports..**"
   ]
  },
  {
   "cell_type": "code",
   "execution_count": 1,
   "metadata": {},
   "outputs": [],
   "source": [
    "import os\n",
    "import json\n",
    "import zipfile\n",
    "import xmltodict\n",
    "import pandas as pd\n",
    "\n",
    "from collections import Counter\n",
    "from pymongo import MongoClient"
   ]
  },
  {
   "cell_type": "markdown",
   "metadata": {},
   "source": [
    "<br>\n",
    "\n",
    "**Now, we're going to collect all .zip names**"
   ]
  },
  {
   "cell_type": "code",
   "execution_count": 6,
   "metadata": {},
   "outputs": [],
   "source": [
    "zips_corr = list(pd.read_csv('Zips_Corretos.csv', usecols=[1],dtype=str)['0'])"
   ]
  },
  {
   "cell_type": "code",
   "execution_count": 8,
   "metadata": {},
   "outputs": [],
   "source": [
    "zipfs = ['./dados/' + zipf for zipf in os.listdir('./dados/')]     # .zip names\n",
    "\n",
    "# reading files number (attributed by LATTES platform)\n",
    "zips_corr = list(pd.read_csv('Zips_Corretos.csv', usecols=[1],dtype=str)['0'])\n",
    "#zipfs = [zipfs[i] for i in zips_corr]\n",
    "zipfs = zips_corr"
   ]
  },
  {
   "cell_type": "markdown",
   "metadata": {},
   "source": [
    "<br>\n",
    "\n",
    "**Starting Mongo Client...**"
   ]
  },
  {
   "cell_type": "code",
   "execution_count": 9,
   "metadata": {},
   "outputs": [],
   "source": [
    "client = MongoClient()\n",
    "client = MongoClient('localhost', 27017)\n",
    "db = client['pbmnet']\n",
    "curriculos = db.curriculos"
   ]
  },
  {
   "cell_type": "markdown",
   "metadata": {},
   "source": [
    "<br>\n",
    "\n",
    "**Extracting all curricula from zip files and inserting to Mongo Database**"
   ]
  },
  {
   "cell_type": "code",
   "execution_count": 10,
   "metadata": {},
   "outputs": [],
   "source": [
    "n = 100\n",
    "for i in range(0,len(zipfs),n):\n",
    "    cvs = []\n",
    "    for cv_zip in zipfs[i:i+n]:\n",
    "        cvs.append(xmltodict.parse((zipfile.ZipFile(cv_zip,'r').read('curriculo.xml')))['CURRICULO-VITAE'])\n",
    "    curriculos.insert_many(cvs)"
   ]
  },
  {
   "cell_type": "markdown",
   "metadata": {},
   "source": [
    "<br>\n",
    "\n",
    "And voilà. Our database was created."
   ]
  }
 ],
 "metadata": {
  "kernelspec": {
   "display_name": "Python 3",
   "language": "python",
   "name": "python3"
  },
  "language_info": {
   "codemirror_mode": {
    "name": "ipython",
    "version": 3
   },
   "file_extension": ".py",
   "mimetype": "text/x-python",
   "name": "python",
   "nbconvert_exporter": "python",
   "pygments_lexer": "ipython3",
   "version": "3.6.8"
  }
 },
 "nbformat": 4,
 "nbformat_minor": 2
}
