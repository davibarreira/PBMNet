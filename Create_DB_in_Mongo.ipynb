{
 "cells": [
  {
   "cell_type": "code",
   "execution_count": 28,
   "metadata": {},
   "outputs": [],
   "source": [
    "from pymongo import MongoClient\n",
    "import zipfile\n",
    "import json\n",
    "import xmltodict\n",
    "import os\n",
    "from collections import Counter\n",
    "import pandas as pd"
   ]
  },
  {
   "cell_type": "code",
   "execution_count": 33,
   "metadata": {},
   "outputs": [],
   "source": [
    "zipfs = ['./dados/' + zipf for zipf in os.listdir('./dados/')]\n",
    "zips_corr = list(pd.read_csv('Lista_Zips_Corretos.csv', usecols=[1],dtype=int)['0'])\n",
    "zipfs = [zipfs[i] for i in zips_corr]\n",
    "cv = xmltodict.parse((zipfile.ZipFile(zipfs[0],'r').read('curriculo.xml')))"
   ]
  },
  {
   "cell_type": "code",
   "execution_count": 36,
   "metadata": {},
   "outputs": [],
   "source": [
    "cvs = []\n",
    "for i in range(1,4):\n",
    "    cvs.append(xmltodict.parse((zipfile.ZipFile(zipfs[i],'r').read('curriculo.xml'))))"
   ]
  },
  {
   "cell_type": "code",
   "execution_count": 30,
   "metadata": {},
   "outputs": [],
   "source": [
    "client = MongoClient()\n",
    "client = MongoClient('localhost', 27017)"
   ]
  },
  {
   "cell_type": "code",
   "execution_count": 32,
   "metadata": {},
   "outputs": [],
   "source": [
    "db = client['pymongo_test']"
   ]
  },
  {
   "cell_type": "code",
   "execution_count": 35,
   "metadata": {},
   "outputs": [
    {
     "name": "stdout",
     "output_type": "stream",
     "text": [
      "One post: 5d2e28a0bd0c9810e66c4dd4\n"
     ]
    }
   ],
   "source": [
    "posts = db.posts\n",
    "post_data = cv\n",
    "result = posts.insert_one(post_data)\n",
    "print('One post: {0}'.format(result.inserted_id))"
   ]
  },
  {
   "cell_type": "code",
   "execution_count": 39,
   "metadata": {},
   "outputs": [
    {
     "name": "stdout",
     "output_type": "stream",
     "text": [
      "Multiple posts: [ObjectId('5d2e2a66bd0c9810e66c4dd5'), ObjectId('5d2e2a66bd0c9810e66c4dd6'), ObjectId('5d2e2a66bd0c9810e66c4dd7')]\n"
     ]
    }
   ],
   "source": [
    "new_result = posts.insert_many([cvs[0],cvs[1],cvs[2]])\n",
    "print('Multiple posts: {0}'.format(new_result.inserted_ids))"
   ]
  },
  {
   "cell_type": "code",
   "execution_count": null,
   "metadata": {},
   "outputs": [],
   "source": []
  }
 ],
 "metadata": {
  "kernelspec": {
   "display_name": "Python3(datascience)",
   "language": "python",
   "name": "datascience"
  },
  "language_info": {
   "codemirror_mode": {
    "name": "ipython",
    "version": 3
   },
   "file_extension": ".py",
   "mimetype": "text/x-python",
   "name": "python",
   "nbconvert_exporter": "python",
   "pygments_lexer": "ipython3",
   "version": "3.6.8"
  }
 },
 "nbformat": 4,
 "nbformat_minor": 2
}
