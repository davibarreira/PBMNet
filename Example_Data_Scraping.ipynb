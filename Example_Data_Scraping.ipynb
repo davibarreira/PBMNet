{
 "cells": [
  {
   "cell_type": "markdown",
   "metadata": {},
   "source": [
    "<h1><center>Data Scraping</center></h1>\n",
    "This notebook contains an example of scraping 2 cv's. The extraction of all the documents takes roughly a full day,\n",
    "and can be done using the script called ExtractLattes.py, located in the folder data_scraping.\n",
    "\n",
    "This file uses the script BreakingCaptcha.py, present also in data_scraping, which has the function implemented\n",
    "to try to guess the captcha. The file \"sinais.pkl\" contains information about the captcha that is used\n",
    "by the script BrakingCaptcha.py in order to make the guess."
   ]
  },
  {
   "cell_type": "code",
   "execution_count": 1,
   "metadata": {},
   "outputs": [],
   "source": [
    "import sys\n",
    "sys.path.insert(1, './data_scraping')\n",
    "\n",
    "from selenium import webdriver\n",
    "from selenium.webdriver.firefox.options import Options\n",
    "from BreakingCaptcha import *\n",
    "from PIL import Image\n",
    "from io import BytesIO\n",
    "import base64\n",
    "import os\n",
    "import logging\n",
    "\n",
    "logging.basicConfig(filename='./data_scraping/extract_lattes.log',level=logging.INFO)\n",
    "\n",
    "def Get_Captcha(ele_captcha,outputname):\n",
    "    # get the captcha as a base64 string\n",
    "    img_captcha_base64 = driver.execute_async_script(\"\"\"\n",
    "        var ele = arguments[0], callback = arguments[1];\n",
    "        ele.addEventListener('load', function fn(){\n",
    "          ele.removeEventListener('load', fn, false);\n",
    "          var cnv = document.createElement('canvas');\n",
    "          cnv.width = this.width; cnv.height = this.height;\n",
    "          cnv.getContext('2d').drawImage(this, 0, 0);\n",
    "          callback(cnv.toDataURL('image/jpeg').substring(22));\n",
    "        }, false);\n",
    "        ele.dispatchEvent(new Event('load'));\n",
    "        \"\"\", ele_captcha)\n",
    "\n",
    "    # save the captcha to a file\n",
    "    with open(outputname, 'wb') as f:\n",
    "        f.write(base64.b64decode(img_captcha_base64))\n",
    "\n"
   ]
  },
  {
   "cell_type": "markdown",
   "metadata": {},
   "source": [
    "Above we define a function to extract the image of the captcha from the website. Notice that one must\n",
    "use Firefox for this. We cannot say that it will work with other browsers.\n",
    "\n",
    "Below we actually extract two cvs."
   ]
  },
  {
   "cell_type": "code",
   "execution_count": 2,
   "metadata": {},
   "outputs": [
    {
     "name": "stdout",
     "output_type": "stream",
     "text": [
      "True\n",
      "True\n"
     ]
    }
   ],
   "source": [
    "options = Options()\n",
    "# options.headless = True\n",
    "\n",
    "donwload_file_location = '/home/davi/Dropbox/FGV/EMAp/pbmnet/data_scraping/cvs/'\n",
    "profile = webdriver.FirefoxProfile()\n",
    "profile.set_preference('browser.download.folderList', 2) # custom location\n",
    "profile.set_preference('browser.download.manager.showWhenStarting', False)\n",
    "profile.set_preference('browser.download.dir', donwload_file_location)\n",
    "profile.set_preference('browser.helperApps.neverAsk.saveToDisk', 'application/zip')\n",
    "\n",
    "driver = webdriver.Firefox(profile,options=options)\n",
    "driver.set_script_timeout(10)\n",
    "root_page   =  \"http://buscatextual.cnpq.br/buscatextual/download.do?metodo=apresentar&idcnpq=\"\n",
    "\n",
    "lista_cv = ['6778809047429890','0289400810360557']\n",
    "\n",
    "for cod_cv in lista_cv:\n",
    "    url = root_page + cod_cv\n",
    "    driver.get(url)\n",
    "    for i in range(0,10):\n",
    "        ele_captcha = driver.find_element_by_xpath(\"//img[contains(./@src, 'getImagemCaptcha')]\")\n",
    "        outputname = './data_scraping/captcha/captcha_'+cod_cv+'.jpg'\n",
    "        Get_Captcha(ele_captcha,outputname)\n",
    "        previsao = BreakCaptcha(outputname)\n",
    "        inputElement = driver.find_element_by_id(\"informado\")\n",
    "        inputElement.send_keys(previsao)\n",
    "        driver.find_element_by_id('btn_validar_captcha').click()\n",
    "        check_download = os.path.isfile('./data_scraping/cvs/{}.zip'.format(cod_cv))\n",
    "        print(check_download)\n",
    "        if check_download == True:\n",
    "            logging.info('{} - SUCESSO'.format(cod_cv))\n",
    "            break\n",
    "        if i == 9:\n",
    "            logging.warning(\"{} - FALHOU\".format(cod_cv))\n",
    "driver.quit()"
   ]
  }
 ],
 "metadata": {
  "kernelspec": {
   "display_name": "Python3(datascience)",
   "language": "python",
   "name": "datascience"
  },
  "language_info": {
   "codemirror_mode": {
    "name": "ipython",
    "version": 3
   },
   "file_extension": ".py",
   "mimetype": "text/x-python",
   "name": "python",
   "nbconvert_exporter": "python",
   "pygments_lexer": "ipython3",
   "version": "3.6.8"
  }
 },
 "nbformat": 4,
 "nbformat_minor": 2
}
