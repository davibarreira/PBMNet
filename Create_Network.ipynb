{
 "cells": [
  {
   "cell_type": "markdown",
   "metadata": {},
   "source": [
    "# Create Network\n",
    "\n",
    "In this repository, we will create a coauthorship network with the researchers in our database."
   ]
  },
  {
   "cell_type": "code",
   "execution_count": 22,
   "metadata": {},
   "outputs": [],
   "source": [
    "%matplotlib inline\n",
    "import sqlite3\n",
    "import pandas as pd\n",
    "import itertools\n",
    "import networkx as nx\n",
    "from unicodedata import normalize\n",
    "import json"
   ]
  },
  {
   "cell_type": "code",
   "execution_count": 2,
   "metadata": {},
   "outputs": [],
   "source": [
    "authors =  pd.read_csv('./views/Authors.csv',encoding='latin-1',sep=';',index_col=0)\n",
    "papers  =  pd.read_csv('./views/Papers.csv',encoding='latin-1',sep=';',index_col=0)"
   ]
  },
  {
   "cell_type": "code",
   "execution_count": 3,
   "metadata": {},
   "outputs": [
    {
     "data": {
      "text/html": [
       "<div>\n",
       "<style scoped>\n",
       "    .dataframe tbody tr th:only-of-type {\n",
       "        vertical-align: middle;\n",
       "    }\n",
       "\n",
       "    .dataframe tbody tr th {\n",
       "        vertical-align: top;\n",
       "    }\n",
       "\n",
       "    .dataframe thead th {\n",
       "        text-align: right;\n",
       "    }\n",
       "</style>\n",
       "<table border=\"1\" class=\"dataframe\">\n",
       "  <thead>\n",
       "    <tr style=\"text-align: right;\">\n",
       "      <th></th>\n",
       "      <th>index</th>\n",
       "      <th>@DATA-ATUALIZACAO</th>\n",
       "      <th>@NUMERO-IDENTIFICADOR</th>\n",
       "      <th>_id</th>\n",
       "      <th>NOME-COMPLETO</th>\n",
       "      <th>NOME-INSTITUICAO</th>\n",
       "      <th>UF-INSTITUICAO</th>\n",
       "      <th>PAIS-INSTITUICAO</th>\n",
       "      <th>PAIS</th>\n",
       "      <th>NOME-CITACOES</th>\n",
       "      <th>CODIGO-INSTITUICAO</th>\n",
       "    </tr>\n",
       "  </thead>\n",
       "  <tbody>\n",
       "    <tr>\n",
       "      <th>0</th>\n",
       "      <td>0</td>\n",
       "      <td>2014-10-07</td>\n",
       "      <td>2.558570e+15</td>\n",
       "      <td>5d31b6f7a4ef2aef4f143ec2</td>\n",
       "      <td>Aarão Lyra</td>\n",
       "      <td>Universidade Potiguar</td>\n",
       "      <td>RN</td>\n",
       "      <td>Brasil</td>\n",
       "      <td>Brasil</td>\n",
       "      <td>LYRA, A.;Lyra, A.;Lyra, Aarão;LYRA, A</td>\n",
       "      <td>000100000991</td>\n",
       "    </tr>\n",
       "    <tr>\n",
       "      <th>1</th>\n",
       "      <td>1</td>\n",
       "      <td>2017-08-01</td>\n",
       "      <td>3.172488e+15</td>\n",
       "      <td>5d31bcc1a4ef2aef4f144f75</td>\n",
       "      <td>Abdelhakim Senhaji Hafid</td>\n",
       "      <td>NaN</td>\n",
       "      <td>NaN</td>\n",
       "      <td>NaN</td>\n",
       "      <td>Marrocos</td>\n",
       "      <td>HAFID, A. S.;A. HAFID;HAFID, ABDELHAKIM;HAFID,...</td>\n",
       "      <td>NaN</td>\n",
       "    </tr>\n",
       "    <tr>\n",
       "      <th>2</th>\n",
       "      <td>2</td>\n",
       "      <td>2019-09-04</td>\n",
       "      <td>2.745843e+15</td>\n",
       "      <td>5d31b766a4ef2aef4f14451d</td>\n",
       "      <td>Abdelmoubine Amar Henni</td>\n",
       "      <td>Universidade Federal de Santa Catarina</td>\n",
       "      <td>SC</td>\n",
       "      <td>Brasil</td>\n",
       "      <td>Argélia</td>\n",
       "      <td>HENNI, A. A.;HENNI, ABDELMOUBINE AMAR;Amar Abd...</td>\n",
       "      <td>004300000009</td>\n",
       "    </tr>\n",
       "  </tbody>\n",
       "</table>\n",
       "</div>"
      ],
      "text/plain": [
       "   index @DATA-ATUALIZACAO  @NUMERO-IDENTIFICADOR                       _id  \\\n",
       "0      0        2014-10-07           2.558570e+15  5d31b6f7a4ef2aef4f143ec2   \n",
       "1      1        2017-08-01           3.172488e+15  5d31bcc1a4ef2aef4f144f75   \n",
       "2      2        2019-09-04           2.745843e+15  5d31b766a4ef2aef4f14451d   \n",
       "\n",
       "              NOME-COMPLETO                        NOME-INSTITUICAO  \\\n",
       "0                Aarão Lyra                   Universidade Potiguar   \n",
       "1  Abdelhakim Senhaji Hafid                                     NaN   \n",
       "2   Abdelmoubine Amar Henni  Universidade Federal de Santa Catarina   \n",
       "\n",
       "  UF-INSTITUICAO PAIS-INSTITUICAO      PAIS  \\\n",
       "0             RN           Brasil    Brasil   \n",
       "1            NaN              NaN  Marrocos   \n",
       "2             SC           Brasil   Argélia   \n",
       "\n",
       "                                       NOME-CITACOES CODIGO-INSTITUICAO  \n",
       "0              LYRA, A.;Lyra, A.;Lyra, Aarão;LYRA, A       000100000991  \n",
       "1  HAFID, A. S.;A. HAFID;HAFID, ABDELHAKIM;HAFID,...                NaN  \n",
       "2  HENNI, A. A.;HENNI, ABDELMOUBINE AMAR;Amar Abd...       004300000009  "
      ]
     },
     "execution_count": 3,
     "metadata": {},
     "output_type": "execute_result"
    }
   ],
   "source": [
    "authors = authors.reset_index()\n",
    "authors.head(3)"
   ]
  },
  {
   "cell_type": "code",
   "execution_count": 4,
   "metadata": {},
   "outputs": [
    {
     "data": {
      "text/html": [
       "<div>\n",
       "<style scoped>\n",
       "    .dataframe tbody tr th:only-of-type {\n",
       "        vertical-align: middle;\n",
       "    }\n",
       "\n",
       "    .dataframe tbody tr th {\n",
       "        vertical-align: top;\n",
       "    }\n",
       "\n",
       "    .dataframe thead th {\n",
       "        text-align: right;\n",
       "    }\n",
       "</style>\n",
       "<table border=\"1\" class=\"dataframe\">\n",
       "  <thead>\n",
       "    <tr style=\"text-align: right;\">\n",
       "      <th></th>\n",
       "      <th>@NUMERO-IDENTIFICADOR</th>\n",
       "      <th>_id</th>\n",
       "      <th>NOME-COMPLETO</th>\n",
       "      <th>TITULO-DO-ARTIGO</th>\n",
       "      <th>ANO-DO-ARTIGO</th>\n",
       "      <th>JOURNAL</th>\n",
       "      <th>PALAVRAS-CHAVE-ARTIGO</th>\n",
       "      <th>COAUTORES</th>\n",
       "      <th>CHAVE_ARTIGO</th>\n",
       "    </tr>\n",
       "  </thead>\n",
       "  <tbody>\n",
       "    <tr>\n",
       "      <th>0</th>\n",
       "      <td>6.115399e+15</td>\n",
       "      <td>5d31b5b9a4ef2aef4f14294d</td>\n",
       "      <td>Manuel Francisco Zuloeta Jimenez</td>\n",
       "      <td>Weak almost periodic motions, minimality and s...</td>\n",
       "      <td>2014</td>\n",
       "      <td>Journal of Differential Equations (Print)</td>\n",
       "      <td>Sistemas semidinâmicos Impulsivos|Weak almost ...</td>\n",
       "      <td>[{'@NOME-COMPLETO-DO-AUTOR': 'BONOTTO, E.M.', ...</td>\n",
       "      <td>WEAKALMOSTPERIODICMOTIONSMINIMALITYANDSTABILIT...</td>\n",
       "    </tr>\n",
       "    <tr>\n",
       "      <th>1</th>\n",
       "      <td>6.115399e+15</td>\n",
       "      <td>5d31b5b9a4ef2aef4f14294d</td>\n",
       "      <td>Manuel Francisco Zuloeta Jimenez</td>\n",
       "      <td>On impulsive semidynamical systems: minimal, r...</td>\n",
       "      <td>2014</td>\n",
       "      <td>Topological Methods in Nonlinear Analysis</td>\n",
       "      <td>Semidynamical systems|Minimal sets|Recurrence|...</td>\n",
       "      <td>[{'@NOME-COMPLETO-DO-AUTOR': 'BONOTTO, E.M.', ...</td>\n",
       "      <td>ONIMPULSIVESEMIDYNAMICALSYSTEMSMINIMALRECURREN...</td>\n",
       "    </tr>\n",
       "    <tr>\n",
       "      <th>2</th>\n",
       "      <td>6.115399e+15</td>\n",
       "      <td>5d31b5b9a4ef2aef4f14294d</td>\n",
       "      <td>Manuel Francisco Zuloeta Jimenez</td>\n",
       "      <td>Negative trajectories in impulsive semidynamic...</td>\n",
       "      <td>2015</td>\n",
       "      <td>Journal of Differential Equations (Print)</td>\n",
       "      <td>Impulsive semidinâmical systems|Negative semi ...</td>\n",
       "      <td>[{'@NOME-COMPLETO-DO-AUTOR': 'AFONSO, S.M.', '...</td>\n",
       "      <td>NEGATIVETRAJECTORIESINIMPULSIVESEMIDYNAMICALSY...</td>\n",
       "    </tr>\n",
       "  </tbody>\n",
       "</table>\n",
       "</div>"
      ],
      "text/plain": [
       "   @NUMERO-IDENTIFICADOR                       _id  \\\n",
       "0           6.115399e+15  5d31b5b9a4ef2aef4f14294d   \n",
       "1           6.115399e+15  5d31b5b9a4ef2aef4f14294d   \n",
       "2           6.115399e+15  5d31b5b9a4ef2aef4f14294d   \n",
       "\n",
       "                      NOME-COMPLETO  \\\n",
       "0  Manuel Francisco Zuloeta Jimenez   \n",
       "1  Manuel Francisco Zuloeta Jimenez   \n",
       "2  Manuel Francisco Zuloeta Jimenez   \n",
       "\n",
       "                                    TITULO-DO-ARTIGO ANO-DO-ARTIGO  \\\n",
       "0  Weak almost periodic motions, minimality and s...          2014   \n",
       "1  On impulsive semidynamical systems: minimal, r...          2014   \n",
       "2  Negative trajectories in impulsive semidynamic...          2015   \n",
       "\n",
       "                                     JOURNAL  \\\n",
       "0  Journal of Differential Equations (Print)   \n",
       "1  Topological Methods in Nonlinear Analysis   \n",
       "2  Journal of Differential Equations (Print)   \n",
       "\n",
       "                               PALAVRAS-CHAVE-ARTIGO  \\\n",
       "0  Sistemas semidinâmicos Impulsivos|Weak almost ...   \n",
       "1  Semidynamical systems|Minimal sets|Recurrence|...   \n",
       "2  Impulsive semidinâmical systems|Negative semi ...   \n",
       "\n",
       "                                           COAUTORES  \\\n",
       "0  [{'@NOME-COMPLETO-DO-AUTOR': 'BONOTTO, E.M.', ...   \n",
       "1  [{'@NOME-COMPLETO-DO-AUTOR': 'BONOTTO, E.M.', ...   \n",
       "2  [{'@NOME-COMPLETO-DO-AUTOR': 'AFONSO, S.M.', '...   \n",
       "\n",
       "                                        CHAVE_ARTIGO  \n",
       "0  WEAKALMOSTPERIODICMOTIONSMINIMALITYANDSTABILIT...  \n",
       "1  ONIMPULSIVESEMIDYNAMICALSYSTEMSMINIMALRECURREN...  \n",
       "2  NEGATIVETRAJECTORIESINIMPULSIVESEMIDYNAMICALSY...  "
      ]
     },
     "execution_count": 4,
     "metadata": {},
     "output_type": "execute_result"
    }
   ],
   "source": [
    "papers.head(3)\n"
   ]
  },
  {
   "cell_type": "markdown",
   "metadata": {},
   "source": [
    "# Creating sqlite database"
   ]
  },
  {
   "cell_type": "code",
   "execution_count": 5,
   "metadata": {},
   "outputs": [],
   "source": [
    "author_paper_ids = papers[['NOME-COMPLETO','CHAVE_ARTIGO']].groupby(by=['NOME-COMPLETO',\n",
    "                                                                        'CHAVE_ARTIGO']).count().reset_index()"
   ]
  },
  {
   "cell_type": "code",
   "execution_count": 7,
   "metadata": {},
   "outputs": [],
   "source": [
    "schema = \"\"\"\n",
    "DROP TABLE IF EXISTS \"author_paper\";\n",
    "CREATE TABLE IF NOT EXISTS \"author_paper\" (\n",
    "    paper_id VARCHAR,\n",
    "    author_id VARCHAR,\n",
    "    FOREIGN KEY(paper_id) REFERENCES paper(id)\n",
    "    FOREIGN KEY(author_id) REFERENCES author(id)\n",
    ");\n",
    "\"\"\""
   ]
  },
  {
   "cell_type": "code",
   "execution_count": 8,
   "metadata": {},
   "outputs": [],
   "source": [
    "conn = sqlite3.connect('pbmnet.sqlite',timeout=10)\n",
    "cursor = conn.cursor()\n",
    "cursor.executescript(schema)\n",
    "conn.commit()\n",
    "conn.close()"
   ]
  },
  {
   "cell_type": "code",
   "execution_count": 9,
   "metadata": {},
   "outputs": [],
   "source": [
    "ins_paper_author =\"\"\"\n",
    "INSERT INTO author_paper (paper_id, author_id) \\\n",
    "    VALUES (?,?);\n",
    "\"\"\"\n",
    "\n",
    "conn = sqlite3.connect('pbmnet.sqlite',timeout=10)\n",
    "for index,row in author_paper_ids.iterrows():\n",
    "    conn.execute(ins_paper_author,[row['CHAVE_ARTIGO'],row['NOME-COMPLETO']])\n",
    "conn.commit()\n",
    "conn.close()"
   ]
  },
  {
   "cell_type": "markdown",
   "metadata": {},
   "source": [
    "# Creating edge list"
   ]
  },
  {
   "cell_type": "code",
   "execution_count": 10,
   "metadata": {},
   "outputs": [],
   "source": [
    "def Generate_Edges_Authors(db):\n",
    "    DATABASE = db\n",
    "# Cria lista de arestas para rede de autores\n",
    "    query_pair_authors = \"\"\"\n",
    "    SELECT paper_id,\n",
    "           a1.author_id AS author1,\n",
    "           a2.author_id AS author2\n",
    "    FROM author_paper AS a1\n",
    "    JOIN author_paper AS a2 USING (paper_id)\n",
    "    WHERE a1.author_id < a2.author_id;\n",
    "    \"\"\"\n",
    "    conn = sqlite3.connect(DATABASE,timeout=10)\n",
    "    edges_authors = []\n",
    "    for row in conn.execute(query_pair_authors):\n",
    "        edges_authors.append(row)\n",
    "    conn.close()\n",
    "    edges_authors= pd.DataFrame(edges_authors,dtype=int,columns=['paper','author1',\n",
    "                                                                 'author2']).applymap(lambda x: int(x))\n",
    "    \n",
    "    count_authors = edges_authors.groupby(['author1','author2']).count().reset_index()\n",
    "    return count_authors"
   ]
  },
  {
   "cell_type": "code",
   "execution_count": 11,
   "metadata": {},
   "outputs": [],
   "source": [
    "DATABASE = 'pbmnet.sqlite'\n",
    "# Cria lista de arestas para rede de autores\n",
    "query_pair_authors = \"\"\"\n",
    "SELECT paper_id,\n",
    "       a1.author_id AS author1,\n",
    "       a2.author_id AS author2\n",
    "FROM author_paper AS a1\n",
    "JOIN author_paper AS a2 USING (paper_id)\n",
    "WHERE a1.author_id < a2.author_id;\n",
    "\"\"\"\n",
    "conn = sqlite3.connect(DATABASE,timeout=10)\n",
    "edges_authors = []\n",
    "for row in conn.execute(query_pair_authors):\n",
    "    edges_authors.append(row)\n",
    "conn.close()\n",
    "\n",
    "edges_authors= pd.DataFrame(edges_authors,columns=['paper','author1','author2'])"
   ]
  },
  {
   "cell_type": "code",
   "execution_count": 12,
   "metadata": {},
   "outputs": [],
   "source": [
    "count_authors = edges_authors.groupby(['author1','author2']).count().reset_index()"
   ]
  },
  {
   "cell_type": "code",
   "execution_count": 13,
   "metadata": {},
   "outputs": [],
   "source": [
    "count_authors = pd.merge(count_authors,authors[['index','NOME-COMPLETO']],\n",
    "                             left_on='author1',right_on='NOME-COMPLETO',how='left')\n",
    "\n",
    "count_authors = pd.merge(count_authors,authors[['index','NOME-COMPLETO']],\n",
    "                             left_on='author2',right_on='NOME-COMPLETO',how='left',suffixes=('1','2'))"
   ]
  },
  {
   "cell_type": "code",
   "execution_count": 14,
   "metadata": {},
   "outputs": [],
   "source": [
    "count_authors = count_authors[['index1','index2','paper']]\n",
    "count_authors.columns = ['author1','author2','paper']"
   ]
  },
  {
   "cell_type": "code",
   "execution_count": 15,
   "metadata": {},
   "outputs": [
    {
     "data": {
      "text/html": [
       "<div>\n",
       "<style scoped>\n",
       "    .dataframe tbody tr th:only-of-type {\n",
       "        vertical-align: middle;\n",
       "    }\n",
       "\n",
       "    .dataframe tbody tr th {\n",
       "        vertical-align: top;\n",
       "    }\n",
       "\n",
       "    .dataframe thead th {\n",
       "        text-align: right;\n",
       "    }\n",
       "</style>\n",
       "<table border=\"1\" class=\"dataframe\">\n",
       "  <thead>\n",
       "    <tr style=\"text-align: right;\">\n",
       "      <th></th>\n",
       "      <th>author1</th>\n",
       "      <th>author2</th>\n",
       "      <th>paper</th>\n",
       "    </tr>\n",
       "  </thead>\n",
       "  <tbody>\n",
       "    <tr>\n",
       "      <th>0</th>\n",
       "      <td>0</td>\n",
       "      <td>1413</td>\n",
       "      <td>4</td>\n",
       "    </tr>\n",
       "    <tr>\n",
       "      <th>1</th>\n",
       "      <td>0</td>\n",
       "      <td>9846</td>\n",
       "      <td>1</td>\n",
       "    </tr>\n",
       "    <tr>\n",
       "      <th>2</th>\n",
       "      <td>2</td>\n",
       "      <td>7297</td>\n",
       "      <td>3</td>\n",
       "    </tr>\n",
       "    <tr>\n",
       "      <th>3</th>\n",
       "      <td>4</td>\n",
       "      <td>296</td>\n",
       "      <td>1</td>\n",
       "    </tr>\n",
       "    <tr>\n",
       "      <th>4</th>\n",
       "      <td>4</td>\n",
       "      <td>1096</td>\n",
       "      <td>1</td>\n",
       "    </tr>\n",
       "  </tbody>\n",
       "</table>\n",
       "</div>"
      ],
      "text/plain": [
       "   author1  author2  paper\n",
       "0        0     1413      4\n",
       "1        0     9846      1\n",
       "2        2     7297      3\n",
       "3        4      296      1\n",
       "4        4     1096      1"
      ]
     },
     "execution_count": 15,
     "metadata": {},
     "output_type": "execute_result"
    }
   ],
   "source": [
    "count_authors.head()"
   ]
  },
  {
   "cell_type": "code",
   "execution_count": 27,
   "metadata": {},
   "outputs": [],
   "source": [
    "authors_dict = authors[['index','NOME-COMPLETO','NOME-INSTITUICAO','UF-INSTITUICAO',\n",
    "                         'PAIS-INSTITUICAO','PAIS',]].to_dict(orient='records')"
   ]
  },
  {
   "cell_type": "markdown",
   "metadata": {},
   "source": [
    "# Creating the Network"
   ]
  },
  {
   "cell_type": "code",
   "execution_count": 28,
   "metadata": {},
   "outputs": [],
   "source": [
    "def Create_Network(nodes,edges,source='source', target='target',weight='weight'):\n",
    "    G = nx.Graph()\n",
    "    \n",
    "    for d in nodes:\n",
    "        node_id = int(d['index'])\n",
    "        G.add_node(node_id, **d) \n",
    "    \n",
    "    for d in edges.to_dict('records'):\n",
    "        G.add_edge(d[source],d[target],count = d[weight])\n",
    "    \n",
    "#     pos = nx.spring_layout(G,k=2)\n",
    "#     pos = pd.DataFrame(pos).transpose()\n",
    "    \n",
    "#     pos['id'] = pos.index\n",
    "#     pos.columns = ['x','y','id']\n",
    "\n",
    "    \n",
    "    return G"
   ]
  },
  {
   "cell_type": "code",
   "execution_count": 29,
   "metadata": {},
   "outputs": [],
   "source": [
    "G_authors = Create_Network(authors_dict,edges_authors,'author1','author2','paper')"
   ]
  },
  {
   "cell_type": "code",
   "execution_count": 33,
   "metadata": {
    "scrolled": true
   },
   "outputs": [
    {
     "ename": "MemoryError",
     "evalue": "",
     "output_type": "error",
     "traceback": [
      "\u001b[0;31m---------------------------------------------------------------------------\u001b[0m",
      "\u001b[0;31mKeyboardInterrupt\u001b[0m                         Traceback (most recent call last)",
      "\u001b[0;32m~/Envs/datascience/lib/python3.6/site-packages/networkx/drawing/layout.py\u001b[0m in \u001b[0;36mfruchterman_reingold_layout\u001b[0;34m(G, k, pos, fixed, iterations, threshold, weight, scale, center, dim, seed)\u001b[0m\n\u001b[1;32m    458\u001b[0m                                            \u001b[0miterations\u001b[0m\u001b[0;34m,\u001b[0m \u001b[0mthreshold\u001b[0m\u001b[0;34m,\u001b[0m\u001b[0;34m\u001b[0m\u001b[0;34m\u001b[0m\u001b[0m\n\u001b[0;32m--> 459\u001b[0;31m                                            dim, seed)\n\u001b[0m\u001b[1;32m    460\u001b[0m     \u001b[0;32mexcept\u001b[0m\u001b[0;34m:\u001b[0m\u001b[0;34m\u001b[0m\u001b[0;34m\u001b[0m\u001b[0m\n",
      "\u001b[0;32m</home/davi/Envs/datascience/lib/python3.6/site-packages/decorator.py:decorator-gen-787>\u001b[0m in \u001b[0;36m_sparse_fruchterman_reingold\u001b[0;34m(A, k, pos, fixed, iterations, threshold, dim, seed)\u001b[0m\n",
      "\u001b[0;32m~/Envs/datascience/lib/python3.6/site-packages/networkx/utils/decorators.py\u001b[0m in \u001b[0;36m_random_state\u001b[0;34m(func, *args, **kwargs)\u001b[0m\n\u001b[1;32m    404\u001b[0m         \u001b[0mnew_args\u001b[0m\u001b[0;34m[\u001b[0m\u001b[0mrandom_state_index\u001b[0m\u001b[0;34m]\u001b[0m \u001b[0;34m=\u001b[0m \u001b[0mrandom_state\u001b[0m\u001b[0;34m\u001b[0m\u001b[0;34m\u001b[0m\u001b[0m\n\u001b[0;32m--> 405\u001b[0;31m         \u001b[0;32mreturn\u001b[0m \u001b[0mfunc\u001b[0m\u001b[0;34m(\u001b[0m\u001b[0;34m*\u001b[0m\u001b[0mnew_args\u001b[0m\u001b[0;34m,\u001b[0m \u001b[0;34m**\u001b[0m\u001b[0mkwargs\u001b[0m\u001b[0;34m)\u001b[0m\u001b[0;34m\u001b[0m\u001b[0;34m\u001b[0m\u001b[0m\n\u001b[0m\u001b[1;32m    406\u001b[0m     \u001b[0;32mreturn\u001b[0m \u001b[0m_random_state\u001b[0m\u001b[0;34m\u001b[0m\u001b[0;34m\u001b[0m\u001b[0m\n",
      "\u001b[0;32m~/Envs/datascience/lib/python3.6/site-packages/networkx/drawing/layout.py\u001b[0m in \u001b[0;36m_sparse_fruchterman_reingold\u001b[0;34m(A, k, pos, fixed, iterations, threshold, dim, seed)\u001b[0m\n\u001b[1;32m    601\u001b[0m             \u001b[0mdisplacement\u001b[0m\u001b[0;34m[\u001b[0m\u001b[0;34m:\u001b[0m\u001b[0;34m,\u001b[0m \u001b[0mi\u001b[0m\u001b[0;34m]\u001b[0m \u001b[0;34m+=\u001b[0m\u001b[0;31m\\\u001b[0m\u001b[0;34m\u001b[0m\u001b[0;34m\u001b[0m\u001b[0m\n\u001b[0;32m--> 602\u001b[0;31m                 \u001b[0;34m(\u001b[0m\u001b[0mdelta\u001b[0m \u001b[0;34m*\u001b[0m \u001b[0;34m(\u001b[0m\u001b[0mk\u001b[0m \u001b[0;34m*\u001b[0m \u001b[0mk\u001b[0m \u001b[0;34m/\u001b[0m \u001b[0mdistance\u001b[0m\u001b[0;34m**\u001b[0m\u001b[0;36m2\u001b[0m \u001b[0;34m-\u001b[0m \u001b[0mAi\u001b[0m \u001b[0;34m*\u001b[0m \u001b[0mdistance\u001b[0m \u001b[0;34m/\u001b[0m \u001b[0mk\u001b[0m\u001b[0;34m)\u001b[0m\u001b[0;34m)\u001b[0m\u001b[0;34m.\u001b[0m\u001b[0msum\u001b[0m\u001b[0;34m(\u001b[0m\u001b[0maxis\u001b[0m\u001b[0;34m=\u001b[0m\u001b[0;36m1\u001b[0m\u001b[0;34m)\u001b[0m\u001b[0;34m\u001b[0m\u001b[0;34m\u001b[0m\u001b[0m\n\u001b[0m\u001b[1;32m    603\u001b[0m         \u001b[0;31m# update positions\u001b[0m\u001b[0;34m\u001b[0m\u001b[0;34m\u001b[0m\u001b[0;34m\u001b[0m\u001b[0m\n",
      "\u001b[0;31mKeyboardInterrupt\u001b[0m: ",
      "\nDuring handling of the above exception, another exception occurred:\n",
      "\u001b[0;31mMemoryError\u001b[0m                               Traceback (most recent call last)",
      "\u001b[0;32m<ipython-input-33-67e057515bb9>\u001b[0m in \u001b[0;36m<module>\u001b[0;34m\u001b[0m\n\u001b[0;32m----> 1\u001b[0;31m \u001b[0mnx\u001b[0m\u001b[0;34m.\u001b[0m\u001b[0mdraw_spring\u001b[0m\u001b[0;34m(\u001b[0m\u001b[0mG_authors\u001b[0m\u001b[0;34m)\u001b[0m\u001b[0;34m\u001b[0m\u001b[0;34m\u001b[0m\u001b[0m\n\u001b[0m",
      "\u001b[0;32m~/Envs/datascience/lib/python3.6/site-packages/networkx/drawing/nx_pylab.py\u001b[0m in \u001b[0;36mdraw_spring\u001b[0;34m(G, **kwargs)\u001b[0m\n\u001b[1;32m   1035\u001b[0m        \u001b[0mfunction\u001b[0m\u001b[0;34m.\u001b[0m\u001b[0;34m\u001b[0m\u001b[0;34m\u001b[0m\u001b[0m\n\u001b[1;32m   1036\u001b[0m     \"\"\"\n\u001b[0;32m-> 1037\u001b[0;31m     \u001b[0mdraw\u001b[0m\u001b[0;34m(\u001b[0m\u001b[0mG\u001b[0m\u001b[0;34m,\u001b[0m \u001b[0mspring_layout\u001b[0m\u001b[0;34m(\u001b[0m\u001b[0mG\u001b[0m\u001b[0;34m)\u001b[0m\u001b[0;34m,\u001b[0m \u001b[0;34m**\u001b[0m\u001b[0mkwargs\u001b[0m\u001b[0;34m)\u001b[0m\u001b[0;34m\u001b[0m\u001b[0;34m\u001b[0m\u001b[0m\n\u001b[0m\u001b[1;32m   1038\u001b[0m \u001b[0;34m\u001b[0m\u001b[0m\n\u001b[1;32m   1039\u001b[0m \u001b[0;34m\u001b[0m\u001b[0m\n",
      "\u001b[0;32m</home/davi/Envs/datascience/lib/python3.6/site-packages/decorator.py:decorator-gen-783>\u001b[0m in \u001b[0;36mfruchterman_reingold_layout\u001b[0;34m(G, k, pos, fixed, iterations, threshold, weight, scale, center, dim, seed)\u001b[0m\n",
      "\u001b[0;32m~/Envs/datascience/lib/python3.6/site-packages/networkx/utils/decorators.py\u001b[0m in \u001b[0;36m_random_state\u001b[0;34m(func, *args, **kwargs)\u001b[0m\n\u001b[1;32m    403\u001b[0m         \u001b[0mnew_args\u001b[0m \u001b[0;34m=\u001b[0m \u001b[0mlist\u001b[0m\u001b[0;34m(\u001b[0m\u001b[0margs\u001b[0m\u001b[0;34m)\u001b[0m\u001b[0;34m\u001b[0m\u001b[0;34m\u001b[0m\u001b[0m\n\u001b[1;32m    404\u001b[0m         \u001b[0mnew_args\u001b[0m\u001b[0;34m[\u001b[0m\u001b[0mrandom_state_index\u001b[0m\u001b[0;34m]\u001b[0m \u001b[0;34m=\u001b[0m \u001b[0mrandom_state\u001b[0m\u001b[0;34m\u001b[0m\u001b[0;34m\u001b[0m\u001b[0m\n\u001b[0;32m--> 405\u001b[0;31m         \u001b[0;32mreturn\u001b[0m \u001b[0mfunc\u001b[0m\u001b[0;34m(\u001b[0m\u001b[0;34m*\u001b[0m\u001b[0mnew_args\u001b[0m\u001b[0;34m,\u001b[0m \u001b[0;34m**\u001b[0m\u001b[0mkwargs\u001b[0m\u001b[0;34m)\u001b[0m\u001b[0;34m\u001b[0m\u001b[0;34m\u001b[0m\u001b[0m\n\u001b[0m\u001b[1;32m    406\u001b[0m     \u001b[0;32mreturn\u001b[0m \u001b[0m_random_state\u001b[0m\u001b[0;34m\u001b[0m\u001b[0;34m\u001b[0m\u001b[0m\n\u001b[1;32m    407\u001b[0m \u001b[0;34m\u001b[0m\u001b[0m\n",
      "\u001b[0;32m~/Envs/datascience/lib/python3.6/site-packages/networkx/drawing/layout.py\u001b[0m in \u001b[0;36mfruchterman_reingold_layout\u001b[0;34m(G, k, pos, fixed, iterations, threshold, weight, scale, center, dim, seed)\u001b[0m\n\u001b[1;32m    465\u001b[0m             \u001b[0mk\u001b[0m \u001b[0;34m=\u001b[0m \u001b[0mdom_size\u001b[0m \u001b[0;34m/\u001b[0m \u001b[0mnp\u001b[0m\u001b[0;34m.\u001b[0m\u001b[0msqrt\u001b[0m\u001b[0;34m(\u001b[0m\u001b[0mnnodes\u001b[0m\u001b[0;34m)\u001b[0m\u001b[0;34m\u001b[0m\u001b[0;34m\u001b[0m\u001b[0m\n\u001b[1;32m    466\u001b[0m         pos = _fruchterman_reingold(A, k, pos_arr, fixed, iterations,\n\u001b[0;32m--> 467\u001b[0;31m                                     threshold, dim, seed)\n\u001b[0m\u001b[1;32m    468\u001b[0m     \u001b[0;32mif\u001b[0m \u001b[0mfixed\u001b[0m \u001b[0;32mis\u001b[0m \u001b[0;32mNone\u001b[0m\u001b[0;34m:\u001b[0m\u001b[0;34m\u001b[0m\u001b[0;34m\u001b[0m\u001b[0m\n\u001b[1;32m    469\u001b[0m         \u001b[0mpos\u001b[0m \u001b[0;34m=\u001b[0m \u001b[0mrescale_layout\u001b[0m\u001b[0;34m(\u001b[0m\u001b[0mpos\u001b[0m\u001b[0;34m,\u001b[0m \u001b[0mscale\u001b[0m\u001b[0;34m=\u001b[0m\u001b[0mscale\u001b[0m\u001b[0;34m)\u001b[0m \u001b[0;34m+\u001b[0m \u001b[0mcenter\u001b[0m\u001b[0;34m\u001b[0m\u001b[0;34m\u001b[0m\u001b[0m\n",
      "\u001b[0;32m</home/davi/Envs/datascience/lib/python3.6/site-packages/decorator.py:decorator-gen-785>\u001b[0m in \u001b[0;36m_fruchterman_reingold\u001b[0;34m(A, k, pos, fixed, iterations, threshold, dim, seed)\u001b[0m\n",
      "\u001b[0;32m~/Envs/datascience/lib/python3.6/site-packages/networkx/utils/decorators.py\u001b[0m in \u001b[0;36m_random_state\u001b[0;34m(func, *args, **kwargs)\u001b[0m\n\u001b[1;32m    403\u001b[0m         \u001b[0mnew_args\u001b[0m \u001b[0;34m=\u001b[0m \u001b[0mlist\u001b[0m\u001b[0;34m(\u001b[0m\u001b[0margs\u001b[0m\u001b[0;34m)\u001b[0m\u001b[0;34m\u001b[0m\u001b[0;34m\u001b[0m\u001b[0m\n\u001b[1;32m    404\u001b[0m         \u001b[0mnew_args\u001b[0m\u001b[0;34m[\u001b[0m\u001b[0mrandom_state_index\u001b[0m\u001b[0;34m]\u001b[0m \u001b[0;34m=\u001b[0m \u001b[0mrandom_state\u001b[0m\u001b[0;34m\u001b[0m\u001b[0;34m\u001b[0m\u001b[0m\n\u001b[0;32m--> 405\u001b[0;31m         \u001b[0;32mreturn\u001b[0m \u001b[0mfunc\u001b[0m\u001b[0;34m(\u001b[0m\u001b[0;34m*\u001b[0m\u001b[0mnew_args\u001b[0m\u001b[0;34m,\u001b[0m \u001b[0;34m**\u001b[0m\u001b[0mkwargs\u001b[0m\u001b[0;34m)\u001b[0m\u001b[0;34m\u001b[0m\u001b[0;34m\u001b[0m\u001b[0m\n\u001b[0m\u001b[1;32m    406\u001b[0m     \u001b[0;32mreturn\u001b[0m \u001b[0m_random_state\u001b[0m\u001b[0;34m\u001b[0m\u001b[0;34m\u001b[0m\u001b[0m\n\u001b[1;32m    407\u001b[0m \u001b[0;34m\u001b[0m\u001b[0m\n",
      "\u001b[0;32m~/Envs/datascience/lib/python3.6/site-packages/networkx/drawing/layout.py\u001b[0m in \u001b[0;36m_fruchterman_reingold\u001b[0;34m(A, k, pos, fixed, iterations, threshold, dim, seed)\u001b[0m\n\u001b[1;32m    514\u001b[0m         \u001b[0mdelta\u001b[0m \u001b[0;34m=\u001b[0m \u001b[0mpos\u001b[0m\u001b[0;34m[\u001b[0m\u001b[0;34m:\u001b[0m\u001b[0;34m,\u001b[0m \u001b[0mnp\u001b[0m\u001b[0;34m.\u001b[0m\u001b[0mnewaxis\u001b[0m\u001b[0;34m,\u001b[0m \u001b[0;34m:\u001b[0m\u001b[0;34m]\u001b[0m \u001b[0;34m-\u001b[0m \u001b[0mpos\u001b[0m\u001b[0;34m[\u001b[0m\u001b[0mnp\u001b[0m\u001b[0;34m.\u001b[0m\u001b[0mnewaxis\u001b[0m\u001b[0;34m,\u001b[0m \u001b[0;34m:\u001b[0m\u001b[0;34m,\u001b[0m \u001b[0;34m:\u001b[0m\u001b[0;34m]\u001b[0m\u001b[0;34m\u001b[0m\u001b[0;34m\u001b[0m\u001b[0m\n\u001b[1;32m    515\u001b[0m         \u001b[0;31m# distance between points\u001b[0m\u001b[0;34m\u001b[0m\u001b[0;34m\u001b[0m\u001b[0;34m\u001b[0m\u001b[0m\n\u001b[0;32m--> 516\u001b[0;31m         \u001b[0mdistance\u001b[0m \u001b[0;34m=\u001b[0m \u001b[0mnp\u001b[0m\u001b[0;34m.\u001b[0m\u001b[0mlinalg\u001b[0m\u001b[0;34m.\u001b[0m\u001b[0mnorm\u001b[0m\u001b[0;34m(\u001b[0m\u001b[0mdelta\u001b[0m\u001b[0;34m,\u001b[0m \u001b[0maxis\u001b[0m\u001b[0;34m=\u001b[0m\u001b[0;34m-\u001b[0m\u001b[0;36m1\u001b[0m\u001b[0;34m)\u001b[0m\u001b[0;34m\u001b[0m\u001b[0;34m\u001b[0m\u001b[0m\n\u001b[0m\u001b[1;32m    517\u001b[0m         \u001b[0;31m# enforce minimum distance of 0.01\u001b[0m\u001b[0;34m\u001b[0m\u001b[0;34m\u001b[0m\u001b[0;34m\u001b[0m\u001b[0m\n\u001b[1;32m    518\u001b[0m         \u001b[0mnp\u001b[0m\u001b[0;34m.\u001b[0m\u001b[0mclip\u001b[0m\u001b[0;34m(\u001b[0m\u001b[0mdistance\u001b[0m\u001b[0;34m,\u001b[0m \u001b[0;36m0.01\u001b[0m\u001b[0;34m,\u001b[0m \u001b[0;32mNone\u001b[0m\u001b[0;34m,\u001b[0m \u001b[0mout\u001b[0m\u001b[0;34m=\u001b[0m\u001b[0mdistance\u001b[0m\u001b[0;34m)\u001b[0m\u001b[0;34m\u001b[0m\u001b[0;34m\u001b[0m\u001b[0m\n",
      "\u001b[0;32m~/Envs/datascience/lib/python3.6/site-packages/numpy/linalg/linalg.py\u001b[0m in \u001b[0;36mnorm\u001b[0;34m(x, ord, axis, keepdims)\u001b[0m\n\u001b[1;32m   2478\u001b[0m         \u001b[0;32melif\u001b[0m \u001b[0mord\u001b[0m \u001b[0;32mis\u001b[0m \u001b[0;32mNone\u001b[0m \u001b[0;32mor\u001b[0m \u001b[0mord\u001b[0m \u001b[0;34m==\u001b[0m \u001b[0;36m2\u001b[0m\u001b[0;34m:\u001b[0m\u001b[0;34m\u001b[0m\u001b[0;34m\u001b[0m\u001b[0m\n\u001b[1;32m   2479\u001b[0m             \u001b[0;31m# special case for speedup\u001b[0m\u001b[0;34m\u001b[0m\u001b[0;34m\u001b[0m\u001b[0;34m\u001b[0m\u001b[0m\n\u001b[0;32m-> 2480\u001b[0;31m             \u001b[0ms\u001b[0m \u001b[0;34m=\u001b[0m \u001b[0;34m(\u001b[0m\u001b[0mx\u001b[0m\u001b[0;34m.\u001b[0m\u001b[0mconj\u001b[0m\u001b[0;34m(\u001b[0m\u001b[0;34m)\u001b[0m \u001b[0;34m*\u001b[0m \u001b[0mx\u001b[0m\u001b[0;34m)\u001b[0m\u001b[0;34m.\u001b[0m\u001b[0mreal\u001b[0m\u001b[0;34m\u001b[0m\u001b[0;34m\u001b[0m\u001b[0m\n\u001b[0m\u001b[1;32m   2481\u001b[0m             \u001b[0;32mreturn\u001b[0m \u001b[0msqrt\u001b[0m\u001b[0;34m(\u001b[0m\u001b[0madd\u001b[0m\u001b[0;34m.\u001b[0m\u001b[0mreduce\u001b[0m\u001b[0;34m(\u001b[0m\u001b[0ms\u001b[0m\u001b[0;34m,\u001b[0m \u001b[0maxis\u001b[0m\u001b[0;34m=\u001b[0m\u001b[0maxis\u001b[0m\u001b[0;34m,\u001b[0m \u001b[0mkeepdims\u001b[0m\u001b[0;34m=\u001b[0m\u001b[0mkeepdims\u001b[0m\u001b[0;34m)\u001b[0m\u001b[0;34m)\u001b[0m\u001b[0;34m\u001b[0m\u001b[0;34m\u001b[0m\u001b[0m\n\u001b[1;32m   2482\u001b[0m         \u001b[0;32melse\u001b[0m\u001b[0;34m:\u001b[0m\u001b[0;34m\u001b[0m\u001b[0;34m\u001b[0m\u001b[0m\n",
      "\u001b[0;31mMemoryError\u001b[0m: "
     ]
    }
   ],
   "source": [
    "nx.draw_spring(G_authors)"
   ]
  },
  {
   "cell_type": "code",
   "execution_count": null,
   "metadata": {},
   "outputs": [],
   "source": []
  }
 ],
 "metadata": {
  "kernelspec": {
   "display_name": "Python3(datascience)",
   "language": "python",
   "name": "datascience"
  },
  "language_info": {
   "codemirror_mode": {
    "name": "ipython",
    "version": 3
   },
   "file_extension": ".py",
   "mimetype": "text/x-python",
   "name": "python",
   "nbconvert_exporter": "python",
   "pygments_lexer": "ipython3",
   "version": "3.6.8"
  }
 },
 "nbformat": 4,
 "nbformat_minor": 2
}
