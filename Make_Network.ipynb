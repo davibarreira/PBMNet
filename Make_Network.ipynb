{
 "cells": [
  {
   "cell_type": "markdown",
   "metadata": {},
   "source": [
    "# Criando rede de coautores\n",
    "Esse notebook contém o código para criar a rede de coautores a partir da base de dados dos currículos dos\n",
    "pesquisadores da área de Matemática.\n",
    "\n",
    "Na rede, cada pesquisador é um nó e as arestas representam o fato de dois pesquisadores já terem publicados\n",
    "pelo menos um artigo em conjunto. A espessura da aresta representa a quantidade de publicações conjuntas.\n",
    "Note que a rede é não direcional, não importando a ordem de autoria.\n",
    "Para a construção da rede, consideraram-se somente os artigos publicados em periódicos.\n",
    "\n",
    "A metodologia implementada para a criação da rede consiste em iterar por cada pesquisador, comparando-o com\n",
    "os demais de forma a encontrar um trabalho em comum. Para identificar se há artigo escrito em conjunto,\n",
    "os nomes dos coautores do pesquisador será comparado com o campo \"NOME-EM-CITACOES-BIBLIOGRAFICAS\"\n",
    "do outro pesquisador. Caso algum dos nomes seja igual, será estabelecida uma conexão.\n",
    "\n",
    "É possível que hajam erros nos nomes dos coautores apontados por cada pesquisador, assim, para\n",
    "buscar reduzir erros por conta de erros de escrita, iremos em seguida buscar pelo nome dos artigos\n",
    "publicados e ano de publicação. Iremos introduzir um \"flag\" nesses casos, para verificar manualmente se de fato a\n",
    "conexão estabelecida entre os pesquisadores está correta. Caso apareçam muitos falsos positivos,\n",
    "iremos buscar uma outra chave mais restrita, como adicionar o nome da revista em que foi publicado.\n",
    "\n",
    "Uma vez definidos os pesquisadores conectados, iremos realizar a contagem dos trabalhos conjuntos,\n",
    "para assim estabelecer a espessura das arestas da rede.\n",
    "\n",
    "Formato para a base de geração dos grafos:\n",
    "Lista de Arestas\n",
    "Pesquisador A | Pesquisador B | Qtd de Trabalhos Juntos\n",
    "\n",
    "\n",
    "*Foram considerados os currículos indexados na plataforma do Currículo Lattes com área igual a \"Matemática\",\n",
    "\"Probabilidade e Estatística\" ou \"Ciência da Computação\".*"
   ]
  },
  {
   "cell_type": "code",
   "execution_count": 113,
   "metadata": {},
   "outputs": [],
   "source": [
    "import zipfile\n",
    "import json\n",
    "import xmltodict\n",
    "import os\n",
    "from collections import Counter"
   ]
  },
  {
   "cell_type": "code",
   "execution_count": 212,
   "metadata": {},
   "outputs": [],
   "source": [
    "zips = ['./dados/6383153340652483.zip','./dados/4606011420762986.zip']\n",
    "cvs  = []\n",
    "for cvzip in zips:\n",
    "# cvzip   =  './dados/6383153340652483.zip' # Elon Lages Lima\n",
    "# cvzip   =  './dados/4606011420762986.zip' # Manfredo do Carmo\n",
    "# cvzip   =  './dados/2659398455245324.zip' # Eduardo Mendes\n",
    "    archive = zipfile.ZipFile(cvzip, 'r')\n",
    "    cv      = archive.read('curriculo.xml')\n",
    "    cv      = xmltodict.parse(cv)\n",
    "    cvs.append(cv)"
   ]
  },
  {
   "cell_type": "code",
   "execution_count": 218,
   "metadata": {},
   "outputs": [
    {
     "data": {
      "text/plain": [
       "['6383153340652483', '4606011420762986']"
      ]
     },
     "execution_count": 218,
     "metadata": {},
     "output_type": "execute_result"
    }
   ],
   "source": [
    "Check_Link(cvs[0],cvs[1])"
   ]
  },
  {
   "cell_type": "code",
   "execution_count": 217,
   "metadata": {},
   "outputs": [],
   "source": [
    "def Get_Coautores(cv):\n",
    "    coautores = []\n",
    "    for artigo in cv['CURRICULO-VITAE']['PRODUCAO-BIBLIOGRAFICA']['ARTIGOS-PUBLICADOS']['ARTIGO-PUBLICADO']: \n",
    "        if list == type(artigo['AUTORES']):\n",
    "            for i,autor in enumerate(artigo['AUTORES']):\n",
    "                coautor = autor['@NOME-PARA-CITACAO'].lower()\n",
    "                coautores.append(coautor)\n",
    "        else:\n",
    "            coautor = artigo['AUTORES']['@NOME-PARA-CITACAO'].lower()\n",
    "            coautores.append(coautor)\n",
    "    coautores = dict(Counter(coautores))\n",
    "    return coautores\n",
    "\n",
    "def Check_Link(cv1,cv2):\n",
    "    coautores = Get_Coautores(cv1)\n",
    "    autor_check = cv2['CURRICULO-VITAE']['DADOS-GERAIS']['@NOME-EM-CITACOES-BIBLIOGRAFICAS'].lower().split(';')\n",
    "    if bool(set(coautores.keys()).intersection(autor_check)):\n",
    "        return [cv1['CURRICULO-VITAE']['@NUMERO-IDENTIFICADOR'],\n",
    "                cv2['CURRICULO-VITAE']['@NUMERO-IDENTIFICADOR']]\n",
    "    else:\n",
    "        return ['']\n",
    "    "
   ]
  },
  {
   "cell_type": "code",
   "execution_count": 199,
   "metadata": {},
   "outputs": [],
   "source": []
  },
  {
   "cell_type": "code",
   "execution_count": null,
   "metadata": {},
   "outputs": [],
   "source": []
  },
  {
   "cell_type": "code",
   "execution_count": 46,
   "metadata": {},
   "outputs": [],
   "source": [
    "# os.listdir('./dados/')"
   ]
  }
 ],
 "metadata": {
  "kernelspec": {
   "display_name": "Python3(datascience)",
   "language": "python",
   "name": "datascience"
  },
  "language_info": {
   "codemirror_mode": {
    "name": "ipython",
    "version": 3
   },
   "file_extension": ".py",
   "mimetype": "text/x-python",
   "name": "python",
   "nbconvert_exporter": "python",
   "pygments_lexer": "ipython3",
   "version": "3.6.8"
  }
 },
 "nbformat": 4,
 "nbformat_minor": 2
}
