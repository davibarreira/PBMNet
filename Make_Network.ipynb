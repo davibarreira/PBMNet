{
 "cells": [
  {
   "cell_type": "markdown",
   "metadata": {},
   "source": [
    "# Criando rede de coautores\n",
    "Esse notebook contém o código para criar a rede de coautores a partir da base de dados dos currículos dos\n",
    "pesquisadores da área de Matemática.\n",
    "\n",
    "Na rede, cada pesquisador é um nó e as arestas representam o fato de dois pesquisadores já terem publicados\n",
    "pelo menos um artigo em conjunto. A espessura da aresta representa a quantidade de publicações conjuntas.\n",
    "Note que a rede é não direcional, não importando a ordem de autoria.\n",
    "Para a construção da rede, consideraram-se somente os artigos publicados em periódicos.\n",
    "\n",
    "A metodologia implementada para a criação da rede consiste em iterar por cada pesquisador, comparando-o com\n",
    "os demais de forma a encontrar um trabalho em comum. Para identificar se há artigo escrito em conjunto,\n",
    "os nomes dos coautores do pesquisador será comparado com o campo \"NOME-EM-CITACOES-BIBLIOGRAFICAS\"\n",
    "do outro pesquisador. Caso algum dos nomes seja igual, será estabelecida uma conexão.\n",
    "\n",
    "É possível que hajam erros nos nomes dos coautores apontados por cada pesquisador, assim, para\n",
    "buscar reduzir erros por conta de erros de escrita, iremos em seguida buscar pelo nome dos artigos\n",
    "publicados e ano de publicação. Iremos introduzir um \"flag\" nesses casos, para verificar manualmente se de fato a\n",
    "conexão estabelecida entre os pesquisadores está correta. Caso apareçam muitos falsos positivos,\n",
    "iremos buscar uma outra chave mais restrita, como adicionar o nome da revista em que foi publicado.\n",
    "\n",
    "Uma vez definidos os pesquisadores conectados, iremos realizar a contagem dos trabalhos conjuntos,\n",
    "para assim estabelecer a espessura das arestas da rede.\n",
    "\n",
    "Formato para a base de geração dos grafos:\n",
    "Lista de Arestas\n",
    "Pesquisador A | Pesquisador B | Qtd de Trabalhos Juntos\n",
    "\n",
    "\n",
    "*Foram considerados os currículos indexados na plataforma do Currículo Lattes com área igual a \"Matemática\",\n",
    "\"Probabilidade e Estatística\" ou \"Ciência da Computação\".*"
   ]
  },
  {
   "cell_type": "code",
   "execution_count": 113,
   "metadata": {},
   "outputs": [],
   "source": [
    "import zipfile\n",
    "import json\n",
    "import xmltodict\n",
    "import os\n",
    "from collections import Counter"
   ]
  },
  {
   "cell_type": "markdown",
   "metadata": {},
   "source": [
    "# Encontrando arquivos com erro na coleta\n",
    "O motivo do erro é que o id indicado por algum motivo não está mais atrelado a um currículo."
   ]
  },
  {
   "cell_type": "code",
   "execution_count": 330,
   "metadata": {
    "scrolled": true
   },
   "outputs": [],
   "source": [
    "zipfs = ['./dados/' + zipf for zipf in os.listdir('./dados/')][0:100]\n",
    "zips_erros = []\n",
    "for i, zipcv in enumerate(zipfs):\n",
    "    cv = xmltodict.parse((zipfile.ZipFile(zipcv,'r').read('curriculo.xml')))\n",
    "    try:\n",
    "        print(i,cv['ERRO'])\n",
    "        zips_erros.append(i)\n",
    "    except:\n",
    "        \n",
    "        pass"
   ]
  },
  {
   "cell_type": "code",
   "execution_count": 331,
   "metadata": {},
   "outputs": [
    {
     "data": {
      "text/plain": [
       "[0, 1, 2, 3, 4, 5, 6, 7, 8, 9]"
      ]
     },
     "execution_count": 331,
     "metadata": {},
     "output_type": "execute_result"
    }
   ],
   "source": [
    "zips_erros"
   ]
  },
  {
   "cell_type": "code",
   "execution_count": null,
   "metadata": {},
   "outputs": [],
   "source": []
  },
  {
   "cell_type": "code",
   "execution_count": 306,
   "metadata": {},
   "outputs": [
    {
     "name": "stdout",
     "output_type": "stream",
     "text": [
      "./dados/6115398975075240.zip\n",
      "./dados/1386464075867571.zip\n",
      "./dados/9312332483222873.zip\n",
      "./dados/4070657423906906.zip\n",
      "./dados/1807540836275750.zip\n",
      "./dados/9670752954194989.zip\n",
      "./dados/1855466912397758.zip\n",
      "./dados/5603369249661646.zip\n",
      "./dados/2989485146353807.zip\n",
      "./dados/1152911680785585.zip\n",
      "./dados/4860258252593975.zip\n",
      "./dados/6877649058117092.zip\n",
      "./dados/8459439898470769.zip\n",
      "./dados/3638688119433520.zip\n",
      "./dados/324248447909181.zip\n"
     ]
    },
    {
     "ename": "KeyError",
     "evalue": "'CURRICULO-VITAE'",
     "output_type": "error",
     "traceback": [
      "\u001b[0;31m---------------------------------------------------------------------------\u001b[0m",
      "\u001b[0;31mKeyError\u001b[0m                                  Traceback (most recent call last)",
      "\u001b[0;32m<ipython-input-306-3cf8712d85b0>\u001b[0m in \u001b[0;36m<module>\u001b[0;34m\u001b[0m\n\u001b[1;32m      8\u001b[0m         \u001b[0mprint\u001b[0m\u001b[0;34m(\u001b[0m\u001b[0mzipcv2\u001b[0m\u001b[0;34m)\u001b[0m\u001b[0;34m\u001b[0m\u001b[0;34m\u001b[0m\u001b[0m\n\u001b[1;32m      9\u001b[0m         \u001b[0mcv2\u001b[0m \u001b[0;34m=\u001b[0m \u001b[0mxmltodict\u001b[0m\u001b[0;34m.\u001b[0m\u001b[0mparse\u001b[0m\u001b[0;34m(\u001b[0m\u001b[0;34m(\u001b[0m\u001b[0mzipfile\u001b[0m\u001b[0;34m.\u001b[0m\u001b[0mZipFile\u001b[0m\u001b[0;34m(\u001b[0m\u001b[0mzipcv2\u001b[0m\u001b[0;34m,\u001b[0m\u001b[0;34m'r'\u001b[0m\u001b[0;34m)\u001b[0m\u001b[0;34m.\u001b[0m\u001b[0mread\u001b[0m\u001b[0;34m(\u001b[0m\u001b[0;34m'curriculo.xml'\u001b[0m\u001b[0;34m)\u001b[0m\u001b[0;34m)\u001b[0m\u001b[0;34m)\u001b[0m\u001b[0;34m\u001b[0m\u001b[0;34m\u001b[0m\u001b[0m\n\u001b[0;32m---> 10\u001b[0;31m         \u001b[0mlink\u001b[0m\u001b[0;34m=\u001b[0m \u001b[0mCheck_Link\u001b[0m\u001b[0;34m(\u001b[0m\u001b[0mcv1\u001b[0m\u001b[0;34m,\u001b[0m\u001b[0mcv2\u001b[0m\u001b[0;34m,\u001b[0m\u001b[0mcoautores_cv1\u001b[0m\u001b[0;34m=\u001b[0m\u001b[0mcoautores\u001b[0m\u001b[0;34m)\u001b[0m\u001b[0;34m\u001b[0m\u001b[0;34m\u001b[0m\u001b[0m\n\u001b[0m\u001b[1;32m     11\u001b[0m         \u001b[0;32mif\u001b[0m \u001b[0;34m(\u001b[0m\u001b[0mlink\u001b[0m\u001b[0;34m!=\u001b[0m\u001b[0;34m[\u001b[0m\u001b[0;34m''\u001b[0m\u001b[0;34m]\u001b[0m\u001b[0;34m)\u001b[0m\u001b[0;34m:\u001b[0m\u001b[0;34m\u001b[0m\u001b[0;34m\u001b[0m\u001b[0m\n\u001b[1;32m     12\u001b[0m             \u001b[0medges\u001b[0m\u001b[0;34m.\u001b[0m\u001b[0mappend\u001b[0m\u001b[0;34m(\u001b[0m\u001b[0mlink\u001b[0m\u001b[0;34m)\u001b[0m\u001b[0;34m\u001b[0m\u001b[0;34m\u001b[0m\u001b[0m\n",
      "\u001b[0;32m<ipython-input-290-6023e233f7d8>\u001b[0m in \u001b[0;36mCheck_Link\u001b[0;34m(cv1, cv2, coautores_cv1)\u001b[0m\n\u001b[1;32m     25\u001b[0m \u001b[0;34m\u001b[0m\u001b[0m\n\u001b[1;32m     26\u001b[0m \u001b[0;32mdef\u001b[0m \u001b[0mCheck_Link\u001b[0m\u001b[0;34m(\u001b[0m\u001b[0mcv1\u001b[0m\u001b[0;34m,\u001b[0m\u001b[0mcv2\u001b[0m\u001b[0;34m,\u001b[0m\u001b[0mcoautores_cv1\u001b[0m\u001b[0;34m)\u001b[0m\u001b[0;34m:\u001b[0m\u001b[0;34m\u001b[0m\u001b[0;34m\u001b[0m\u001b[0m\n\u001b[0;32m---> 27\u001b[0;31m     \u001b[0mautor_check\u001b[0m \u001b[0;34m=\u001b[0m \u001b[0mcv2\u001b[0m\u001b[0;34m[\u001b[0m\u001b[0;34m'CURRICULO-VITAE'\u001b[0m\u001b[0;34m]\u001b[0m\u001b[0;34m[\u001b[0m\u001b[0;34m'DADOS-GERAIS'\u001b[0m\u001b[0;34m]\u001b[0m\u001b[0;34m[\u001b[0m\u001b[0;34m'@NOME-EM-CITACOES-BIBLIOGRAFICAS'\u001b[0m\u001b[0;34m]\u001b[0m\u001b[0;34m.\u001b[0m\u001b[0mlower\u001b[0m\u001b[0;34m(\u001b[0m\u001b[0;34m)\u001b[0m\u001b[0;34m.\u001b[0m\u001b[0msplit\u001b[0m\u001b[0;34m(\u001b[0m\u001b[0;34m';'\u001b[0m\u001b[0;34m)\u001b[0m\u001b[0;34m\u001b[0m\u001b[0;34m\u001b[0m\u001b[0m\n\u001b[0m\u001b[1;32m     28\u001b[0m     \u001b[0;32mif\u001b[0m \u001b[0mbool\u001b[0m\u001b[0;34m(\u001b[0m\u001b[0mset\u001b[0m\u001b[0;34m(\u001b[0m\u001b[0mcoautores\u001b[0m\u001b[0;34m.\u001b[0m\u001b[0mkeys\u001b[0m\u001b[0;34m(\u001b[0m\u001b[0;34m)\u001b[0m\u001b[0;34m)\u001b[0m\u001b[0;34m.\u001b[0m\u001b[0mintersection\u001b[0m\u001b[0;34m(\u001b[0m\u001b[0mautor_check\u001b[0m\u001b[0;34m)\u001b[0m\u001b[0;34m)\u001b[0m\u001b[0;34m:\u001b[0m\u001b[0;34m\u001b[0m\u001b[0;34m\u001b[0m\u001b[0m\n\u001b[1;32m     29\u001b[0m         return [cv1['CURRICULO-VITAE']['@NUMERO-IDENTIFICADOR'],\n",
      "\u001b[0;31mKeyError\u001b[0m: 'CURRICULO-VITAE'"
     ]
    }
   ],
   "source": [
    "zipfs = ['./dados/' + zipf for zipf in os.listdir('./dados/')][0:20]\n",
    "edges = []\n",
    "for i, zipcv1 in enumerate(zipfs):\n",
    "    print(zipcv1)\n",
    "    cv1 = xmltodict.parse((zipfile.ZipFile(zipcv1,'r').read('curriculo.xml')))\n",
    "    coautores = Get_Coautores(cv1)\n",
    "    for zipcv2 in zipfs[i+1:]:\n",
    "        print(zipcv2)\n",
    "        cv2 = xmltodict.parse((zipfile.ZipFile(zipcv2,'r').read('curriculo.xml')))\n",
    "        link= Check_Link(cv1,cv2,coautores_cv1=coautores)\n",
    "        if (link!=['']):\n",
    "            edges.append(link)"
   ]
  },
  {
   "cell_type": "code",
   "execution_count": 299,
   "metadata": {},
   "outputs": [
    {
     "data": {
      "text/plain": [
       "[]"
      ]
     },
     "execution_count": 299,
     "metadata": {},
     "output_type": "execute_result"
    }
   ],
   "source": [
    "edges"
   ]
  },
  {
   "cell_type": "code",
   "execution_count": 290,
   "metadata": {},
   "outputs": [],
   "source": [
    "def Get_Coautores(cv):\n",
    "    coautores = []\n",
    "    if list == type(cv['CURRICULO-VITAE']['PRODUCAO-BIBLIOGRAFICA']['ARTIGOS-PUBLICADOS']['ARTIGO-PUBLICADO']):\n",
    "        for artigo in cv['CURRICULO-VITAE']['PRODUCAO-BIBLIOGRAFICA']['ARTIGOS-PUBLICADOS']['ARTIGO-PUBLICADO']: \n",
    "            if list == type(artigo['AUTORES']):\n",
    "                for i,autor in enumerate(artigo['AUTORES']):\n",
    "                    coautor = autor['@NOME-PARA-CITACAO'].lower()\n",
    "                    coautores.append(coautor)\n",
    "            else:\n",
    "                coautor = artigo['AUTORES']['@NOME-PARA-CITACAO'].lower()\n",
    "                coautores.append(coautor)\n",
    "        coautores = dict(Counter(coautores))\n",
    "    else:\n",
    "        artigo  = cv['CURRICULO-VITAE']['PRODUCAO-BIBLIOGRAFICA']['ARTIGOS-PUBLICADOS']['ARTIGO-PUBLICADO']\n",
    "        if list == type(artigo['AUTORES']):\n",
    "            for i,autor in enumerate(artigo['AUTORES']):\n",
    "                coautor = autor['@NOME-PARA-CITACAO'].lower()\n",
    "                coautores.append(coautor)\n",
    "        else:\n",
    "            coautor = artigo['AUTORES']['@NOME-PARA-CITACAO'].lower()\n",
    "            coautores.append(coautor)\n",
    "    coautores = dict(Counter(coautores))\n",
    "        \n",
    "    return coautores\n",
    "\n",
    "def Check_Link(cv1,cv2,coautores_cv1):\n",
    "    autor_check = cv2['CURRICULO-VITAE']['DADOS-GERAIS']['@NOME-EM-CITACOES-BIBLIOGRAFICAS'].lower().split(';')\n",
    "    if bool(set(coautores.keys()).intersection(autor_check)):\n",
    "        return [cv1['CURRICULO-VITAE']['@NUMERO-IDENTIFICADOR'],\n",
    "                cv2['CURRICULO-VITAE']['@NUMERO-IDENTIFICADOR']]\n",
    "    else:\n",
    "        return ['']\n",
    "    "
   ]
  },
  {
   "cell_type": "code",
   "execution_count": 307,
   "metadata": {},
   "outputs": [],
   "source": [
    "cvzip   =  './dados/324248447909181.zip' # Elon Lages Lima\n",
    "\n",
    "cv = xmltodict.parse((zipfile.ZipFile(cvzip,'r').read('curriculo.xml')))\n"
   ]
  },
  {
   "cell_type": "code",
   "execution_count": 311,
   "metadata": {},
   "outputs": [
    {
     "data": {
      "text/plain": [
       "OrderedDict([('MENSAGEM', 'Erro ao recuperar o XML')])"
      ]
     },
     "execution_count": 311,
     "metadata": {},
     "output_type": "execute_result"
    }
   ],
   "source": [
    "cv['ERRO']"
   ]
  },
  {
   "cell_type": "code",
   "execution_count": 308,
   "metadata": {},
   "outputs": [
    {
     "ename": "KeyError",
     "evalue": "'CURRICULO-VITAE'",
     "output_type": "error",
     "traceback": [
      "\u001b[0;31m---------------------------------------------------------------------------\u001b[0m",
      "\u001b[0;31mKeyError\u001b[0m                                  Traceback (most recent call last)",
      "\u001b[0;32m<ipython-input-308-d33601152cae>\u001b[0m in \u001b[0;36m<module>\u001b[0;34m\u001b[0m\n\u001b[0;32m----> 1\u001b[0;31m \u001b[0mGet_Coautores\u001b[0m\u001b[0;34m(\u001b[0m\u001b[0mcv\u001b[0m\u001b[0;34m)\u001b[0m\u001b[0;34m\u001b[0m\u001b[0;34m\u001b[0m\u001b[0m\n\u001b[0m",
      "\u001b[0;32m<ipython-input-290-6023e233f7d8>\u001b[0m in \u001b[0;36mGet_Coautores\u001b[0;34m(cv)\u001b[0m\n\u001b[1;32m      1\u001b[0m \u001b[0;32mdef\u001b[0m \u001b[0mGet_Coautores\u001b[0m\u001b[0;34m(\u001b[0m\u001b[0mcv\u001b[0m\u001b[0;34m)\u001b[0m\u001b[0;34m:\u001b[0m\u001b[0;34m\u001b[0m\u001b[0;34m\u001b[0m\u001b[0m\n\u001b[1;32m      2\u001b[0m     \u001b[0mcoautores\u001b[0m \u001b[0;34m=\u001b[0m \u001b[0;34m[\u001b[0m\u001b[0;34m]\u001b[0m\u001b[0;34m\u001b[0m\u001b[0;34m\u001b[0m\u001b[0m\n\u001b[0;32m----> 3\u001b[0;31m     \u001b[0;32mif\u001b[0m \u001b[0mlist\u001b[0m \u001b[0;34m==\u001b[0m \u001b[0mtype\u001b[0m\u001b[0;34m(\u001b[0m\u001b[0mcv\u001b[0m\u001b[0;34m[\u001b[0m\u001b[0;34m'CURRICULO-VITAE'\u001b[0m\u001b[0;34m]\u001b[0m\u001b[0;34m[\u001b[0m\u001b[0;34m'PRODUCAO-BIBLIOGRAFICA'\u001b[0m\u001b[0;34m]\u001b[0m\u001b[0;34m[\u001b[0m\u001b[0;34m'ARTIGOS-PUBLICADOS'\u001b[0m\u001b[0;34m]\u001b[0m\u001b[0;34m[\u001b[0m\u001b[0;34m'ARTIGO-PUBLICADO'\u001b[0m\u001b[0;34m]\u001b[0m\u001b[0;34m)\u001b[0m\u001b[0;34m:\u001b[0m\u001b[0;34m\u001b[0m\u001b[0;34m\u001b[0m\u001b[0m\n\u001b[0m\u001b[1;32m      4\u001b[0m         \u001b[0;32mfor\u001b[0m \u001b[0martigo\u001b[0m \u001b[0;32min\u001b[0m \u001b[0mcv\u001b[0m\u001b[0;34m[\u001b[0m\u001b[0;34m'CURRICULO-VITAE'\u001b[0m\u001b[0;34m]\u001b[0m\u001b[0;34m[\u001b[0m\u001b[0;34m'PRODUCAO-BIBLIOGRAFICA'\u001b[0m\u001b[0;34m]\u001b[0m\u001b[0;34m[\u001b[0m\u001b[0;34m'ARTIGOS-PUBLICADOS'\u001b[0m\u001b[0;34m]\u001b[0m\u001b[0;34m[\u001b[0m\u001b[0;34m'ARTIGO-PUBLICADO'\u001b[0m\u001b[0;34m]\u001b[0m\u001b[0;34m:\u001b[0m\u001b[0;34m\u001b[0m\u001b[0;34m\u001b[0m\u001b[0m\n\u001b[1;32m      5\u001b[0m             \u001b[0;32mif\u001b[0m \u001b[0mlist\u001b[0m \u001b[0;34m==\u001b[0m \u001b[0mtype\u001b[0m\u001b[0;34m(\u001b[0m\u001b[0martigo\u001b[0m\u001b[0;34m[\u001b[0m\u001b[0;34m'AUTORES'\u001b[0m\u001b[0;34m]\u001b[0m\u001b[0;34m)\u001b[0m\u001b[0;34m:\u001b[0m\u001b[0;34m\u001b[0m\u001b[0;34m\u001b[0m\u001b[0m\n",
      "\u001b[0;31mKeyError\u001b[0m: 'CURRICULO-VITAE'"
     ]
    }
   ],
   "source": [
    "Get_Coautores(cv)"
   ]
  },
  {
   "cell_type": "code",
   "execution_count": 288,
   "metadata": {},
   "outputs": [
    {
     "data": {
      "text/plain": [
       "OrderedDict([('TRABALHOS-EM-EVENTOS',\n",
       "              OrderedDict([('TRABALHO-EM-EVENTOS',\n",
       "                            OrderedDict([('@SEQUENCIA-PRODUCAO', '28'),\n",
       "                                         ('DADOS-BASICOS-DO-TRABALHO',\n",
       "                                          OrderedDict([('@NATUREZA',\n",
       "                                                        'COMPLETO'),\n",
       "                                                       ('@TITULO-DO-TRABALHO',\n",
       "                                                        'An initial study on high-dimensional data visualization through subspace clustering'),\n",
       "                                                       ('@ANO-DO-TRABALHO',\n",
       "                                                        '2015'),\n",
       "                                                       ('@PAIS-DO-EVENTO',\n",
       "                                                        'Brasil'),\n",
       "                                                       ('@IDIOMA', 'Inglês'),\n",
       "                                                       ('@MEIO-DE-DIVULGACAO',\n",
       "                                                        'MEIO_DIGITAL'),\n",
       "                                                       ('@HOME-PAGE-DO-TRABALHO',\n",
       "                                                        '[http://sibgrapi.sid.inpe.br/]'),\n",
       "                                                       ('@FLAG-RELEVANCIA',\n",
       "                                                        'SIM'),\n",
       "                                                       ('@DOI', ''),\n",
       "                                                       ('@TITULO-DO-TRABALHO-INGLES',\n",
       "                                                        ''),\n",
       "                                                       ('@FLAG-DIVULGACAO-CIENTIFICA',\n",
       "                                                        'NAO')])),\n",
       "                                         ('DETALHAMENTO-DO-TRABALHO',\n",
       "                                          OrderedDict([('@CLASSIFICACAO-DO-EVENTO',\n",
       "                                                        'INTERNACIONAL'),\n",
       "                                                       ('@NOME-DO-EVENTO',\n",
       "                                                        'SIBGRAPI 2015 - XXVIII Conference on Graphics, Patterns and Images'),\n",
       "                                                       ('@CIDADE-DO-EVENTO',\n",
       "                                                        'Salvador'),\n",
       "                                                       ('@ANO-DE-REALIZACAO',\n",
       "                                                        '2015'),\n",
       "                                                       ('@TITULO-DOS-ANAIS-OU-PROCEEDINGS',\n",
       "                                                        'Computer Graphics and Image Processing (SIBGRAPI), Brazilian Symposium on'),\n",
       "                                                       ('@VOLUME', ''),\n",
       "                                                       ('@FASCICULO', ''),\n",
       "                                                       ('@SERIE', ''),\n",
       "                                                       ('@PAGINA-INICIAL', ''),\n",
       "                                                       ('@PAGINA-FINAL', ''),\n",
       "                                                       ('@ISBN', ''),\n",
       "                                                       ('@NOME-DA-EDITORA',\n",
       "                                                        ''),\n",
       "                                                       ('@CIDADE-DA-EDITORA',\n",
       "                                                        ''),\n",
       "                                                       ('@NOME-DO-EVENTO-INGLES',\n",
       "                                                        '')])),\n",
       "                                         ('AUTORES',\n",
       "                                          [OrderedDict([('@NOME-COMPLETO-DO-AUTOR',\n",
       "                                                         'Adriano Oliveira Barbosa'),\n",
       "                                                        ('@NOME-PARA-CITACAO',\n",
       "                                                         'BARBOSA, A. O.;BARBOSA, ADRIANO;BARBOSA, A.'),\n",
       "                                                        ('@ORDEM-DE-AUTORIA',\n",
       "                                                         '1'),\n",
       "                                                        ('@NRO-ID-CNPQ',\n",
       "                                                         '4070657423906906')]),\n",
       "                                           OrderedDict([('@NOME-COMPLETO-DO-AUTOR',\n",
       "                                                         'Filip Sadlo'),\n",
       "                                                        ('@NOME-PARA-CITACAO',\n",
       "                                                         'Sadlo F.'),\n",
       "                                                        ('@ORDEM-DE-AUTORIA',\n",
       "                                                         '2'),\n",
       "                                                        ('@NRO-ID-CNPQ',\n",
       "                                                         '4140179607948147')]),\n",
       "                                           OrderedDict([('@NOME-COMPLETO-DO-AUTOR',\n",
       "                                                         'Luis Gustavo Nonato'),\n",
       "                                                        ('@NOME-PARA-CITACAO',\n",
       "                                                         'Nonato, L. G.'),\n",
       "                                                        ('@ORDEM-DE-AUTORIA',\n",
       "                                                         '3'),\n",
       "                                                        ('@NRO-ID-CNPQ',\n",
       "                                                         '3794241680729178')])]),\n",
       "                                         ('PALAVRAS-CHAVE',\n",
       "                                          OrderedDict([('@PALAVRA-CHAVE-1',\n",
       "                                                        'Multidimensional Projection'),\n",
       "                                                       ('@PALAVRA-CHAVE-2',\n",
       "                                                        'Subspace Clustering'),\n",
       "                                                       ('@PALAVRA-CHAVE-3',\n",
       "                                                        ''),\n",
       "                                                       ('@PALAVRA-CHAVE-4',\n",
       "                                                        ''),\n",
       "                                                       ('@PALAVRA-CHAVE-5',\n",
       "                                                        ''),\n",
       "                                                       ('@PALAVRA-CHAVE-6',\n",
       "                                                        '')])),\n",
       "                                         ('AREAS-DO-CONHECIMENTO',\n",
       "                                          OrderedDict([('AREA-DO-CONHECIMENTO-1',\n",
       "                                                        OrderedDict([('@NOME-GRANDE-AREA-DO-CONHECIMENTO',\n",
       "                                                                      'CIENCIAS_EXATAS_E_DA_TERRA'),\n",
       "                                                                     ('@NOME-DA-AREA-DO-CONHECIMENTO',\n",
       "                                                                      ''),\n",
       "                                                                     ('@NOME-DA-SUB-AREA-DO-CONHECIMENTO',\n",
       "                                                                      'Visualização de Dados'),\n",
       "                                                                     ('@NOME-DA-ESPECIALIDADE',\n",
       "                                                                      '')]))]))]))])),\n",
       "             ('ARTIGOS-PUBLICADOS',\n",
       "              OrderedDict([('ARTIGO-PUBLICADO',\n",
       "                            OrderedDict([('@SEQUENCIA-PRODUCAO', '49'),\n",
       "                                         ('@ORDEM-IMPORTANCIA', ''),\n",
       "                                         ('DADOS-BASICOS-DO-ARTIGO',\n",
       "                                          OrderedDict([('@NATUREZA',\n",
       "                                                        'COMPLETO'),\n",
       "                                                       ('@TITULO-DO-ARTIGO',\n",
       "                                                        'Visualizing and Interacting with Kernelized Data'),\n",
       "                                                       ('@ANO-DO-ARTIGO',\n",
       "                                                        '2016'),\n",
       "                                                       ('@PAIS-DE-PUBLICACAO',\n",
       "                                                        ''),\n",
       "                                                       ('@IDIOMA',\n",
       "                                                        'Português'),\n",
       "                                                       ('@MEIO-DE-DIVULGACAO',\n",
       "                                                        'MEIO_DIGITAL'),\n",
       "                                                       ('@HOME-PAGE-DO-TRABALHO',\n",
       "                                                        '[doi:10.1109/tvcg.2015.2464797]'),\n",
       "                                                       ('@FLAG-RELEVANCIA',\n",
       "                                                        'SIM'),\n",
       "                                                       ('@DOI',\n",
       "                                                        '10.1109/TVCG.2015.2464797'),\n",
       "                                                       ('@TITULO-DO-ARTIGO-INGLES',\n",
       "                                                        ''),\n",
       "                                                       ('@FLAG-DIVULGACAO-CIENTIFICA',\n",
       "                                                        'NAO')])),\n",
       "                                         ('DETALHAMENTO-DO-ARTIGO',\n",
       "                                          OrderedDict([('@TITULO-DO-PERIODICO-OU-REVISTA',\n",
       "                                                        'IEEE TRANSACTIONS ON VISUALIZATION AND COMPUTER GRAPHICS'),\n",
       "                                                       ('@ISSN', '10772626'),\n",
       "                                                       ('@VOLUME', '22'),\n",
       "                                                       ('@FASCICULO', ''),\n",
       "                                                       ('@SERIE', '3'),\n",
       "                                                       ('@PAGINA-INICIAL',\n",
       "                                                        '1314'),\n",
       "                                                       ('@PAGINA-FINAL',\n",
       "                                                        '1325'),\n",
       "                                                       ('@LOCAL-DE-PUBLICACAO',\n",
       "                                                        '')])),\n",
       "                                         ('AUTORES',\n",
       "                                          [OrderedDict([('@NOME-COMPLETO-DO-AUTOR',\n",
       "                                                         'Adriano Oliveira Barbosa'),\n",
       "                                                        ('@NOME-PARA-CITACAO',\n",
       "                                                         'BARBOSA, A.'),\n",
       "                                                        ('@ORDEM-DE-AUTORIA',\n",
       "                                                         '1'),\n",
       "                                                        ('@NRO-ID-CNPQ', '')]),\n",
       "                                           OrderedDict([('@NOME-COMPLETO-DO-AUTOR',\n",
       "                                                         'Fernando Vieira Paulovich'),\n",
       "                                                        ('@NOME-PARA-CITACAO',\n",
       "                                                         'Paulovich, F. V.'),\n",
       "                                                        ('@ORDEM-DE-AUTORIA',\n",
       "                                                         '2'),\n",
       "                                                        ('@NRO-ID-CNPQ',\n",
       "                                                         '4328003866597876')]),\n",
       "                                           OrderedDict([('@NOME-COMPLETO-DO-AUTOR',\n",
       "                                                         'Afonso Paiva'),\n",
       "                                                        ('@NOME-PARA-CITACAO',\n",
       "                                                         'Paiva, A.'),\n",
       "                                                        ('@ORDEM-DE-AUTORIA',\n",
       "                                                         '3'),\n",
       "                                                        ('@NRO-ID-CNPQ',\n",
       "                                                         '9274817658247444')]),\n",
       "                                           OrderedDict([('@NOME-COMPLETO-DO-AUTOR',\n",
       "                                                         'Siome Goldenstein'),\n",
       "                                                        ('@NOME-PARA-CITACAO',\n",
       "                                                         'Goldenstein, S.'),\n",
       "                                                        ('@ORDEM-DE-AUTORIA',\n",
       "                                                         '4'),\n",
       "                                                        ('@NRO-ID-CNPQ',\n",
       "                                                         '5990690328653164')]),\n",
       "                                           OrderedDict([('@NOME-COMPLETO-DO-AUTOR',\n",
       "                                                         'Fabiano Petronetto'),\n",
       "                                                        ('@NOME-PARA-CITACAO',\n",
       "                                                         'Petronetto, F.'),\n",
       "                                                        ('@ORDEM-DE-AUTORIA',\n",
       "                                                         '5'),\n",
       "                                                        ('@NRO-ID-CNPQ',\n",
       "                                                         '4671884448020130')]),\n",
       "                                           OrderedDict([('@NOME-COMPLETO-DO-AUTOR',\n",
       "                                                         'Luis Gustavo Nonato'),\n",
       "                                                        ('@NOME-PARA-CITACAO',\n",
       "                                                         'Nonato, L. G.'),\n",
       "                                                        ('@ORDEM-DE-AUTORIA',\n",
       "                                                         '6'),\n",
       "                                                        ('@NRO-ID-CNPQ',\n",
       "                                                         '3794241680729178')])])]))]))])"
      ]
     },
     "execution_count": 288,
     "metadata": {},
     "output_type": "execute_result"
    }
   ],
   "source": [
    "cv['CURRICULO-VITAE']['PRODUCAO-BIBLIOGRAFICA']#['ARTIGOS-PUBLICADOS']['ARTIGO-PUBLICADO']"
   ]
  },
  {
   "cell_type": "code",
   "execution_count": null,
   "metadata": {},
   "outputs": [],
   "source": [
    "#"
   ]
  },
  {
   "cell_type": "code",
   "execution_count": null,
   "metadata": {},
   "outputs": [],
   "source": []
  },
  {
   "cell_type": "code",
   "execution_count": null,
   "metadata": {},
   "outputs": [],
   "source": []
  }
 ],
 "metadata": {
  "kernelspec": {
   "display_name": "Python3(datascience)",
   "language": "python",
   "name": "datascience"
  },
  "language_info": {
   "codemirror_mode": {
    "name": "ipython",
    "version": 3
   },
   "file_extension": ".py",
   "mimetype": "text/x-python",
   "name": "python",
   "nbconvert_exporter": "python",
   "pygments_lexer": "ipython3",
   "version": "3.6.8"
  }
 },
 "nbformat": 4,
 "nbformat_minor": 2
}
